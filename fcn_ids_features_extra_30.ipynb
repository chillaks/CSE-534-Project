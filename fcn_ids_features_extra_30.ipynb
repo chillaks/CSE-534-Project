{
  "nbformat": 4,
  "nbformat_minor": 0,
  "metadata": {
    "colab": {
      "name": "fcn.ipynb",
      "provenance": [],
      "include_colab_link": true
    },
    "kernelspec": {
      "name": "python3",
      "display_name": "Python 3"
    },
    "language_info": {
      "name": "python"
    },
    "accelerator": "GPU"
  },
  "cells": [
    {
      "cell_type": "markdown",
      "metadata": {
        "id": "view-in-github",
        "colab_type": "text"
      },
      "source": [
        "<a href=\"https://colab.research.google.com/github/chillaks/CSE-534-Project/blob/main/fcn_ids_features_extra_30.ipynb\" target=\"_parent\"><img src=\"https://colab.research.google.com/assets/colab-badge.svg\" alt=\"Open In Colab\"/></a>"
      ]
    },
    {
      "cell_type": "code",
      "metadata": {
        "id": "hemxKr_QJa5O"
      },
      "source": [
        "import pandas as pd\n",
        "import numpy as np\n",
        "import matplotlib.pyplot as plt\n",
        "import seaborn as sns\n",
        "import warnings\n",
        "from datetime import datetime, timedelta\n",
        "from sklearn import preprocessing\n",
        "from sklearn.model_selection import permutation_test_score\n",
        "from sklearn.model_selection import train_test_split\n",
        "from sklearn.linear_model import LinearRegression, Lasso, ElasticNet, LogisticRegression, Ridge\n",
        "from sklearn.ensemble import RandomForestRegressor, RandomForestClassifier\n",
        "from sklearn.svm import SVR\n",
        "from sklearn.pipeline import Pipeline\n",
        "from sklearn.model_selection import GridSearchCV\n",
        "from sklearn.metrics import classification_report, accuracy_score\n",
        "from sklearn.metrics import confusion_matrix\n",
        "from scipy.stats import ttest_ind\n",
        "from pandas.plotting import lag_plot, autocorrelation_plot\n",
        "from sklearn.metrics import make_scorer\n",
        "import matplotlib.patches as mpatches\n",
        "import matplotlib.pyplot as plt\n",
        "from sklearn.preprocessing import OneHotEncoder, MinMaxScaler, LabelEncoder, FunctionTransformer\n",
        "from sklearn.impute import SimpleImputer, KNNImputer\n",
        "from sklearn.compose import ColumnTransformer \n",
        "from xgboost.sklearn import XGBRegressor\n",
        "from sklearn.tree import DecisionTreeRegressor"
      ],
      "execution_count": null,
      "outputs": []
    },
    {
      "cell_type": "code",
      "metadata": {
        "colab": {
          "base_uri": "https://localhost:8080/"
        },
        "id": "gMyMsJMRTubm",
        "outputId": "6ebfe33d-215c-49f5-f41e-b022d0052a66"
      },
      "source": [
        "from google.colab import drive\n",
        "drive.mount('/content/drive')"
      ],
      "execution_count": null,
      "outputs": [
        {
          "output_type": "stream",
          "name": "stdout",
          "text": [
            "Mounted at /content/drive\n"
          ]
        }
      ]
    },
    {
      "cell_type": "code",
      "metadata": {
        "id": "1bvwOZqUGsKV"
      },
      "source": [
        "DATASETS_DIR = '/content/drive/My Drive/FCN/Project/datasets'\n",
        "PLOTS_DIR = '/content/drive/My Drive/FCN/Project/plots'"
      ],
      "execution_count": null,
      "outputs": []
    },
    {
      "cell_type": "code",
      "metadata": {
        "colab": {
          "base_uri": "https://localhost:8080/"
        },
        "id": "Bv4mhyFgTlMP",
        "outputId": "b29bf203-9327-486b-e8e8-d544b24a3e01"
      },
      "source": [
        "%cd '/content/drive/My Drive/FCN/Project/datasets' "
      ],
      "execution_count": null,
      "outputs": [
        {
          "output_type": "stream",
          "name": "stdout",
          "text": [
            "/content/drive/My Drive/FCN/Project/datasets\n"
          ]
        }
      ]
    },
    {
      "cell_type": "markdown",
      "metadata": {
        "id": "znmLKry7EbWq"
      },
      "source": [
        "# **Data Preprocessing**\n",
        "\n",
        "---\n",
        "\n"
      ]
    },
    {
      "cell_type": "code",
      "metadata": {
        "id": "jsFkK1mw0aHY"
      },
      "source": [
        "# Import the Train and Test Datasets. Additional information on all features/labels can be found at https://docs.google.com/spreadsheets/d/1oAx320Vo9Z6HrBrL6BcfLH6sh2zIk9EKCv2OlaMGmwY/edit#gid=0\n",
        "train_data = pd.read_csv('KDDTrain+.txt')\n",
        "test_data = pd.read_csv('KDDTest+.txt')\n",
        "\n",
        "train_data.drop(['difficulty_level'], axis=1, inplace=True)\n",
        "test_data.drop(['difficulty_level'], axis=1, inplace=True)"
      ],
      "execution_count": null,
      "outputs": []
    },
    {
      "cell_type": "code",
      "metadata": {
        "colab": {
          "base_uri": "https://localhost:8080/",
          "height": 226
        },
        "id": "8WLa9PI9tcM6",
        "outputId": "739358c5-2f88-4ee4-fed7-363435735c59"
      },
      "source": [
        "train_data.head()"
      ],
      "execution_count": null,
      "outputs": [
        {
          "output_type": "execute_result",
          "data": {
            "text/html": [
              "<div>\n",
              "<style scoped>\n",
              "    .dataframe tbody tr th:only-of-type {\n",
              "        vertical-align: middle;\n",
              "    }\n",
              "\n",
              "    .dataframe tbody tr th {\n",
              "        vertical-align: top;\n",
              "    }\n",
              "\n",
              "    .dataframe thead th {\n",
              "        text-align: right;\n",
              "    }\n",
              "</style>\n",
              "<table border=\"1\" class=\"dataframe\">\n",
              "  <thead>\n",
              "    <tr style=\"text-align: right;\">\n",
              "      <th></th>\n",
              "      <th>duration</th>\n",
              "      <th>protocol_type</th>\n",
              "      <th>service</th>\n",
              "      <th>flag</th>\n",
              "      <th>src_bytes</th>\n",
              "      <th>dst_bytes</th>\n",
              "      <th>land</th>\n",
              "      <th>wrong_fragment</th>\n",
              "      <th>urgent</th>\n",
              "      <th>hot</th>\n",
              "      <th>num_failed_logins</th>\n",
              "      <th>logged_in</th>\n",
              "      <th>num_compromised</th>\n",
              "      <th>root_shell</th>\n",
              "      <th>su_attempted</th>\n",
              "      <th>num_root</th>\n",
              "      <th>num_file_creations</th>\n",
              "      <th>num_shells</th>\n",
              "      <th>num_access_files</th>\n",
              "      <th>num_outbound_cmds</th>\n",
              "      <th>is_host_login</th>\n",
              "      <th>is_guest_login</th>\n",
              "      <th>count</th>\n",
              "      <th>srv_count</th>\n",
              "      <th>serror_rate</th>\n",
              "      <th>srv_serror_rate</th>\n",
              "      <th>rerror_rate</th>\n",
              "      <th>srv_rerror_rate</th>\n",
              "      <th>same_srv_rate</th>\n",
              "      <th>diff_srv_rate</th>\n",
              "      <th>srv_diff_host_rate</th>\n",
              "      <th>dst_host_count</th>\n",
              "      <th>dst_host_srv_count</th>\n",
              "      <th>dst_host_same_srv_rate</th>\n",
              "      <th>dst_host_diff_srv_rate</th>\n",
              "      <th>dst_host_same_src_port_rate</th>\n",
              "      <th>dst_host_srv_diff_host_rate</th>\n",
              "      <th>dst_host_serror_rate</th>\n",
              "      <th>dst_host_srv_serror_rate</th>\n",
              "      <th>dst_host_rerror_rate</th>\n",
              "      <th>dst_host_srv_rerror_rate</th>\n",
              "      <th>label</th>\n",
              "    </tr>\n",
              "  </thead>\n",
              "  <tbody>\n",
              "    <tr>\n",
              "      <th>0</th>\n",
              "      <td>0</td>\n",
              "      <td>tcp</td>\n",
              "      <td>ftp_data</td>\n",
              "      <td>SF</td>\n",
              "      <td>491</td>\n",
              "      <td>0</td>\n",
              "      <td>0</td>\n",
              "      <td>0</td>\n",
              "      <td>0</td>\n",
              "      <td>0</td>\n",
              "      <td>0</td>\n",
              "      <td>0</td>\n",
              "      <td>0</td>\n",
              "      <td>0</td>\n",
              "      <td>0</td>\n",
              "      <td>0</td>\n",
              "      <td>0</td>\n",
              "      <td>0</td>\n",
              "      <td>0</td>\n",
              "      <td>0</td>\n",
              "      <td>0</td>\n",
              "      <td>0</td>\n",
              "      <td>2</td>\n",
              "      <td>2</td>\n",
              "      <td>0.0</td>\n",
              "      <td>0.0</td>\n",
              "      <td>0.0</td>\n",
              "      <td>0.0</td>\n",
              "      <td>1.00</td>\n",
              "      <td>0.00</td>\n",
              "      <td>0.00</td>\n",
              "      <td>150</td>\n",
              "      <td>25</td>\n",
              "      <td>0.17</td>\n",
              "      <td>0.03</td>\n",
              "      <td>0.17</td>\n",
              "      <td>0.00</td>\n",
              "      <td>0.00</td>\n",
              "      <td>0.00</td>\n",
              "      <td>0.05</td>\n",
              "      <td>0.00</td>\n",
              "      <td>normal</td>\n",
              "    </tr>\n",
              "    <tr>\n",
              "      <th>1</th>\n",
              "      <td>0</td>\n",
              "      <td>udp</td>\n",
              "      <td>other</td>\n",
              "      <td>SF</td>\n",
              "      <td>146</td>\n",
              "      <td>0</td>\n",
              "      <td>0</td>\n",
              "      <td>0</td>\n",
              "      <td>0</td>\n",
              "      <td>0</td>\n",
              "      <td>0</td>\n",
              "      <td>0</td>\n",
              "      <td>0</td>\n",
              "      <td>0</td>\n",
              "      <td>0</td>\n",
              "      <td>0</td>\n",
              "      <td>0</td>\n",
              "      <td>0</td>\n",
              "      <td>0</td>\n",
              "      <td>0</td>\n",
              "      <td>0</td>\n",
              "      <td>0</td>\n",
              "      <td>13</td>\n",
              "      <td>1</td>\n",
              "      <td>0.0</td>\n",
              "      <td>0.0</td>\n",
              "      <td>0.0</td>\n",
              "      <td>0.0</td>\n",
              "      <td>0.08</td>\n",
              "      <td>0.15</td>\n",
              "      <td>0.00</td>\n",
              "      <td>255</td>\n",
              "      <td>1</td>\n",
              "      <td>0.00</td>\n",
              "      <td>0.60</td>\n",
              "      <td>0.88</td>\n",
              "      <td>0.00</td>\n",
              "      <td>0.00</td>\n",
              "      <td>0.00</td>\n",
              "      <td>0.00</td>\n",
              "      <td>0.00</td>\n",
              "      <td>normal</td>\n",
              "    </tr>\n",
              "    <tr>\n",
              "      <th>2</th>\n",
              "      <td>0</td>\n",
              "      <td>tcp</td>\n",
              "      <td>private</td>\n",
              "      <td>S0</td>\n",
              "      <td>0</td>\n",
              "      <td>0</td>\n",
              "      <td>0</td>\n",
              "      <td>0</td>\n",
              "      <td>0</td>\n",
              "      <td>0</td>\n",
              "      <td>0</td>\n",
              "      <td>0</td>\n",
              "      <td>0</td>\n",
              "      <td>0</td>\n",
              "      <td>0</td>\n",
              "      <td>0</td>\n",
              "      <td>0</td>\n",
              "      <td>0</td>\n",
              "      <td>0</td>\n",
              "      <td>0</td>\n",
              "      <td>0</td>\n",
              "      <td>0</td>\n",
              "      <td>123</td>\n",
              "      <td>6</td>\n",
              "      <td>1.0</td>\n",
              "      <td>1.0</td>\n",
              "      <td>0.0</td>\n",
              "      <td>0.0</td>\n",
              "      <td>0.05</td>\n",
              "      <td>0.07</td>\n",
              "      <td>0.00</td>\n",
              "      <td>255</td>\n",
              "      <td>26</td>\n",
              "      <td>0.10</td>\n",
              "      <td>0.05</td>\n",
              "      <td>0.00</td>\n",
              "      <td>0.00</td>\n",
              "      <td>1.00</td>\n",
              "      <td>1.00</td>\n",
              "      <td>0.00</td>\n",
              "      <td>0.00</td>\n",
              "      <td>neptune</td>\n",
              "    </tr>\n",
              "    <tr>\n",
              "      <th>3</th>\n",
              "      <td>0</td>\n",
              "      <td>tcp</td>\n",
              "      <td>http</td>\n",
              "      <td>SF</td>\n",
              "      <td>232</td>\n",
              "      <td>8153</td>\n",
              "      <td>0</td>\n",
              "      <td>0</td>\n",
              "      <td>0</td>\n",
              "      <td>0</td>\n",
              "      <td>0</td>\n",
              "      <td>1</td>\n",
              "      <td>0</td>\n",
              "      <td>0</td>\n",
              "      <td>0</td>\n",
              "      <td>0</td>\n",
              "      <td>0</td>\n",
              "      <td>0</td>\n",
              "      <td>0</td>\n",
              "      <td>0</td>\n",
              "      <td>0</td>\n",
              "      <td>0</td>\n",
              "      <td>5</td>\n",
              "      <td>5</td>\n",
              "      <td>0.2</td>\n",
              "      <td>0.2</td>\n",
              "      <td>0.0</td>\n",
              "      <td>0.0</td>\n",
              "      <td>1.00</td>\n",
              "      <td>0.00</td>\n",
              "      <td>0.00</td>\n",
              "      <td>30</td>\n",
              "      <td>255</td>\n",
              "      <td>1.00</td>\n",
              "      <td>0.00</td>\n",
              "      <td>0.03</td>\n",
              "      <td>0.04</td>\n",
              "      <td>0.03</td>\n",
              "      <td>0.01</td>\n",
              "      <td>0.00</td>\n",
              "      <td>0.01</td>\n",
              "      <td>normal</td>\n",
              "    </tr>\n",
              "    <tr>\n",
              "      <th>4</th>\n",
              "      <td>0</td>\n",
              "      <td>tcp</td>\n",
              "      <td>http</td>\n",
              "      <td>SF</td>\n",
              "      <td>199</td>\n",
              "      <td>420</td>\n",
              "      <td>0</td>\n",
              "      <td>0</td>\n",
              "      <td>0</td>\n",
              "      <td>0</td>\n",
              "      <td>0</td>\n",
              "      <td>1</td>\n",
              "      <td>0</td>\n",
              "      <td>0</td>\n",
              "      <td>0</td>\n",
              "      <td>0</td>\n",
              "      <td>0</td>\n",
              "      <td>0</td>\n",
              "      <td>0</td>\n",
              "      <td>0</td>\n",
              "      <td>0</td>\n",
              "      <td>0</td>\n",
              "      <td>30</td>\n",
              "      <td>32</td>\n",
              "      <td>0.0</td>\n",
              "      <td>0.0</td>\n",
              "      <td>0.0</td>\n",
              "      <td>0.0</td>\n",
              "      <td>1.00</td>\n",
              "      <td>0.00</td>\n",
              "      <td>0.09</td>\n",
              "      <td>255</td>\n",
              "      <td>255</td>\n",
              "      <td>1.00</td>\n",
              "      <td>0.00</td>\n",
              "      <td>0.00</td>\n",
              "      <td>0.00</td>\n",
              "      <td>0.00</td>\n",
              "      <td>0.00</td>\n",
              "      <td>0.00</td>\n",
              "      <td>0.00</td>\n",
              "      <td>normal</td>\n",
              "    </tr>\n",
              "  </tbody>\n",
              "</table>\n",
              "</div>"
            ],
            "text/plain": [
              "   duration protocol_type  ... dst_host_srv_rerror_rate    label\n",
              "0         0           tcp  ...                     0.00   normal\n",
              "1         0           udp  ...                     0.00   normal\n",
              "2         0           tcp  ...                     0.00  neptune\n",
              "3         0           tcp  ...                     0.01   normal\n",
              "4         0           tcp  ...                     0.00   normal\n",
              "\n",
              "[5 rows x 42 columns]"
            ]
          },
          "metadata": {},
          "execution_count": 9
        }
      ]
    },
    {
      "cell_type": "code",
      "metadata": {
        "id": "ul5mC2EL4s9f"
      },
      "source": [
        "discrete = ['Wrong Fragment',\n",
        "'Urgent',\n",
        "'Count',\n",
        "'Srv Count',\n",
        "'Serror Rate',\n",
        "'Srv Serror Rate',\n",
        "'Rerror Rate',\n",
        "'Srv Rerror Rate',\n",
        "'Same Srv Rate',\n",
        "'Diff Srv Rate',\n",
        "'Srv Diff Host Rate',\n",
        "'Dst Host Count',\n",
        "'Dst Host Srv Count',\n",
        "'Dst Host Same Srv Rate',\n",
        "'Dst Host Diff Srv Rate',\n",
        "'Dst Host Same Src Port Rate',\n",
        "'Dst Host Srv Diff Host Rate',\n",
        "'Dst Host Serror Rate',\n",
        "'Dst Host Srv Serror Rate',\n",
        "'Dst Host Rerror Rate',\n",
        "'Dst Host Srv Rerror Rate',\n",
        "'Su Attempted']\n",
        "\n",
        "discrete = [ '_'.join(col.lower().split()) for col in discrete ]\n"
      ],
      "execution_count": null,
      "outputs": []
    },
    {
      "cell_type": "code",
      "metadata": {
        "id": "zon3E27-5HFt"
      },
      "source": [
        "continuous = ['Duration',\n",
        "'Src Bytes',\n",
        "'Dst Bytes',\n",
        "'Hot',\n",
        "'Num Failed Logins',\n",
        "'Num Compromised',\n",
        "'Num Root',\n",
        "'Num File Creations',\n",
        "'Num Shells',\n",
        "'Num Access Files',\n",
        "'Num Outbound Cmds']\n",
        "\n",
        "continuous = [ '_'.join(col.lower().split()) for col in continuous ]\n"
      ],
      "execution_count": null,
      "outputs": []
    },
    {
      "cell_type": "code",
      "metadata": {
        "id": "uIKzVHEY5h11"
      },
      "source": [
        "dropping_nulls =  train_data[continuous + discrete].columns[train_data[continuous + discrete].describe(percentiles=[0.8]).loc['80%'] == 0].to_list()"
      ],
      "execution_count": null,
      "outputs": []
    },
    {
      "cell_type": "code",
      "metadata": {
        "id": "4tJLNp706g8B"
      },
      "source": [
        "train_data.drop(columns=dropping_nulls, inplace= True)"
      ],
      "execution_count": null,
      "outputs": []
    },
    {
      "cell_type": "code",
      "metadata": {
        "id": "926-wqcW6z6_"
      },
      "source": [
        "continuous = [ x for x in continuous if x not in dropping_nulls ]\n",
        "discrete = [ x for x in discrete if x not in dropping_nulls ]"
      ],
      "execution_count": null,
      "outputs": []
    },
    {
      "cell_type": "code",
      "metadata": {
        "id": "A-Mo8vk56qkW"
      },
      "source": [
        "from sklearn.feature_selection import f_classif, SelectKBest, chi2"
      ],
      "execution_count": null,
      "outputs": []
    },
    {
      "cell_type": "code",
      "metadata": {
        "colab": {
          "base_uri": "https://localhost:8080/"
        },
        "id": "xIbNla9GDshY",
        "outputId": "7a8715f0-19ea-44e5-87ff-e561b704474a"
      },
      "source": [
        "discrete"
      ],
      "execution_count": null,
      "outputs": [
        {
          "output_type": "execute_result",
          "data": {
            "text/plain": [
              "['count',\n",
              " 'srv_count',\n",
              " 'serror_rate',\n",
              " 'srv_serror_rate',\n",
              " 'same_srv_rate',\n",
              " 'diff_srv_rate',\n",
              " 'srv_diff_host_rate',\n",
              " 'dst_host_count',\n",
              " 'dst_host_srv_count',\n",
              " 'dst_host_same_srv_rate',\n",
              " 'dst_host_diff_srv_rate',\n",
              " 'dst_host_same_src_port_rate',\n",
              " 'dst_host_srv_diff_host_rate',\n",
              " 'dst_host_serror_rate',\n",
              " 'dst_host_srv_serror_rate']"
            ]
          },
          "metadata": {},
          "execution_count": 16
        }
      ]
    },
    {
      "cell_type": "code",
      "metadata": {
        "colab": {
          "base_uri": "https://localhost:8080/"
        },
        "id": "K94XVyzU6xMQ",
        "outputId": "a68e1afb-6051-40a6-c7f4-072e57a78800"
      },
      "source": [
        "f_classif(train_data[continuous+discrete], train_data['label'])"
      ],
      "execution_count": null,
      "outputs": [
        {
          "output_type": "execute_result",
          "data": {
            "text/plain": [
              "(array([8.91948878e+00, 5.00634230e+00, 7.37936318e+03, 5.97905231e+03,\n",
              "        1.57859899e+04, 1.59564520e+04, 4.02329202e+04, 3.19735544e+03,\n",
              "        2.13717004e+03, 3.26437211e+03, 7.91189053e+03, 1.14369015e+04,\n",
              "        4.49942779e+03, 5.40108490e+03, 9.84731319e+03, 1.60884601e+04,\n",
              "        1.67159801e+04]),\n",
              " array([6.60614262e-30, 1.05902853e-13, 0.00000000e+00, 0.00000000e+00,\n",
              "        0.00000000e+00, 0.00000000e+00, 0.00000000e+00, 0.00000000e+00,\n",
              "        0.00000000e+00, 0.00000000e+00, 0.00000000e+00, 0.00000000e+00,\n",
              "        0.00000000e+00, 0.00000000e+00, 0.00000000e+00, 0.00000000e+00,\n",
              "        0.00000000e+00]))"
            ]
          },
          "metadata": {},
          "execution_count": 17
        }
      ]
    },
    {
      "cell_type": "code",
      "metadata": {
        "id": "XRrqFvzDDUVx"
      },
      "source": [
        "fs = SelectKBest(score_func=f_classif, k=8)"
      ],
      "execution_count": null,
      "outputs": []
    },
    {
      "cell_type": "code",
      "metadata": {
        "colab": {
          "base_uri": "https://localhost:8080/"
        },
        "id": "X9xJsjyuD2Qh",
        "outputId": "09aabb4d-3ea2-4aa7-8e2f-ebb6a80d9798"
      },
      "source": [
        "train_selected = fs.fit_transform(train_data[discrete], train_data['label'])\n",
        "train_selected.shape"
      ],
      "execution_count": null,
      "outputs": [
        {
          "output_type": "execute_result",
          "data": {
            "text/plain": [
              "(125973, 8)"
            ]
          },
          "metadata": {},
          "execution_count": 19
        }
      ]
    },
    {
      "cell_type": "code",
      "metadata": {
        "colab": {
          "base_uri": "https://localhost:8080/"
        },
        "id": "dnNwBx-AEU3s",
        "outputId": "2ab07f19-2f31-4506-d69f-edf3a8b6dc1c"
      },
      "source": [
        "train_selected"
      ],
      "execution_count": null,
      "outputs": [
        {
          "output_type": "execute_result",
          "data": {
            "text/plain": [
              "array([[0.  , 0.  , 1.  , ..., 0.  , 0.  , 0.  ],\n",
              "       [0.  , 0.  , 0.08, ..., 0.  , 0.  , 0.  ],\n",
              "       [1.  , 1.  , 0.05, ..., 0.  , 1.  , 1.  ],\n",
              "       ...,\n",
              "       [0.  , 0.  , 1.  , ..., 0.  , 0.72, 0.  ],\n",
              "       [1.  , 1.  , 0.06, ..., 0.  , 1.  , 1.  ],\n",
              "       [0.  , 0.  , 1.  , ..., 0.  , 0.  , 0.  ]])"
            ]
          },
          "metadata": {},
          "execution_count": 20
        }
      ]
    },
    {
      "cell_type": "code",
      "metadata": {
        "colab": {
          "base_uri": "https://localhost:8080/"
        },
        "id": "eiQfa8yYsAVZ",
        "outputId": "e3f4fd9a-cf0f-46eb-c216-a2c65387b060"
      },
      "source": [
        "pd.Series(fs.scores_, index=discrete).sort_values(ascending = False)"
      ],
      "execution_count": null,
      "outputs": [
        {
          "output_type": "execute_result",
          "data": {
            "text/plain": [
              "same_srv_rate                  40232.920225\n",
              "dst_host_srv_serror_rate       16715.980137\n",
              "dst_host_serror_rate           16088.460097\n",
              "srv_serror_rate                15956.452007\n",
              "serror_rate                    15785.989942\n",
              "dst_host_same_srv_rate         11436.901521\n",
              "dst_host_srv_diff_host_rate     9847.313194\n",
              "dst_host_srv_count              7911.890531\n",
              "count                           7379.363178\n",
              "srv_count                       5979.052315\n",
              "dst_host_same_src_port_rate     5401.084902\n",
              "dst_host_diff_srv_rate          4499.427790\n",
              "dst_host_count                  3264.372113\n",
              "diff_srv_rate                   3197.355436\n",
              "srv_diff_host_rate              2137.170039\n",
              "dtype: float64"
            ]
          },
          "metadata": {},
          "execution_count": 21
        }
      ]
    },
    {
      "cell_type": "code",
      "metadata": {
        "colab": {
          "base_uri": "https://localhost:8080/"
        },
        "id": "6wiHnrN4EWO4",
        "outputId": "3e3bea3f-807a-4752-bb4e-0753248855e6"
      },
      "source": [
        "top_discrete =  pd.Series(fs.scores_, index=discrete).sort_values(ascending = False).index.to_list()[:10]\n",
        "top_discrete"
      ],
      "execution_count": null,
      "outputs": [
        {
          "output_type": "execute_result",
          "data": {
            "text/plain": [
              "['same_srv_rate',\n",
              " 'dst_host_srv_serror_rate',\n",
              " 'dst_host_serror_rate',\n",
              " 'srv_serror_rate',\n",
              " 'serror_rate',\n",
              " 'dst_host_same_srv_rate',\n",
              " 'dst_host_srv_diff_host_rate',\n",
              " 'dst_host_srv_count',\n",
              " 'count',\n",
              " 'srv_count']"
            ]
          },
          "metadata": {},
          "execution_count": 22
        }
      ]
    },
    {
      "cell_type": "code",
      "metadata": {
        "colab": {
          "base_uri": "https://localhost:8080/"
        },
        "id": "oJqPJ70hve6_",
        "outputId": "859dcdff-b317-458a-a9c6-392bb83c316f"
      },
      "source": [
        "continuous"
      ],
      "execution_count": null,
      "outputs": [
        {
          "output_type": "execute_result",
          "data": {
            "text/plain": [
              "['src_bytes', 'dst_bytes']"
            ]
          },
          "metadata": {},
          "execution_count": 23
        }
      ]
    },
    {
      "cell_type": "code",
      "metadata": {
        "id": "W6R_Rj2nxHyz"
      },
      "source": [
        "top_15_service = train_data.service.value_counts().index.to_list()[:15]"
      ],
      "execution_count": null,
      "outputs": []
    },
    {
      "cell_type": "code",
      "metadata": {
        "colab": {
          "base_uri": "https://localhost:8080/"
        },
        "id": "jyQehi1txSHN",
        "outputId": "448bdc12-5ca3-4eb4-9759-1e755215720d"
      },
      "source": [
        "train_data[train_data['service'].isin(top_15_service)].shape"
      ],
      "execution_count": null,
      "outputs": [
        {
          "output_type": "execute_result",
          "data": {
            "text/plain": [
              "(106634, 26)"
            ]
          },
          "metadata": {},
          "execution_count": 25
        }
      ]
    },
    {
      "cell_type": "code",
      "metadata": {
        "colab": {
          "base_uri": "https://localhost:8080/",
          "height": 444
        },
        "id": "485_TtVAzVa3",
        "outputId": "5965f783-e50e-4918-903c-0a35eaa99d23"
      },
      "source": [
        "train_data"
      ],
      "execution_count": null,
      "outputs": [
        {
          "output_type": "execute_result",
          "data": {
            "text/html": [
              "<div>\n",
              "<style scoped>\n",
              "    .dataframe tbody tr th:only-of-type {\n",
              "        vertical-align: middle;\n",
              "    }\n",
              "\n",
              "    .dataframe tbody tr th {\n",
              "        vertical-align: top;\n",
              "    }\n",
              "\n",
              "    .dataframe thead th {\n",
              "        text-align: right;\n",
              "    }\n",
              "</style>\n",
              "<table border=\"1\" class=\"dataframe\">\n",
              "  <thead>\n",
              "    <tr style=\"text-align: right;\">\n",
              "      <th></th>\n",
              "      <th>protocol_type</th>\n",
              "      <th>service</th>\n",
              "      <th>flag</th>\n",
              "      <th>src_bytes</th>\n",
              "      <th>dst_bytes</th>\n",
              "      <th>land</th>\n",
              "      <th>logged_in</th>\n",
              "      <th>root_shell</th>\n",
              "      <th>is_host_login</th>\n",
              "      <th>is_guest_login</th>\n",
              "      <th>count</th>\n",
              "      <th>srv_count</th>\n",
              "      <th>serror_rate</th>\n",
              "      <th>srv_serror_rate</th>\n",
              "      <th>same_srv_rate</th>\n",
              "      <th>diff_srv_rate</th>\n",
              "      <th>srv_diff_host_rate</th>\n",
              "      <th>dst_host_count</th>\n",
              "      <th>dst_host_srv_count</th>\n",
              "      <th>dst_host_same_srv_rate</th>\n",
              "      <th>dst_host_diff_srv_rate</th>\n",
              "      <th>dst_host_same_src_port_rate</th>\n",
              "      <th>dst_host_srv_diff_host_rate</th>\n",
              "      <th>dst_host_serror_rate</th>\n",
              "      <th>dst_host_srv_serror_rate</th>\n",
              "      <th>label</th>\n",
              "    </tr>\n",
              "  </thead>\n",
              "  <tbody>\n",
              "    <tr>\n",
              "      <th>0</th>\n",
              "      <td>tcp</td>\n",
              "      <td>ftp_data</td>\n",
              "      <td>SF</td>\n",
              "      <td>491</td>\n",
              "      <td>0</td>\n",
              "      <td>0</td>\n",
              "      <td>0</td>\n",
              "      <td>0</td>\n",
              "      <td>0</td>\n",
              "      <td>0</td>\n",
              "      <td>2</td>\n",
              "      <td>2</td>\n",
              "      <td>0.0</td>\n",
              "      <td>0.0</td>\n",
              "      <td>1.00</td>\n",
              "      <td>0.00</td>\n",
              "      <td>0.00</td>\n",
              "      <td>150</td>\n",
              "      <td>25</td>\n",
              "      <td>0.17</td>\n",
              "      <td>0.03</td>\n",
              "      <td>0.17</td>\n",
              "      <td>0.00</td>\n",
              "      <td>0.00</td>\n",
              "      <td>0.00</td>\n",
              "      <td>normal</td>\n",
              "    </tr>\n",
              "    <tr>\n",
              "      <th>1</th>\n",
              "      <td>udp</td>\n",
              "      <td>other</td>\n",
              "      <td>SF</td>\n",
              "      <td>146</td>\n",
              "      <td>0</td>\n",
              "      <td>0</td>\n",
              "      <td>0</td>\n",
              "      <td>0</td>\n",
              "      <td>0</td>\n",
              "      <td>0</td>\n",
              "      <td>13</td>\n",
              "      <td>1</td>\n",
              "      <td>0.0</td>\n",
              "      <td>0.0</td>\n",
              "      <td>0.08</td>\n",
              "      <td>0.15</td>\n",
              "      <td>0.00</td>\n",
              "      <td>255</td>\n",
              "      <td>1</td>\n",
              "      <td>0.00</td>\n",
              "      <td>0.60</td>\n",
              "      <td>0.88</td>\n",
              "      <td>0.00</td>\n",
              "      <td>0.00</td>\n",
              "      <td>0.00</td>\n",
              "      <td>normal</td>\n",
              "    </tr>\n",
              "    <tr>\n",
              "      <th>2</th>\n",
              "      <td>tcp</td>\n",
              "      <td>private</td>\n",
              "      <td>S0</td>\n",
              "      <td>0</td>\n",
              "      <td>0</td>\n",
              "      <td>0</td>\n",
              "      <td>0</td>\n",
              "      <td>0</td>\n",
              "      <td>0</td>\n",
              "      <td>0</td>\n",
              "      <td>123</td>\n",
              "      <td>6</td>\n",
              "      <td>1.0</td>\n",
              "      <td>1.0</td>\n",
              "      <td>0.05</td>\n",
              "      <td>0.07</td>\n",
              "      <td>0.00</td>\n",
              "      <td>255</td>\n",
              "      <td>26</td>\n",
              "      <td>0.10</td>\n",
              "      <td>0.05</td>\n",
              "      <td>0.00</td>\n",
              "      <td>0.00</td>\n",
              "      <td>1.00</td>\n",
              "      <td>1.00</td>\n",
              "      <td>neptune</td>\n",
              "    </tr>\n",
              "    <tr>\n",
              "      <th>3</th>\n",
              "      <td>tcp</td>\n",
              "      <td>http</td>\n",
              "      <td>SF</td>\n",
              "      <td>232</td>\n",
              "      <td>8153</td>\n",
              "      <td>0</td>\n",
              "      <td>1</td>\n",
              "      <td>0</td>\n",
              "      <td>0</td>\n",
              "      <td>0</td>\n",
              "      <td>5</td>\n",
              "      <td>5</td>\n",
              "      <td>0.2</td>\n",
              "      <td>0.2</td>\n",
              "      <td>1.00</td>\n",
              "      <td>0.00</td>\n",
              "      <td>0.00</td>\n",
              "      <td>30</td>\n",
              "      <td>255</td>\n",
              "      <td>1.00</td>\n",
              "      <td>0.00</td>\n",
              "      <td>0.03</td>\n",
              "      <td>0.04</td>\n",
              "      <td>0.03</td>\n",
              "      <td>0.01</td>\n",
              "      <td>normal</td>\n",
              "    </tr>\n",
              "    <tr>\n",
              "      <th>4</th>\n",
              "      <td>tcp</td>\n",
              "      <td>http</td>\n",
              "      <td>SF</td>\n",
              "      <td>199</td>\n",
              "      <td>420</td>\n",
              "      <td>0</td>\n",
              "      <td>1</td>\n",
              "      <td>0</td>\n",
              "      <td>0</td>\n",
              "      <td>0</td>\n",
              "      <td>30</td>\n",
              "      <td>32</td>\n",
              "      <td>0.0</td>\n",
              "      <td>0.0</td>\n",
              "      <td>1.00</td>\n",
              "      <td>0.00</td>\n",
              "      <td>0.09</td>\n",
              "      <td>255</td>\n",
              "      <td>255</td>\n",
              "      <td>1.00</td>\n",
              "      <td>0.00</td>\n",
              "      <td>0.00</td>\n",
              "      <td>0.00</td>\n",
              "      <td>0.00</td>\n",
              "      <td>0.00</td>\n",
              "      <td>normal</td>\n",
              "    </tr>\n",
              "    <tr>\n",
              "      <th>...</th>\n",
              "      <td>...</td>\n",
              "      <td>...</td>\n",
              "      <td>...</td>\n",
              "      <td>...</td>\n",
              "      <td>...</td>\n",
              "      <td>...</td>\n",
              "      <td>...</td>\n",
              "      <td>...</td>\n",
              "      <td>...</td>\n",
              "      <td>...</td>\n",
              "      <td>...</td>\n",
              "      <td>...</td>\n",
              "      <td>...</td>\n",
              "      <td>...</td>\n",
              "      <td>...</td>\n",
              "      <td>...</td>\n",
              "      <td>...</td>\n",
              "      <td>...</td>\n",
              "      <td>...</td>\n",
              "      <td>...</td>\n",
              "      <td>...</td>\n",
              "      <td>...</td>\n",
              "      <td>...</td>\n",
              "      <td>...</td>\n",
              "      <td>...</td>\n",
              "      <td>...</td>\n",
              "    </tr>\n",
              "    <tr>\n",
              "      <th>125968</th>\n",
              "      <td>tcp</td>\n",
              "      <td>private</td>\n",
              "      <td>S0</td>\n",
              "      <td>0</td>\n",
              "      <td>0</td>\n",
              "      <td>0</td>\n",
              "      <td>0</td>\n",
              "      <td>0</td>\n",
              "      <td>0</td>\n",
              "      <td>0</td>\n",
              "      <td>184</td>\n",
              "      <td>25</td>\n",
              "      <td>1.0</td>\n",
              "      <td>1.0</td>\n",
              "      <td>0.14</td>\n",
              "      <td>0.06</td>\n",
              "      <td>0.00</td>\n",
              "      <td>255</td>\n",
              "      <td>25</td>\n",
              "      <td>0.10</td>\n",
              "      <td>0.06</td>\n",
              "      <td>0.00</td>\n",
              "      <td>0.00</td>\n",
              "      <td>1.00</td>\n",
              "      <td>1.00</td>\n",
              "      <td>neptune</td>\n",
              "    </tr>\n",
              "    <tr>\n",
              "      <th>125969</th>\n",
              "      <td>udp</td>\n",
              "      <td>private</td>\n",
              "      <td>SF</td>\n",
              "      <td>105</td>\n",
              "      <td>145</td>\n",
              "      <td>0</td>\n",
              "      <td>0</td>\n",
              "      <td>0</td>\n",
              "      <td>0</td>\n",
              "      <td>0</td>\n",
              "      <td>2</td>\n",
              "      <td>2</td>\n",
              "      <td>0.0</td>\n",
              "      <td>0.0</td>\n",
              "      <td>1.00</td>\n",
              "      <td>0.00</td>\n",
              "      <td>0.00</td>\n",
              "      <td>255</td>\n",
              "      <td>244</td>\n",
              "      <td>0.96</td>\n",
              "      <td>0.01</td>\n",
              "      <td>0.01</td>\n",
              "      <td>0.00</td>\n",
              "      <td>0.00</td>\n",
              "      <td>0.00</td>\n",
              "      <td>normal</td>\n",
              "    </tr>\n",
              "    <tr>\n",
              "      <th>125970</th>\n",
              "      <td>tcp</td>\n",
              "      <td>smtp</td>\n",
              "      <td>SF</td>\n",
              "      <td>2231</td>\n",
              "      <td>384</td>\n",
              "      <td>0</td>\n",
              "      <td>1</td>\n",
              "      <td>0</td>\n",
              "      <td>0</td>\n",
              "      <td>0</td>\n",
              "      <td>1</td>\n",
              "      <td>1</td>\n",
              "      <td>0.0</td>\n",
              "      <td>0.0</td>\n",
              "      <td>1.00</td>\n",
              "      <td>0.00</td>\n",
              "      <td>0.00</td>\n",
              "      <td>255</td>\n",
              "      <td>30</td>\n",
              "      <td>0.12</td>\n",
              "      <td>0.06</td>\n",
              "      <td>0.00</td>\n",
              "      <td>0.00</td>\n",
              "      <td>0.72</td>\n",
              "      <td>0.00</td>\n",
              "      <td>normal</td>\n",
              "    </tr>\n",
              "    <tr>\n",
              "      <th>125971</th>\n",
              "      <td>tcp</td>\n",
              "      <td>klogin</td>\n",
              "      <td>S0</td>\n",
              "      <td>0</td>\n",
              "      <td>0</td>\n",
              "      <td>0</td>\n",
              "      <td>0</td>\n",
              "      <td>0</td>\n",
              "      <td>0</td>\n",
              "      <td>0</td>\n",
              "      <td>144</td>\n",
              "      <td>8</td>\n",
              "      <td>1.0</td>\n",
              "      <td>1.0</td>\n",
              "      <td>0.06</td>\n",
              "      <td>0.05</td>\n",
              "      <td>0.00</td>\n",
              "      <td>255</td>\n",
              "      <td>8</td>\n",
              "      <td>0.03</td>\n",
              "      <td>0.05</td>\n",
              "      <td>0.00</td>\n",
              "      <td>0.00</td>\n",
              "      <td>1.00</td>\n",
              "      <td>1.00</td>\n",
              "      <td>neptune</td>\n",
              "    </tr>\n",
              "    <tr>\n",
              "      <th>125972</th>\n",
              "      <td>tcp</td>\n",
              "      <td>ftp_data</td>\n",
              "      <td>SF</td>\n",
              "      <td>151</td>\n",
              "      <td>0</td>\n",
              "      <td>0</td>\n",
              "      <td>1</td>\n",
              "      <td>0</td>\n",
              "      <td>0</td>\n",
              "      <td>0</td>\n",
              "      <td>1</td>\n",
              "      <td>1</td>\n",
              "      <td>0.0</td>\n",
              "      <td>0.0</td>\n",
              "      <td>1.00</td>\n",
              "      <td>0.00</td>\n",
              "      <td>0.00</td>\n",
              "      <td>255</td>\n",
              "      <td>77</td>\n",
              "      <td>0.30</td>\n",
              "      <td>0.03</td>\n",
              "      <td>0.30</td>\n",
              "      <td>0.00</td>\n",
              "      <td>0.00</td>\n",
              "      <td>0.00</td>\n",
              "      <td>normal</td>\n",
              "    </tr>\n",
              "  </tbody>\n",
              "</table>\n",
              "<p>125973 rows × 26 columns</p>\n",
              "</div>"
            ],
            "text/plain": [
              "       protocol_type   service  ... dst_host_srv_serror_rate    label\n",
              "0                tcp  ftp_data  ...                     0.00   normal\n",
              "1                udp     other  ...                     0.00   normal\n",
              "2                tcp   private  ...                     1.00  neptune\n",
              "3                tcp      http  ...                     0.01   normal\n",
              "4                tcp      http  ...                     0.00   normal\n",
              "...              ...       ...  ...                      ...      ...\n",
              "125968           tcp   private  ...                     1.00  neptune\n",
              "125969           udp   private  ...                     0.00   normal\n",
              "125970           tcp      smtp  ...                     0.00   normal\n",
              "125971           tcp    klogin  ...                     1.00  neptune\n",
              "125972           tcp  ftp_data  ...                     0.00   normal\n",
              "\n",
              "[125973 rows x 26 columns]"
            ]
          },
          "metadata": {},
          "execution_count": 26
        }
      ]
    },
    {
      "cell_type": "code",
      "metadata": {
        "id": "i71TFE2J3C0p"
      },
      "source": [
        "# The above attack sub-classes can be categorized into 4 main classes: DoS, Probe, R2L and U2R. \n",
        "# More details on this classification can be found at https://towardsdatascience.com/a-deeper-dive-into-the-nsl-kdd-data-set-15c753364657\n",
        "def label_preprocessing(data):\n",
        "  data['label'].replace(['apache2','back','land','neptune','mailbomb','pod','processtable','smurf','teardrop',\n",
        "                              'udpstorm','worm'], 'DoS', inplace=True)\n",
        "  data['label'].replace(['ipsweep','mscan','nmap','portsweep','saint','satan'], 'Probe', inplace=True)\n",
        "  data['label'].replace(['ftp_write','guess_passwd','httptunnel','imap','multihop','named','phf','sendmail',\n",
        "          'snmpgetattack','snmpguess','spy','warezclient','warezmaster','xlock','xsnoop'], 'R2L', inplace=True)\n",
        "  data['label'].replace(['buffer_overflow','loadmodule','perl','ps','rootkit','sqlattack','xterm'], 'U2R',inplace=True)\n",
        "\n",
        "\n",
        "label_preprocessing(train_data)\n",
        "label_preprocessing(test_data)"
      ],
      "execution_count": null,
      "outputs": []
    },
    {
      "cell_type": "code",
      "metadata": {
        "id": "tasM-I9uVaQc"
      },
      "source": [
        "train_data = train_data[train_data['label'] != 'U2R']\n",
        "test_data =test_data[test_data['label'] != 'U2R']"
      ],
      "execution_count": null,
      "outputs": []
    },
    {
      "cell_type": "markdown",
      "metadata": {
        "id": "IrjT2h57TcBf"
      },
      "source": [
        "# **Classification:**\n",
        "\n",
        "---\n",
        "\n",
        "\n",
        "\n",
        "\n"
      ]
    },
    {
      "cell_type": "markdown",
      "metadata": {
        "id": "m0T0-wGiJTxw"
      },
      "source": [
        "## 1.   Binary Classification"
      ]
    },
    {
      "cell_type": "code",
      "metadata": {
        "id": "lBw-p5UDvAzp"
      },
      "source": [
        "binary_data = train_data.copy()\n",
        "def set_binary_label(label):\n",
        "  return 'normal' if label == 'normal' else 'attack'\n",
        "binary_label = pd.DataFrame(train_data['label'].map(set_binary_label))\n",
        "binary_data['label'] = binary_label\n",
        "label_map = { 'normal' : 0, 'attack': 1}\n",
        "binary_data['encoded_label'] = binary_data.label.apply(lambda x : label_map[x])"
      ],
      "execution_count": null,
      "outputs": []
    },
    {
      "cell_type": "code",
      "metadata": {
        "colab": {
          "base_uri": "https://localhost:8080/",
          "height": 382
        },
        "id": "8LZJPP-DFD03",
        "outputId": "6a97fad1-060f-4985-af3f-9696966695f2"
      },
      "source": [
        "# Plot the binary classification distribution\n",
        "def plot_bin_label_dist(label):\n",
        "  plt.figure(figsize = (6,8))\n",
        "  plt.pie(label.value_counts(), labels = label.unique(), autopct='%0.2f%%')\n",
        "  plt.title(\"Distribution of Normal vs Attack Labels\")\n",
        "  plt.legend()\n",
        "  plt.savefig('{}/binary_labels.png'.format(PLOTS_DIR))\n",
        "  plt.show()\n",
        "plot_bin_label_dist(binary_data['label'])"
      ],
      "execution_count": null,
      "outputs": [
        {
          "output_type": "display_data",
          "data": {
            "image/png": "[encoded data removed]",
            "text/plain": [
              "<Figure size 432x576 with 1 Axes>"
            ]
          },
          "metadata": {}
        }
      ]
    },
    {
      "cell_type": "markdown",
      "metadata": {
        "id": "NiCl6EwAJh_9"
      },
      "source": [
        "## 2.   Multi-Class Classification"
      ]
    },
    {
      "cell_type": "code",
      "metadata": {
        "id": "auP_mEuiJml4"
      },
      "source": [
        "# We then perform multi-class classification, where we bin the sample set into all possible unique values \n",
        "# of the label attribute, i.e, normal, DoS, Probe, R2L and U2R\n",
        "# Create a clone of original dataset with multi labels\n",
        "multi_data = train_data.copy()\n",
        "# Encoding labels: 0 => DoS, 1 => Probe, 2 => R2L, 3 => normal\n",
        "multi_le = preprocessing.LabelEncoder()\n",
        "multi_data['encoded_label'] = pd.DataFrame(multi_data['label']).apply(multi_le.fit_transform)\n",
        "test_data['encoded_label'] = multi_le.transform(test_data['label'])"
      ],
      "execution_count": null,
      "outputs": []
    },
    {
      "cell_type": "code",
      "metadata": {
        "colab": {
          "base_uri": "https://localhost:8080/"
        },
        "id": "F50aV27eQ7uw",
        "outputId": "15c04dc9-9a90-4a1d-a857-020b4e09bed8"
      },
      "source": [
        "multi_data.groupby('label').encoded_label.mean()"
      ],
      "execution_count": null,
      "outputs": [
        {
          "output_type": "execute_result",
          "data": {
            "text/plain": [
              "label\n",
              "DoS       0\n",
              "Probe     1\n",
              "R2L       2\n",
              "normal    3\n",
              "Name: encoded_label, dtype: int64"
            ]
          },
          "metadata": {},
          "execution_count": 269
        }
      ]
    },
    {
      "cell_type": "code",
      "metadata": {
        "colab": {
          "base_uri": "https://localhost:8080/"
        },
        "id": "xmtOob2URDsM",
        "outputId": "e431e867-06cd-4856-8d43-b856a1347ad2"
      },
      "source": [
        "test_data.groupby('label').encoded_label.mean()"
      ],
      "execution_count": null,
      "outputs": [
        {
          "output_type": "execute_result",
          "data": {
            "text/plain": [
              "label\n",
              "DoS       0\n",
              "Probe     1\n",
              "R2L       2\n",
              "normal    3\n",
              "Name: encoded_label, dtype: int64"
            ]
          },
          "metadata": {},
          "execution_count": 25
        }
      ]
    },
    {
      "cell_type": "code",
      "metadata": {
        "colab": {
          "base_uri": "https://localhost:8080/"
        },
        "id": "Da1wYMvBRaiI",
        "outputId": "06a868df-497f-4651-f4d7-6ecc22dd7889"
      },
      "source": [
        "multi_data.encoded_label.value_counts()"
      ],
      "execution_count": null,
      "outputs": [
        {
          "output_type": "execute_result",
          "data": {
            "text/plain": [
              "3    66701\n",
              "0    37855\n",
              "1    11290\n",
              "2      993\n",
              "Name: encoded_label, dtype: int64"
            ]
          },
          "metadata": {},
          "execution_count": 37
        }
      ]
    },
    {
      "cell_type": "code",
      "metadata": {
        "colab": {
          "base_uri": "https://localhost:8080/",
          "height": 382
        },
        "id": "SE3bJHgfMBIs",
        "outputId": "20e40b05-5cf8-4936-a493-5eb081b5f93b"
      },
      "source": [
        "# Plot the multi-class classification distribution\n",
        "def plot_multi_label_dist(label):\n",
        "  plt.figure(figsize = (6,8))\n",
        "  plt.pie(label.value_counts(), labels = label.value_counts().index.to_list(), autopct='%0.2f%%')\n",
        "  plt.title(\"Distribution of Normal vs Multi-Class Attack Labels\")\n",
        "  plt.legend()\n",
        "  plt.savefig('{}/multi_labels.png'.format(PLOTS_DIR))\n",
        "  plt.show()\n",
        "plot_multi_label_dist(multi_data['label'])"
      ],
      "execution_count": null,
      "outputs": [
        {
          "output_type": "display_data",
          "data": {
            "image/png": "[encoded data removed]",
            "text/plain": [
              "<Figure size 432x576 with 1 Axes>"
            ]
          },
          "metadata": {}
        }
      ]
    },
    {
      "cell_type": "markdown",
      "metadata": {
        "id": "mUL1PZKnM2v0"
      },
      "source": [
        "# **Feature Selection**\n",
        "\n",
        "---\n",
        "\n"
      ]
    },
    {
      "cell_type": "markdown",
      "metadata": {
        "id": "1bUGWgRyN7zg"
      },
      "source": [
        "## 1. Binary Features"
      ]
    },
    {
      "cell_type": "code",
      "metadata": {
        "colab": {
          "base_uri": "https://localhost:8080/",
          "height": 201
        },
        "id": "nvAsyEaFM_Yl",
        "outputId": "c7b6a43a-2c6d-4712-d2d4-35cc4125cd72"
      },
      "source": [
        "# Create dataframe with only numeric attributes of dataset and encoded binary labels\n",
        "num_binary_data = binary_data[numeric_cols].join(binary_data['encoded_label'])\n",
        "num_binary_data.head(5)"
      ],
      "execution_count": null,
      "outputs": [
        {
          "output_type": "error",
          "ename": "NameError",
          "evalue": "ignored",
          "traceback": [
            "\u001b[0;31m---------------------------------------------------------------------------\u001b[0m",
            "\u001b[0;31mNameError\u001b[0m                                 Traceback (most recent call last)",
            "\u001b[0;32m<ipython-input-16-f796d445bbc7>\u001b[0m in \u001b[0;36m<module>\u001b[0;34m()\u001b[0m\n\u001b[1;32m      1\u001b[0m \u001b[0;31m# Create dataframe with only numeric attributes of dataset and encoded binary labels\u001b[0m\u001b[0;34m\u001b[0m\u001b[0;34m\u001b[0m\u001b[0;34m\u001b[0m\u001b[0m\n\u001b[0;32m----> 2\u001b[0;31m \u001b[0mnum_binary_data\u001b[0m \u001b[0;34m=\u001b[0m \u001b[0mbinary_data\u001b[0m\u001b[0;34m[\u001b[0m\u001b[0mnumeric_cols\u001b[0m\u001b[0;34m]\u001b[0m\u001b[0;34m.\u001b[0m\u001b[0mjoin\u001b[0m\u001b[0;34m(\u001b[0m\u001b[0mbinary_data\u001b[0m\u001b[0;34m[\u001b[0m\u001b[0;34m'encoded_label'\u001b[0m\u001b[0;34m]\u001b[0m\u001b[0;34m)\u001b[0m\u001b[0;34m\u001b[0m\u001b[0;34m\u001b[0m\u001b[0m\n\u001b[0m\u001b[1;32m      3\u001b[0m \u001b[0mnum_binary_data\u001b[0m\u001b[0;34m.\u001b[0m\u001b[0mhead\u001b[0m\u001b[0;34m(\u001b[0m\u001b[0;36m5\u001b[0m\u001b[0;34m)\u001b[0m\u001b[0;34m\u001b[0m\u001b[0;34m\u001b[0m\u001b[0m\n",
            "\u001b[0;31mNameError\u001b[0m: name 'binary_data' is not defined"
          ]
        }
      ]
    },
    {
      "cell_type": "code",
      "metadata": {
        "colab": {
          "base_uri": "https://localhost:8080/",
          "height": 236
        },
        "id": "jC-3d--8PIRg",
        "outputId": "2544563f-a47f-4902-97ae-535563aab5ca"
      },
      "source": [
        "# Compute correlation matrix and keep only feature attributes with correlation greater than 0.5 \n",
        "# with the encoded label attribute\n",
        "bin_corr_matrix = num_binary_data.corr()\n",
        "bin_corr_y = abs(bin_corr_matrix['encoded_label'])\n",
        "bin_features = bin_corr_y.loc[bin_corr_y >= 0.5].drop('encoded_label')\n",
        "bin_feature_list = bin_features.index.to_list()\n",
        "bin_feature_list"
      ],
      "execution_count": null,
      "outputs": [
        {
          "output_type": "error",
          "ename": "NameError",
          "evalue": "ignored",
          "traceback": [
            "\u001b[0;31m---------------------------------------------------------------------------\u001b[0m",
            "\u001b[0;31mNameError\u001b[0m                                 Traceback (most recent call last)",
            "\u001b[0;32m<ipython-input-17-02bea4900c0e>\u001b[0m in \u001b[0;36m<module>\u001b[0;34m()\u001b[0m\n\u001b[1;32m      1\u001b[0m \u001b[0;31m# Compute correlation matrix and keep only feature attributes with correlation greater than 0.5\u001b[0m\u001b[0;34m\u001b[0m\u001b[0;34m\u001b[0m\u001b[0;34m\u001b[0m\u001b[0m\n\u001b[1;32m      2\u001b[0m \u001b[0;31m# with the encoded label attribute\u001b[0m\u001b[0;34m\u001b[0m\u001b[0;34m\u001b[0m\u001b[0;34m\u001b[0m\u001b[0m\n\u001b[0;32m----> 3\u001b[0;31m \u001b[0mbin_corr_matrix\u001b[0m \u001b[0;34m=\u001b[0m \u001b[0mnum_binary_data\u001b[0m\u001b[0;34m.\u001b[0m\u001b[0mcorr\u001b[0m\u001b[0;34m(\u001b[0m\u001b[0;34m)\u001b[0m\u001b[0;34m\u001b[0m\u001b[0;34m\u001b[0m\u001b[0m\n\u001b[0m\u001b[1;32m      4\u001b[0m \u001b[0mbin_corr_y\u001b[0m \u001b[0;34m=\u001b[0m \u001b[0mabs\u001b[0m\u001b[0;34m(\u001b[0m\u001b[0mbin_corr_matrix\u001b[0m\u001b[0;34m[\u001b[0m\u001b[0;34m'encoded_label'\u001b[0m\u001b[0;34m]\u001b[0m\u001b[0;34m)\u001b[0m\u001b[0;34m\u001b[0m\u001b[0;34m\u001b[0m\u001b[0m\n\u001b[1;32m      5\u001b[0m \u001b[0mbin_features\u001b[0m \u001b[0;34m=\u001b[0m \u001b[0mbin_corr_y\u001b[0m\u001b[0;34m.\u001b[0m\u001b[0mloc\u001b[0m\u001b[0;34m[\u001b[0m\u001b[0mbin_corr_y\u001b[0m \u001b[0;34m>=\u001b[0m \u001b[0;36m0.5\u001b[0m\u001b[0;34m]\u001b[0m\u001b[0;34m.\u001b[0m\u001b[0mdrop\u001b[0m\u001b[0;34m(\u001b[0m\u001b[0;34m'encoded_label'\u001b[0m\u001b[0;34m)\u001b[0m\u001b[0;34m\u001b[0m\u001b[0;34m\u001b[0m\u001b[0m\n",
            "\u001b[0;31mNameError\u001b[0m: name 'num_binary_data' is not defined"
          ]
        }
      ]
    },
    {
      "cell_type": "code",
      "metadata": {
        "id": "24dKzImzOrsR"
      },
      "source": [
        "# One-hot encoding the binary label\n",
        "binary_data"
      ],
      "execution_count": null,
      "outputs": []
    },
    {
      "cell_type": "markdown",
      "metadata": {
        "id": "nD6VNyMx8bWg"
      },
      "source": [
        "# **Binary Machine Learning Models**\n",
        "\n",
        "---\n",
        "\n"
      ]
    },
    {
      "cell_type": "code",
      "metadata": {
        "colab": {
          "base_uri": "https://localhost:8080/",
          "height": 444
        },
        "id": "BYD0trz5iI5q",
        "outputId": "ee23c8e2-d7b2-404a-eda3-e30ea62de3da"
      },
      "source": [
        "binary_data[bin_feature_list + categorical_cols + ['encoded_label']]"
      ],
      "execution_count": null,
      "outputs": [
        {
          "output_type": "execute_result",
          "data": {
            "text/html": [
              "<div>\n",
              "<style scoped>\n",
              "    .dataframe tbody tr th:only-of-type {\n",
              "        vertical-align: middle;\n",
              "    }\n",
              "\n",
              "    .dataframe tbody tr th {\n",
              "        vertical-align: top;\n",
              "    }\n",
              "\n",
              "    .dataframe thead th {\n",
              "        text-align: right;\n",
              "    }\n",
              "</style>\n",
              "<table border=\"1\" class=\"dataframe\">\n",
              "  <thead>\n",
              "    <tr style=\"text-align: right;\">\n",
              "      <th></th>\n",
              "      <th>logged_in</th>\n",
              "      <th>count</th>\n",
              "      <th>serror_rate</th>\n",
              "      <th>srv_serror_rate</th>\n",
              "      <th>same_srv_rate</th>\n",
              "      <th>dst_host_srv_count</th>\n",
              "      <th>dst_host_same_srv_rate</th>\n",
              "      <th>dst_host_serror_rate</th>\n",
              "      <th>dst_host_srv_serror_rate</th>\n",
              "      <th>protocol_type</th>\n",
              "      <th>service</th>\n",
              "      <th>flag</th>\n",
              "      <th>encoded_label</th>\n",
              "    </tr>\n",
              "  </thead>\n",
              "  <tbody>\n",
              "    <tr>\n",
              "      <th>0</th>\n",
              "      <td>0</td>\n",
              "      <td>2</td>\n",
              "      <td>0.0</td>\n",
              "      <td>0.0</td>\n",
              "      <td>1.00</td>\n",
              "      <td>25</td>\n",
              "      <td>0.17</td>\n",
              "      <td>0.00</td>\n",
              "      <td>0.00</td>\n",
              "      <td>tcp</td>\n",
              "      <td>ftp_data</td>\n",
              "      <td>SF</td>\n",
              "      <td>0</td>\n",
              "    </tr>\n",
              "    <tr>\n",
              "      <th>1</th>\n",
              "      <td>0</td>\n",
              "      <td>13</td>\n",
              "      <td>0.0</td>\n",
              "      <td>0.0</td>\n",
              "      <td>0.08</td>\n",
              "      <td>1</td>\n",
              "      <td>0.00</td>\n",
              "      <td>0.00</td>\n",
              "      <td>0.00</td>\n",
              "      <td>udp</td>\n",
              "      <td>other</td>\n",
              "      <td>SF</td>\n",
              "      <td>0</td>\n",
              "    </tr>\n",
              "    <tr>\n",
              "      <th>2</th>\n",
              "      <td>0</td>\n",
              "      <td>123</td>\n",
              "      <td>1.0</td>\n",
              "      <td>1.0</td>\n",
              "      <td>0.05</td>\n",
              "      <td>26</td>\n",
              "      <td>0.10</td>\n",
              "      <td>1.00</td>\n",
              "      <td>1.00</td>\n",
              "      <td>tcp</td>\n",
              "      <td>private</td>\n",
              "      <td>S0</td>\n",
              "      <td>1</td>\n",
              "    </tr>\n",
              "    <tr>\n",
              "      <th>3</th>\n",
              "      <td>1</td>\n",
              "      <td>5</td>\n",
              "      <td>0.2</td>\n",
              "      <td>0.2</td>\n",
              "      <td>1.00</td>\n",
              "      <td>255</td>\n",
              "      <td>1.00</td>\n",
              "      <td>0.03</td>\n",
              "      <td>0.01</td>\n",
              "      <td>tcp</td>\n",
              "      <td>http</td>\n",
              "      <td>SF</td>\n",
              "      <td>0</td>\n",
              "    </tr>\n",
              "    <tr>\n",
              "      <th>4</th>\n",
              "      <td>1</td>\n",
              "      <td>30</td>\n",
              "      <td>0.0</td>\n",
              "      <td>0.0</td>\n",
              "      <td>1.00</td>\n",
              "      <td>255</td>\n",
              "      <td>1.00</td>\n",
              "      <td>0.00</td>\n",
              "      <td>0.00</td>\n",
              "      <td>tcp</td>\n",
              "      <td>http</td>\n",
              "      <td>SF</td>\n",
              "      <td>0</td>\n",
              "    </tr>\n",
              "    <tr>\n",
              "      <th>...</th>\n",
              "      <td>...</td>\n",
              "      <td>...</td>\n",
              "      <td>...</td>\n",
              "      <td>...</td>\n",
              "      <td>...</td>\n",
              "      <td>...</td>\n",
              "      <td>...</td>\n",
              "      <td>...</td>\n",
              "      <td>...</td>\n",
              "      <td>...</td>\n",
              "      <td>...</td>\n",
              "      <td>...</td>\n",
              "      <td>...</td>\n",
              "    </tr>\n",
              "    <tr>\n",
              "      <th>148512</th>\n",
              "      <td>1</td>\n",
              "      <td>1</td>\n",
              "      <td>0.0</td>\n",
              "      <td>0.0</td>\n",
              "      <td>1.00</td>\n",
              "      <td>141</td>\n",
              "      <td>0.72</td>\n",
              "      <td>0.01</td>\n",
              "      <td>0.00</td>\n",
              "      <td>tcp</td>\n",
              "      <td>smtp</td>\n",
              "      <td>SF</td>\n",
              "      <td>0</td>\n",
              "    </tr>\n",
              "    <tr>\n",
              "      <th>148513</th>\n",
              "      <td>1</td>\n",
              "      <td>2</td>\n",
              "      <td>0.0</td>\n",
              "      <td>0.0</td>\n",
              "      <td>1.00</td>\n",
              "      <td>255</td>\n",
              "      <td>1.00</td>\n",
              "      <td>0.01</td>\n",
              "      <td>0.00</td>\n",
              "      <td>tcp</td>\n",
              "      <td>http</td>\n",
              "      <td>SF</td>\n",
              "      <td>0</td>\n",
              "    </tr>\n",
              "    <tr>\n",
              "      <th>148514</th>\n",
              "      <td>1</td>\n",
              "      <td>5</td>\n",
              "      <td>0.0</td>\n",
              "      <td>0.0</td>\n",
              "      <td>1.00</td>\n",
              "      <td>255</td>\n",
              "      <td>1.00</td>\n",
              "      <td>0.00</td>\n",
              "      <td>0.00</td>\n",
              "      <td>tcp</td>\n",
              "      <td>http</td>\n",
              "      <td>SF</td>\n",
              "      <td>1</td>\n",
              "    </tr>\n",
              "    <tr>\n",
              "      <th>148515</th>\n",
              "      <td>0</td>\n",
              "      <td>4</td>\n",
              "      <td>0.0</td>\n",
              "      <td>0.0</td>\n",
              "      <td>1.00</td>\n",
              "      <td>252</td>\n",
              "      <td>0.99</td>\n",
              "      <td>0.00</td>\n",
              "      <td>0.00</td>\n",
              "      <td>udp</td>\n",
              "      <td>domain_u</td>\n",
              "      <td>SF</td>\n",
              "      <td>0</td>\n",
              "    </tr>\n",
              "    <tr>\n",
              "      <th>148516</th>\n",
              "      <td>0</td>\n",
              "      <td>4</td>\n",
              "      <td>0.0</td>\n",
              "      <td>0.0</td>\n",
              "      <td>0.25</td>\n",
              "      <td>21</td>\n",
              "      <td>0.08</td>\n",
              "      <td>0.00</td>\n",
              "      <td>0.00</td>\n",
              "      <td>tcp</td>\n",
              "      <td>sunrpc</td>\n",
              "      <td>REJ</td>\n",
              "      <td>1</td>\n",
              "    </tr>\n",
              "  </tbody>\n",
              "</table>\n",
              "<p>148517 rows × 13 columns</p>\n",
              "</div>"
            ],
            "text/plain": [
              "        logged_in  count  serror_rate  ...   service  flag  encoded_label\n",
              "0               0      2          0.0  ...  ftp_data    SF              0\n",
              "1               0     13          0.0  ...     other    SF              0\n",
              "2               0    123          1.0  ...   private    S0              1\n",
              "3               1      5          0.2  ...      http    SF              0\n",
              "4               1     30          0.0  ...      http    SF              0\n",
              "...           ...    ...          ...  ...       ...   ...            ...\n",
              "148512          1      1          0.0  ...      smtp    SF              0\n",
              "148513          1      2          0.0  ...      http    SF              0\n",
              "148514          1      5          0.0  ...      http    SF              1\n",
              "148515          0      4          0.0  ...  domain_u    SF              0\n",
              "148516          0      4          0.0  ...    sunrpc   REJ              1\n",
              "\n",
              "[148517 rows x 13 columns]"
            ]
          },
          "metadata": {},
          "execution_count": 52
        }
      ]
    },
    {
      "cell_type": "code",
      "metadata": {
        "id": "cnvmj0fel4hb"
      },
      "source": [
        ""
      ],
      "execution_count": null,
      "outputs": []
    },
    {
      "cell_type": "code",
      "metadata": {
        "id": "mhQsFdMYgzfV"
      },
      "source": [
        "numerical_cols = bin_feature_list\n",
        "\n",
        "categorical_cols = categorical_cols\n",
        "\n",
        "my_cols = numerical_cols + categorical_cols \n",
        "\n",
        "X_train = binary_data[binary_data['source'] == 'train'][my_cols]\n",
        "X_test = binary_data[binary_data['source'] == 'test'][my_cols]\n",
        "Y_train = binary_data[binary_data['source'] == 'train']['encoded_label'] # target attribute\n",
        "Y_test = binary_data[binary_data['source'] == 'test']['encoded_label']\n",
        "\n"
      ],
      "execution_count": null,
      "outputs": []
    },
    {
      "cell_type": "code",
      "metadata": {
        "id": "Ogb6SthymmaL"
      },
      "source": [
        "from sklearn.pipeline import Pipeline\n",
        "from sklearn.preprocessing import OneHotEncoder, MinMaxScaler, LabelEncoder, FunctionTransformer\n",
        "from sklearn.compose import ColumnTransformer \n",
        "from sklearn.linear_model import LogisticRegression"
      ],
      "execution_count": null,
      "outputs": []
    },
    {
      "cell_type": "code",
      "metadata": {
        "id": "bLMr_NFjk52a"
      },
      "source": [
        "numerical_transformer = Pipeline(steps=[\n",
        "    ('minmax', MinMaxScaler())\n",
        "])\n",
        "\n",
        "# Preprocessing for categorical data\n",
        "categorical_transformer = Pipeline(steps=[\n",
        "    ('onehot', OneHotEncoder())\n",
        "])\n",
        "\n",
        "# Bundle preprocessing for numerical and categorical data\n",
        "\n",
        "preprocessor = ColumnTransformer(\n",
        "    transformers=[\n",
        "        ('num' , numerical_transformer , numerical_cols ),\n",
        "        ('cat', OneHotEncoder(sparse=False), categorical_cols)\n",
        "    ], \n",
        "    remainder = 'passthrough')"
      ],
      "execution_count": null,
      "outputs": []
    },
    {
      "cell_type": "code",
      "metadata": {
        "id": "mKVHFQrlm39N"
      },
      "source": [
        "model = LogisticRegression()"
      ],
      "execution_count": null,
      "outputs": []
    },
    {
      "cell_type": "code",
      "metadata": {
        "id": "L0RAigDPnUXs"
      },
      "source": [
        "lin_clf = Pipeline(steps=[('preprocessor', preprocessor),\n",
        "                       ('model', model)\n",
        "                     ])"
      ],
      "execution_count": null,
      "outputs": []
    },
    {
      "cell_type": "code",
      "metadata": {
        "colab": {
          "base_uri": "https://localhost:8080/"
        },
        "id": "iu4BRu0snbIs",
        "outputId": "f2475490-8c7a-47ea-e683-1c56000d8e69"
      },
      "source": [
        "lin_clf.fit(X_train, Y_train)"
      ],
      "execution_count": null,
      "outputs": [
        {
          "output_type": "stream",
          "name": "stderr",
          "text": [
            "/usr/local/lib/python3.7/dist-packages/sklearn/linear_model/_logistic.py:818: ConvergenceWarning: lbfgs failed to converge (status=1):\n",
            "STOP: TOTAL NO. of ITERATIONS REACHED LIMIT.\n",
            "\n",
            "Increase the number of iterations (max_iter) or scale the data as shown in:\n",
            "    https://scikit-learn.org/stable/modules/preprocessing.html\n",
            "Please also refer to the documentation for alternative solver options:\n",
            "    https://scikit-learn.org/stable/modules/linear_model.html#logistic-regression\n",
            "  extra_warning_msg=_LOGISTIC_SOLVER_CONVERGENCE_MSG,\n"
          ]
        },
        {
          "output_type": "execute_result",
          "data": {
            "text/plain": [
              "Pipeline(steps=[('preprocessor',\n",
              "                 ColumnTransformer(remainder='passthrough',\n",
              "                                   transformers=[('num',\n",
              "                                                  Pipeline(steps=[('minmax',\n",
              "                                                                   MinMaxScaler())]),\n",
              "                                                  ['logged_in', 'count',\n",
              "                                                   'serror_rate',\n",
              "                                                   'srv_serror_rate',\n",
              "                                                   'same_srv_rate',\n",
              "                                                   'dst_host_srv_count',\n",
              "                                                   'dst_host_same_srv_rate',\n",
              "                                                   'dst_host_serror_rate',\n",
              "                                                   'dst_host_srv_serror_rate']),\n",
              "                                                 ('cat',\n",
              "                                                  OneHotEncoder(sparse=False),\n",
              "                                                  ['protocol_type', 'service',\n",
              "                                                   'flag'])])),\n",
              "                ('model', LogisticRegression())])"
            ]
          },
          "metadata": {},
          "execution_count": 69
        }
      ]
    },
    {
      "cell_type": "code",
      "metadata": {
        "colab": {
          "base_uri": "https://localhost:8080/"
        },
        "id": "J77mioTQn2fh",
        "outputId": "9a793a8d-8077-4580-f504-c1bff1bcae31"
      },
      "source": [
        "preds = lin_clf.predict(X_test)\n",
        "accuracy_score(Y_test, preds)"
      ],
      "execution_count": null,
      "outputs": [
        {
          "output_type": "execute_result",
          "data": {
            "text/plain": [
              "0.7501774308019872"
            ]
          },
          "metadata": {},
          "execution_count": 70
        }
      ]
    },
    {
      "cell_type": "markdown",
      "metadata": {
        "id": "5UWc5l6i9LYn"
      },
      "source": [
        "## 1. Linear Support Vector Machine Classifier (Binary Classification)"
      ]
    },
    {
      "cell_type": "code",
      "metadata": {
        "colab": {
          "base_uri": "https://localhost:8080/"
        },
        "id": "bnsDC8PS9MzO",
        "outputId": "cf894151-5b76-4cb0-e97e-1fbf1037b812"
      },
      "source": [
        "X_train = binary_data[binary_data['source'] == 'train'].drop(columns = ['label', 'encoded_label', 'source'])\n",
        "X_test = binary_data[binary_data['source'] == 'test'].drop(columns = ['label', 'encoded_label', 'source'])\n",
        "Y_train = binary_data[binary_data['source'] == 'train']['encoded_label'] # target attribute\n",
        "Y_test = binary_data[binary_data['source'] == 'test']['encoded_label'] # target attribute"
      ],
      "execution_count": null,
      "outputs": [
        {
          "output_type": "execute_result",
          "data": {
            "text/plain": [
              "0         1\n",
              "1         1\n",
              "2         0\n",
              "3         1\n",
              "4         1\n",
              "         ..\n",
              "125968    0\n",
              "125969    1\n",
              "125970    1\n",
              "125971    0\n",
              "125972    1\n",
              "Name: encoded_label, Length: 125973, dtype: int64"
            ]
          },
          "metadata": {},
          "execution_count": 70
        }
      ]
    },
    {
      "cell_type": "code",
      "metadata": {
        "id": "ZCstem1TSCeH"
      },
      "source": [
        "lsvm = svm.SVC(kernel='linear',gamma='auto') \n",
        "lsvm.fit(X_train, Y_train) # training model on training dataset\n",
        "y_pred = lsvm.predict(X_test)\n",
        "accuracy_score(y_pred, Y_test)"
      ],
      "execution_count": null,
      "outputs": []
    },
    {
      "cell_type": "markdown",
      "metadata": {
        "id": "nkNf0R58FCoQ"
      },
      "source": [
        "# Multiclass\n"
      ]
    },
    {
      "cell_type": "code",
      "metadata": {
        "id": "UKRHDbOnGBZA"
      },
      "source": [
        "numerical_cols = multi_data.select_dtypes(include='number').columns.to_list()\n"
      ],
      "execution_count": null,
      "outputs": []
    },
    {
      "cell_type": "code",
      "metadata": {
        "id": "lgtgvgUEGUI_"
      },
      "source": [
        "multi_corr = multi_data[numeric_col].corr().encoded_label\n",
        "numerical_cols =  multi_corr[(multi_corr > 0.5) | (multi_corr < -0.5)].index.to_list()"
      ],
      "execution_count": null,
      "outputs": []
    },
    {
      "cell_type": "code",
      "metadata": {
        "colab": {
          "base_uri": "https://localhost:8080/"
        },
        "id": "z1mKkxHt8DNM",
        "outputId": "48fb373a-8865-4d13-c2e0-23b577a89d57"
      },
      "source": [
        "numerical_cols"
      ],
      "execution_count": null,
      "outputs": [
        {
          "output_type": "execute_result",
          "data": {
            "text/plain": [
              "['logged_in',\n",
              " 'count',\n",
              " 'serror_rate',\n",
              " 'srv_serror_rate',\n",
              " 'same_srv_rate',\n",
              " 'dst_host_srv_count',\n",
              " 'dst_host_same_srv_rate',\n",
              " 'dst_host_serror_rate',\n",
              " 'dst_host_srv_serror_rate',\n",
              " 'encoded_label']"
            ]
          },
          "metadata": {},
          "execution_count": 243
        }
      ]
    },
    {
      "cell_type": "code",
      "metadata": {
        "colab": {
          "base_uri": "https://localhost:8080/"
        },
        "id": "aXnBHXy4Hqyn",
        "outputId": "e3be652e-6ebb-41b9-f785-dcc02d424a53"
      },
      "source": [
        "numerical_cols = numerical_cols[:-1]\n",
        "numerical_cols"
      ],
      "execution_count": null,
      "outputs": [
        {
          "output_type": "execute_result",
          "data": {
            "text/plain": [
              "['src_bytes',\n",
              " 'dst_bytes',\n",
              " 'land',\n",
              " 'logged_in',\n",
              " 'root_shell',\n",
              " 'is_host_login',\n",
              " 'is_guest_login',\n",
              " 'count',\n",
              " 'srv_count',\n",
              " 'serror_rate',\n",
              " 'srv_serror_rate',\n",
              " 'same_srv_rate',\n",
              " 'diff_srv_rate',\n",
              " 'srv_diff_host_rate',\n",
              " 'dst_host_count',\n",
              " 'dst_host_srv_count',\n",
              " 'dst_host_same_srv_rate',\n",
              " 'dst_host_diff_srv_rate',\n",
              " 'dst_host_same_src_port_rate',\n",
              " 'dst_host_srv_diff_host_rate',\n",
              " 'dst_host_serror_rate',\n",
              " 'dst_host_srv_serror_rate']"
            ]
          },
          "metadata": {},
          "execution_count": 58
        }
      ]
    },
    {
      "cell_type": "code",
      "metadata": {
        "colab": {
          "base_uri": "https://localhost:8080/"
        },
        "id": "sNIffcf7_OoX",
        "outputId": "4d4f4ee3-faee-4206-cdbf-efebe01fe51f"
      },
      "source": [
        "top_15_service"
      ],
      "execution_count": null,
      "outputs": [
        {
          "output_type": "execute_result",
          "data": {
            "text/plain": [
              "['http',\n",
              " 'private',\n",
              " 'domain_u',\n",
              " 'smtp',\n",
              " 'ftp_data',\n",
              " 'eco_i',\n",
              " 'other',\n",
              " 'ecr_i',\n",
              " 'telnet',\n",
              " 'finger',\n",
              " 'ftp',\n",
              " 'auth',\n",
              " 'Z39_50',\n",
              " 'uucp',\n",
              " 'courier']"
            ]
          },
          "metadata": {},
          "execution_count": 30
        }
      ]
    },
    {
      "cell_type": "code",
      "metadata": {
        "colab": {
          "base_uri": "https://localhost:8080/",
          "height": 444
        },
        "id": "-WjHT-ad_YNg",
        "outputId": "ee12e6cc-1568-45a2-8902-ec2c965cd3eb"
      },
      "source": [
        "test_data[test_data.service.isin(top_15_service)]"
      ],
      "execution_count": null,
      "outputs": [
        {
          "output_type": "execute_result",
          "data": {
            "text/html": [
              "<div>\n",
              "<style scoped>\n",
              "    .dataframe tbody tr th:only-of-type {\n",
              "        vertical-align: middle;\n",
              "    }\n",
              "\n",
              "    .dataframe tbody tr th {\n",
              "        vertical-align: top;\n",
              "    }\n",
              "\n",
              "    .dataframe thead th {\n",
              "        text-align: right;\n",
              "    }\n",
              "</style>\n",
              "<table border=\"1\" class=\"dataframe\">\n",
              "  <thead>\n",
              "    <tr style=\"text-align: right;\">\n",
              "      <th></th>\n",
              "      <th>duration</th>\n",
              "      <th>protocol_type</th>\n",
              "      <th>service</th>\n",
              "      <th>flag</th>\n",
              "      <th>src_bytes</th>\n",
              "      <th>dst_bytes</th>\n",
              "      <th>land</th>\n",
              "      <th>wrong_fragment</th>\n",
              "      <th>urgent</th>\n",
              "      <th>hot</th>\n",
              "      <th>num_failed_logins</th>\n",
              "      <th>logged_in</th>\n",
              "      <th>num_compromised</th>\n",
              "      <th>root_shell</th>\n",
              "      <th>su_attempted</th>\n",
              "      <th>num_root</th>\n",
              "      <th>num_file_creations</th>\n",
              "      <th>num_shells</th>\n",
              "      <th>num_access_files</th>\n",
              "      <th>num_outbound_cmds</th>\n",
              "      <th>is_host_login</th>\n",
              "      <th>is_guest_login</th>\n",
              "      <th>count</th>\n",
              "      <th>srv_count</th>\n",
              "      <th>serror_rate</th>\n",
              "      <th>srv_serror_rate</th>\n",
              "      <th>rerror_rate</th>\n",
              "      <th>srv_rerror_rate</th>\n",
              "      <th>same_srv_rate</th>\n",
              "      <th>diff_srv_rate</th>\n",
              "      <th>srv_diff_host_rate</th>\n",
              "      <th>dst_host_count</th>\n",
              "      <th>dst_host_srv_count</th>\n",
              "      <th>dst_host_same_srv_rate</th>\n",
              "      <th>dst_host_diff_srv_rate</th>\n",
              "      <th>dst_host_same_src_port_rate</th>\n",
              "      <th>dst_host_srv_diff_host_rate</th>\n",
              "      <th>dst_host_serror_rate</th>\n",
              "      <th>dst_host_srv_serror_rate</th>\n",
              "      <th>dst_host_rerror_rate</th>\n",
              "      <th>dst_host_srv_rerror_rate</th>\n",
              "      <th>label</th>\n",
              "      <th>encoded_label</th>\n",
              "    </tr>\n",
              "  </thead>\n",
              "  <tbody>\n",
              "    <tr>\n",
              "      <th>0</th>\n",
              "      <td>0</td>\n",
              "      <td>tcp</td>\n",
              "      <td>private</td>\n",
              "      <td>REJ</td>\n",
              "      <td>0</td>\n",
              "      <td>0</td>\n",
              "      <td>0</td>\n",
              "      <td>0</td>\n",
              "      <td>0</td>\n",
              "      <td>0</td>\n",
              "      <td>0</td>\n",
              "      <td>0</td>\n",
              "      <td>0</td>\n",
              "      <td>0</td>\n",
              "      <td>0</td>\n",
              "      <td>0</td>\n",
              "      <td>0</td>\n",
              "      <td>0</td>\n",
              "      <td>0</td>\n",
              "      <td>0</td>\n",
              "      <td>0</td>\n",
              "      <td>0</td>\n",
              "      <td>229</td>\n",
              "      <td>10</td>\n",
              "      <td>0.0</td>\n",
              "      <td>0.00</td>\n",
              "      <td>1.0</td>\n",
              "      <td>1.0</td>\n",
              "      <td>0.04</td>\n",
              "      <td>0.06</td>\n",
              "      <td>0.00</td>\n",
              "      <td>255</td>\n",
              "      <td>10</td>\n",
              "      <td>0.04</td>\n",
              "      <td>0.06</td>\n",
              "      <td>0.00</td>\n",
              "      <td>0.00</td>\n",
              "      <td>0.00</td>\n",
              "      <td>0.0</td>\n",
              "      <td>1.00</td>\n",
              "      <td>1.00</td>\n",
              "      <td>DoS</td>\n",
              "      <td>0</td>\n",
              "    </tr>\n",
              "    <tr>\n",
              "      <th>1</th>\n",
              "      <td>0</td>\n",
              "      <td>tcp</td>\n",
              "      <td>private</td>\n",
              "      <td>REJ</td>\n",
              "      <td>0</td>\n",
              "      <td>0</td>\n",
              "      <td>0</td>\n",
              "      <td>0</td>\n",
              "      <td>0</td>\n",
              "      <td>0</td>\n",
              "      <td>0</td>\n",
              "      <td>0</td>\n",
              "      <td>0</td>\n",
              "      <td>0</td>\n",
              "      <td>0</td>\n",
              "      <td>0</td>\n",
              "      <td>0</td>\n",
              "      <td>0</td>\n",
              "      <td>0</td>\n",
              "      <td>0</td>\n",
              "      <td>0</td>\n",
              "      <td>0</td>\n",
              "      <td>136</td>\n",
              "      <td>1</td>\n",
              "      <td>0.0</td>\n",
              "      <td>0.00</td>\n",
              "      <td>1.0</td>\n",
              "      <td>1.0</td>\n",
              "      <td>0.01</td>\n",
              "      <td>0.06</td>\n",
              "      <td>0.00</td>\n",
              "      <td>255</td>\n",
              "      <td>1</td>\n",
              "      <td>0.00</td>\n",
              "      <td>0.06</td>\n",
              "      <td>0.00</td>\n",
              "      <td>0.00</td>\n",
              "      <td>0.00</td>\n",
              "      <td>0.0</td>\n",
              "      <td>1.00</td>\n",
              "      <td>1.00</td>\n",
              "      <td>DoS</td>\n",
              "      <td>0</td>\n",
              "    </tr>\n",
              "    <tr>\n",
              "      <th>2</th>\n",
              "      <td>2</td>\n",
              "      <td>tcp</td>\n",
              "      <td>ftp_data</td>\n",
              "      <td>SF</td>\n",
              "      <td>12983</td>\n",
              "      <td>0</td>\n",
              "      <td>0</td>\n",
              "      <td>0</td>\n",
              "      <td>0</td>\n",
              "      <td>0</td>\n",
              "      <td>0</td>\n",
              "      <td>0</td>\n",
              "      <td>0</td>\n",
              "      <td>0</td>\n",
              "      <td>0</td>\n",
              "      <td>0</td>\n",
              "      <td>0</td>\n",
              "      <td>0</td>\n",
              "      <td>0</td>\n",
              "      <td>0</td>\n",
              "      <td>0</td>\n",
              "      <td>0</td>\n",
              "      <td>1</td>\n",
              "      <td>1</td>\n",
              "      <td>0.0</td>\n",
              "      <td>0.00</td>\n",
              "      <td>0.0</td>\n",
              "      <td>0.0</td>\n",
              "      <td>1.00</td>\n",
              "      <td>0.00</td>\n",
              "      <td>0.00</td>\n",
              "      <td>134</td>\n",
              "      <td>86</td>\n",
              "      <td>0.61</td>\n",
              "      <td>0.04</td>\n",
              "      <td>0.61</td>\n",
              "      <td>0.02</td>\n",
              "      <td>0.00</td>\n",
              "      <td>0.0</td>\n",
              "      <td>0.00</td>\n",
              "      <td>0.00</td>\n",
              "      <td>normal</td>\n",
              "      <td>3</td>\n",
              "    </tr>\n",
              "    <tr>\n",
              "      <th>3</th>\n",
              "      <td>0</td>\n",
              "      <td>icmp</td>\n",
              "      <td>eco_i</td>\n",
              "      <td>SF</td>\n",
              "      <td>20</td>\n",
              "      <td>0</td>\n",
              "      <td>0</td>\n",
              "      <td>0</td>\n",
              "      <td>0</td>\n",
              "      <td>0</td>\n",
              "      <td>0</td>\n",
              "      <td>0</td>\n",
              "      <td>0</td>\n",
              "      <td>0</td>\n",
              "      <td>0</td>\n",
              "      <td>0</td>\n",
              "      <td>0</td>\n",
              "      <td>0</td>\n",
              "      <td>0</td>\n",
              "      <td>0</td>\n",
              "      <td>0</td>\n",
              "      <td>0</td>\n",
              "      <td>1</td>\n",
              "      <td>65</td>\n",
              "      <td>0.0</td>\n",
              "      <td>0.00</td>\n",
              "      <td>0.0</td>\n",
              "      <td>0.0</td>\n",
              "      <td>1.00</td>\n",
              "      <td>0.00</td>\n",
              "      <td>1.00</td>\n",
              "      <td>3</td>\n",
              "      <td>57</td>\n",
              "      <td>1.00</td>\n",
              "      <td>0.00</td>\n",
              "      <td>1.00</td>\n",
              "      <td>0.28</td>\n",
              "      <td>0.00</td>\n",
              "      <td>0.0</td>\n",
              "      <td>0.00</td>\n",
              "      <td>0.00</td>\n",
              "      <td>Probe</td>\n",
              "      <td>1</td>\n",
              "    </tr>\n",
              "    <tr>\n",
              "      <th>4</th>\n",
              "      <td>1</td>\n",
              "      <td>tcp</td>\n",
              "      <td>telnet</td>\n",
              "      <td>RSTO</td>\n",
              "      <td>0</td>\n",
              "      <td>15</td>\n",
              "      <td>0</td>\n",
              "      <td>0</td>\n",
              "      <td>0</td>\n",
              "      <td>0</td>\n",
              "      <td>0</td>\n",
              "      <td>0</td>\n",
              "      <td>0</td>\n",
              "      <td>0</td>\n",
              "      <td>0</td>\n",
              "      <td>0</td>\n",
              "      <td>0</td>\n",
              "      <td>0</td>\n",
              "      <td>0</td>\n",
              "      <td>0</td>\n",
              "      <td>0</td>\n",
              "      <td>0</td>\n",
              "      <td>1</td>\n",
              "      <td>8</td>\n",
              "      <td>0.0</td>\n",
              "      <td>0.12</td>\n",
              "      <td>1.0</td>\n",
              "      <td>0.5</td>\n",
              "      <td>1.00</td>\n",
              "      <td>0.00</td>\n",
              "      <td>0.75</td>\n",
              "      <td>29</td>\n",
              "      <td>86</td>\n",
              "      <td>0.31</td>\n",
              "      <td>0.17</td>\n",
              "      <td>0.03</td>\n",
              "      <td>0.02</td>\n",
              "      <td>0.00</td>\n",
              "      <td>0.0</td>\n",
              "      <td>0.83</td>\n",
              "      <td>0.71</td>\n",
              "      <td>Probe</td>\n",
              "      <td>1</td>\n",
              "    </tr>\n",
              "    <tr>\n",
              "      <th>...</th>\n",
              "      <td>...</td>\n",
              "      <td>...</td>\n",
              "      <td>...</td>\n",
              "      <td>...</td>\n",
              "      <td>...</td>\n",
              "      <td>...</td>\n",
              "      <td>...</td>\n",
              "      <td>...</td>\n",
              "      <td>...</td>\n",
              "      <td>...</td>\n",
              "      <td>...</td>\n",
              "      <td>...</td>\n",
              "      <td>...</td>\n",
              "      <td>...</td>\n",
              "      <td>...</td>\n",
              "      <td>...</td>\n",
              "      <td>...</td>\n",
              "      <td>...</td>\n",
              "      <td>...</td>\n",
              "      <td>...</td>\n",
              "      <td>...</td>\n",
              "      <td>...</td>\n",
              "      <td>...</td>\n",
              "      <td>...</td>\n",
              "      <td>...</td>\n",
              "      <td>...</td>\n",
              "      <td>...</td>\n",
              "      <td>...</td>\n",
              "      <td>...</td>\n",
              "      <td>...</td>\n",
              "      <td>...</td>\n",
              "      <td>...</td>\n",
              "      <td>...</td>\n",
              "      <td>...</td>\n",
              "      <td>...</td>\n",
              "      <td>...</td>\n",
              "      <td>...</td>\n",
              "      <td>...</td>\n",
              "      <td>...</td>\n",
              "      <td>...</td>\n",
              "      <td>...</td>\n",
              "      <td>...</td>\n",
              "      <td>...</td>\n",
              "    </tr>\n",
              "    <tr>\n",
              "      <th>22538</th>\n",
              "      <td>0</td>\n",
              "      <td>icmp</td>\n",
              "      <td>ecr_i</td>\n",
              "      <td>SF</td>\n",
              "      <td>1032</td>\n",
              "      <td>0</td>\n",
              "      <td>0</td>\n",
              "      <td>0</td>\n",
              "      <td>0</td>\n",
              "      <td>0</td>\n",
              "      <td>0</td>\n",
              "      <td>0</td>\n",
              "      <td>0</td>\n",
              "      <td>0</td>\n",
              "      <td>0</td>\n",
              "      <td>0</td>\n",
              "      <td>0</td>\n",
              "      <td>0</td>\n",
              "      <td>0</td>\n",
              "      <td>0</td>\n",
              "      <td>0</td>\n",
              "      <td>0</td>\n",
              "      <td>53</td>\n",
              "      <td>53</td>\n",
              "      <td>0.0</td>\n",
              "      <td>0.00</td>\n",
              "      <td>0.0</td>\n",
              "      <td>0.0</td>\n",
              "      <td>1.00</td>\n",
              "      <td>0.00</td>\n",
              "      <td>0.00</td>\n",
              "      <td>255</td>\n",
              "      <td>255</td>\n",
              "      <td>1.00</td>\n",
              "      <td>0.00</td>\n",
              "      <td>1.00</td>\n",
              "      <td>0.00</td>\n",
              "      <td>0.00</td>\n",
              "      <td>0.0</td>\n",
              "      <td>0.00</td>\n",
              "      <td>0.00</td>\n",
              "      <td>DoS</td>\n",
              "      <td>0</td>\n",
              "    </tr>\n",
              "    <tr>\n",
              "      <th>22539</th>\n",
              "      <td>0</td>\n",
              "      <td>tcp</td>\n",
              "      <td>smtp</td>\n",
              "      <td>SF</td>\n",
              "      <td>794</td>\n",
              "      <td>333</td>\n",
              "      <td>0</td>\n",
              "      <td>0</td>\n",
              "      <td>0</td>\n",
              "      <td>0</td>\n",
              "      <td>0</td>\n",
              "      <td>1</td>\n",
              "      <td>0</td>\n",
              "      <td>0</td>\n",
              "      <td>0</td>\n",
              "      <td>0</td>\n",
              "      <td>0</td>\n",
              "      <td>0</td>\n",
              "      <td>0</td>\n",
              "      <td>0</td>\n",
              "      <td>0</td>\n",
              "      <td>0</td>\n",
              "      <td>1</td>\n",
              "      <td>1</td>\n",
              "      <td>0.0</td>\n",
              "      <td>0.00</td>\n",
              "      <td>0.0</td>\n",
              "      <td>0.0</td>\n",
              "      <td>1.00</td>\n",
              "      <td>0.00</td>\n",
              "      <td>0.00</td>\n",
              "      <td>100</td>\n",
              "      <td>141</td>\n",
              "      <td>0.72</td>\n",
              "      <td>0.06</td>\n",
              "      <td>0.01</td>\n",
              "      <td>0.01</td>\n",
              "      <td>0.01</td>\n",
              "      <td>0.0</td>\n",
              "      <td>0.00</td>\n",
              "      <td>0.00</td>\n",
              "      <td>normal</td>\n",
              "      <td>3</td>\n",
              "    </tr>\n",
              "    <tr>\n",
              "      <th>22540</th>\n",
              "      <td>0</td>\n",
              "      <td>tcp</td>\n",
              "      <td>http</td>\n",
              "      <td>SF</td>\n",
              "      <td>317</td>\n",
              "      <td>938</td>\n",
              "      <td>0</td>\n",
              "      <td>0</td>\n",
              "      <td>0</td>\n",
              "      <td>0</td>\n",
              "      <td>0</td>\n",
              "      <td>1</td>\n",
              "      <td>0</td>\n",
              "      <td>0</td>\n",
              "      <td>0</td>\n",
              "      <td>0</td>\n",
              "      <td>0</td>\n",
              "      <td>0</td>\n",
              "      <td>0</td>\n",
              "      <td>0</td>\n",
              "      <td>0</td>\n",
              "      <td>0</td>\n",
              "      <td>2</td>\n",
              "      <td>11</td>\n",
              "      <td>0.0</td>\n",
              "      <td>0.00</td>\n",
              "      <td>0.0</td>\n",
              "      <td>0.0</td>\n",
              "      <td>1.00</td>\n",
              "      <td>0.00</td>\n",
              "      <td>0.18</td>\n",
              "      <td>197</td>\n",
              "      <td>255</td>\n",
              "      <td>1.00</td>\n",
              "      <td>0.00</td>\n",
              "      <td>0.01</td>\n",
              "      <td>0.01</td>\n",
              "      <td>0.01</td>\n",
              "      <td>0.0</td>\n",
              "      <td>0.00</td>\n",
              "      <td>0.00</td>\n",
              "      <td>normal</td>\n",
              "      <td>3</td>\n",
              "    </tr>\n",
              "    <tr>\n",
              "      <th>22541</th>\n",
              "      <td>0</td>\n",
              "      <td>tcp</td>\n",
              "      <td>http</td>\n",
              "      <td>SF</td>\n",
              "      <td>54540</td>\n",
              "      <td>8314</td>\n",
              "      <td>0</td>\n",
              "      <td>0</td>\n",
              "      <td>0</td>\n",
              "      <td>2</td>\n",
              "      <td>0</td>\n",
              "      <td>1</td>\n",
              "      <td>1</td>\n",
              "      <td>0</td>\n",
              "      <td>0</td>\n",
              "      <td>0</td>\n",
              "      <td>0</td>\n",
              "      <td>0</td>\n",
              "      <td>0</td>\n",
              "      <td>0</td>\n",
              "      <td>0</td>\n",
              "      <td>0</td>\n",
              "      <td>5</td>\n",
              "      <td>10</td>\n",
              "      <td>0.0</td>\n",
              "      <td>0.00</td>\n",
              "      <td>0.0</td>\n",
              "      <td>0.0</td>\n",
              "      <td>1.00</td>\n",
              "      <td>0.00</td>\n",
              "      <td>0.20</td>\n",
              "      <td>255</td>\n",
              "      <td>255</td>\n",
              "      <td>1.00</td>\n",
              "      <td>0.00</td>\n",
              "      <td>0.00</td>\n",
              "      <td>0.00</td>\n",
              "      <td>0.00</td>\n",
              "      <td>0.0</td>\n",
              "      <td>0.07</td>\n",
              "      <td>0.07</td>\n",
              "      <td>DoS</td>\n",
              "      <td>0</td>\n",
              "    </tr>\n",
              "    <tr>\n",
              "      <th>22542</th>\n",
              "      <td>0</td>\n",
              "      <td>udp</td>\n",
              "      <td>domain_u</td>\n",
              "      <td>SF</td>\n",
              "      <td>42</td>\n",
              "      <td>42</td>\n",
              "      <td>0</td>\n",
              "      <td>0</td>\n",
              "      <td>0</td>\n",
              "      <td>0</td>\n",
              "      <td>0</td>\n",
              "      <td>0</td>\n",
              "      <td>0</td>\n",
              "      <td>0</td>\n",
              "      <td>0</td>\n",
              "      <td>0</td>\n",
              "      <td>0</td>\n",
              "      <td>0</td>\n",
              "      <td>0</td>\n",
              "      <td>0</td>\n",
              "      <td>0</td>\n",
              "      <td>0</td>\n",
              "      <td>4</td>\n",
              "      <td>6</td>\n",
              "      <td>0.0</td>\n",
              "      <td>0.00</td>\n",
              "      <td>0.0</td>\n",
              "      <td>0.0</td>\n",
              "      <td>1.00</td>\n",
              "      <td>0.00</td>\n",
              "      <td>0.33</td>\n",
              "      <td>255</td>\n",
              "      <td>252</td>\n",
              "      <td>0.99</td>\n",
              "      <td>0.01</td>\n",
              "      <td>0.00</td>\n",
              "      <td>0.00</td>\n",
              "      <td>0.00</td>\n",
              "      <td>0.0</td>\n",
              "      <td>0.00</td>\n",
              "      <td>0.00</td>\n",
              "      <td>normal</td>\n",
              "      <td>3</td>\n",
              "    </tr>\n",
              "  </tbody>\n",
              "</table>\n",
              "<p>19747 rows × 43 columns</p>\n",
              "</div>"
            ],
            "text/plain": [
              "       duration protocol_type  ...   label encoded_label\n",
              "0             0           tcp  ...     DoS             0\n",
              "1             0           tcp  ...     DoS             0\n",
              "2             2           tcp  ...  normal             3\n",
              "3             0          icmp  ...   Probe             1\n",
              "4             1           tcp  ...   Probe             1\n",
              "...         ...           ...  ...     ...           ...\n",
              "22538         0          icmp  ...     DoS             0\n",
              "22539         0           tcp  ...  normal             3\n",
              "22540         0           tcp  ...  normal             3\n",
              "22541         0           tcp  ...     DoS             0\n",
              "22542         0           udp  ...  normal             3\n",
              "\n",
              "[19747 rows x 43 columns]"
            ]
          },
          "metadata": {},
          "execution_count": 31
        }
      ]
    },
    {
      "cell_type": "code",
      "metadata": {
        "id": "EMmpEmt-FMn2"
      },
      "source": [
        "categorical_cols = [ 'protocol_type', 'service' ,'flag' ]\n",
        "my_cols = discrete + continuous + categorical_cols\n",
        "\n",
        "\n",
        "X_train = multi_data.loc[multi_data.service.isin(top_15_service),my_cols]\n",
        "y_train = multi_data.loc[ multi_data.service.isin(top_15_service)  ,'encoded_label']\n",
        "\n",
        "\n",
        "X_test = test_data.loc[test_data.service.isin(top_15_service),my_cols]\n",
        "y_test = test_data.loc[ test_data.service.isin(top_15_service)  ,'encoded_label']"
      ],
      "execution_count": null,
      "outputs": []
    },
    {
      "cell_type": "code",
      "metadata": {
        "colab": {
          "base_uri": "https://localhost:8080/"
        },
        "id": "EoKUuh_Z_g6T",
        "outputId": "2d244076-e85f-4998-ba55-2c6a0a6675ec"
      },
      "source": [
        "X_test.shape"
      ],
      "execution_count": null,
      "outputs": [
        {
          "output_type": "execute_result",
          "data": {
            "text/plain": [
              "(19747, 20)"
            ]
          },
          "metadata": {},
          "execution_count": 33
        }
      ]
    },
    {
      "cell_type": "code",
      "metadata": {
        "id": "Qe5WhtttJktr"
      },
      "source": [
        "# numerical_transformer = Pipeline(steps=[\n",
        "#     ('minmax', MinMaxScaler())\n",
        "# ])\n",
        "\n",
        "# Preprocessing for categorical data\n",
        "# categorical_transformer = Pipeline(steps=[\n",
        "#     ('onehot', OneHotEncoder())\n",
        "# ])\n",
        "\n",
        "# Bundle preprocessing for numerical and categorical data\n",
        "\n",
        "preprocessor = ColumnTransformer(\n",
        "    transformers=[         \n",
        "        ('num' , MinMaxScaler() , discrete ),\n",
        "        ('cat', OneHotEncoder(sparse=False), categorical_cols)\n",
        "    ], \n",
        "    remainder = 'passthrough')"
      ],
      "execution_count": null,
      "outputs": []
    },
    {
      "cell_type": "markdown",
      "metadata": {
        "id": "epmdjB8OwCk8"
      },
      "source": [
        "##logistic regression"
      ]
    },
    {
      "cell_type": "code",
      "metadata": {
        "id": "av1swsp_JuGZ"
      },
      "source": [
        "model = LogisticRegression()"
      ],
      "execution_count": null,
      "outputs": []
    },
    {
      "cell_type": "code",
      "metadata": {
        "id": "UYnAVRASJ8OH"
      },
      "source": [
        "lin_clf = Pipeline(steps=[('preprocessor', preprocessor),\n",
        "                       ('model', model)\n",
        "                     ])"
      ],
      "execution_count": null,
      "outputs": []
    },
    {
      "cell_type": "code",
      "metadata": {
        "colab": {
          "base_uri": "https://localhost:8080/"
        },
        "id": "IRJ0O71tKCih",
        "outputId": "e4856e50-eb68-4c49-d0fe-ef23b1ef8051"
      },
      "source": [
        "lin_clf.fit(X_train, y_train)"
      ],
      "execution_count": null,
      "outputs": [
        {
          "output_type": "stream",
          "name": "stderr",
          "text": [
            "/usr/local/lib/python3.7/dist-packages/sklearn/linear_model/_logistic.py:818: ConvergenceWarning: lbfgs failed to converge (status=1):\n",
            "STOP: TOTAL NO. of ITERATIONS REACHED LIMIT.\n",
            "\n",
            "Increase the number of iterations (max_iter) or scale the data as shown in:\n",
            "    https://scikit-learn.org/stable/modules/preprocessing.html\n",
            "Please also refer to the documentation for alternative solver options:\n",
            "    https://scikit-learn.org/stable/modules/linear_model.html#logistic-regression\n",
            "  extra_warning_msg=_LOGISTIC_SOLVER_CONVERGENCE_MSG,\n"
          ]
        },
        {
          "output_type": "execute_result",
          "data": {
            "text/plain": [
              "Pipeline(steps=[('preprocessor',\n",
              "                 ColumnTransformer(remainder='passthrough',\n",
              "                                   transformers=[('num', MinMaxScaler(),\n",
              "                                                  ['same_srv_rate',\n",
              "                                                   'dst_host_srv_serror_rate',\n",
              "                                                   'dst_host_serror_rate',\n",
              "                                                   'srv_serror_rate',\n",
              "                                                   'serror_rate',\n",
              "                                                   'dst_host_same_srv_rate',\n",
              "                                                   'dst_host_srv_diff_host_rate',\n",
              "                                                   'dst_host_srv_count',\n",
              "                                                   'src_bytes', 'dst_bytes']),\n",
              "                                                 ('cat',\n",
              "                                                  OneHotEncoder(sparse=False),\n",
              "                                                  ['protocol_type', 'flag'])])),\n",
              "                ('model', LogisticRegression())])"
            ]
          },
          "metadata": {},
          "execution_count": 30
        }
      ]
    },
    {
      "cell_type": "code",
      "metadata": {
        "id": "zLI9QUk1KGRa"
      },
      "source": [
        "preds = lin_clf.predict(X_test)"
      ],
      "execution_count": null,
      "outputs": []
    },
    {
      "cell_type": "code",
      "metadata": {
        "colab": {
          "base_uri": "https://localhost:8080/"
        },
        "id": "sjRCUahwK-V5",
        "outputId": "47ab5539-74b6-4fda-aa7b-afefb6fdcf9c"
      },
      "source": [
        "print(classification_report(preds, y_test))"
      ],
      "execution_count": null,
      "outputs": [
        {
          "output_type": "stream",
          "name": "stdout",
          "text": [
            "              precision    recall  f1-score   support\n",
            "\n",
            "           0       0.72      0.88      0.79      6107\n",
            "           1       0.48      0.79      0.60      1464\n",
            "           2       0.00      0.00      0.00         0\n",
            "           3       0.94      0.61      0.74     14906\n",
            "\n",
            "    accuracy                           0.70     22477\n",
            "   macro avg       0.54      0.57      0.53     22477\n",
            "weighted avg       0.85      0.70      0.75     22477\n",
            "\n"
          ]
        },
        {
          "output_type": "stream",
          "name": "stderr",
          "text": [
            "/usr/local/lib/python3.7/dist-packages/sklearn/metrics/_classification.py:1308: UndefinedMetricWarning: Recall and F-score are ill-defined and being set to 0.0 in labels with no true samples. Use `zero_division` parameter to control this behavior.\n",
            "  _warn_prf(average, modifier, msg_start, len(result))\n",
            "/usr/local/lib/python3.7/dist-packages/sklearn/metrics/_classification.py:1308: UndefinedMetricWarning: Recall and F-score are ill-defined and being set to 0.0 in labels with no true samples. Use `zero_division` parameter to control this behavior.\n",
            "  _warn_prf(average, modifier, msg_start, len(result))\n",
            "/usr/local/lib/python3.7/dist-packages/sklearn/metrics/_classification.py:1308: UndefinedMetricWarning: Recall and F-score are ill-defined and being set to 0.0 in labels with no true samples. Use `zero_division` parameter to control this behavior.\n",
            "  _warn_prf(average, modifier, msg_start, len(result))\n"
          ]
        }
      ]
    },
    {
      "cell_type": "markdown",
      "metadata": {
        "id": "Pq-QIuNnU0Jg"
      },
      "source": [
        "## MLP"
      ]
    },
    {
      "cell_type": "code",
      "metadata": {
        "id": "eFj7jGiaU2aX"
      },
      "source": [
        "mlp_clf = Pipeline(steps=[('preprocessor', preprocessor)\n",
        "                       #('model', model)\n",
        "                     ])"
      ],
      "execution_count": null,
      "outputs": []
    },
    {
      "cell_type": "code",
      "metadata": {
        "id": "p9tIaoeCVvcs"
      },
      "source": [
        "tranformed_train = preprocessor.fit_transform(X_train)\n",
        "tranformed_train = tranformed_train.astype('float32')"
      ],
      "execution_count": null,
      "outputs": []
    },
    {
      "cell_type": "code",
      "metadata": {
        "id": "fxl5sYHSWDdW"
      },
      "source": [
        "transformed_test = preprocessor.transform(X_test)\n",
        "transformed_test = transformed_test.astype('float32')"
      ],
      "execution_count": null,
      "outputs": []
    },
    {
      "cell_type": "code",
      "metadata": {
        "id": "BEQs9EAMVFG8"
      },
      "source": [
        "from tensorflow.keras.layers import Dense # importing dense layer\n",
        "from tensorflow.keras.models import Sequential #importing Sequential layer\n",
        "from tensorflow.keras.models import model_from_json "
      ],
      "execution_count": null,
      "outputs": []
    },
    {
      "cell_type": "code",
      "metadata": {
        "id": "tEHHsldnNxty"
      },
      "source": [
        "mlp = Sequential() \n",
        "mlp.add(Dense(units=256, input_dim=tranformed_train.shape[1], activation='relu'))\n",
        "mlp.add(Dense(units=128, activation='relu'))\n",
        "mlp.add(Dense(units=64, activation='relu'))\n",
        "mlp.add(Dense(units=4,activation='softmax'))"
      ],
      "execution_count": null,
      "outputs": []
    },
    {
      "cell_type": "code",
      "metadata": {
        "id": "FkTEuV7yWhfY"
      },
      "source": [
        "mlp.compile(loss='categorical_crossentropy', optimizer='adam', metrics=['accuracy'])"
      ],
      "execution_count": null,
      "outputs": []
    },
    {
      "cell_type": "code",
      "metadata": {
        "id": "1inFkWV5ZWAY"
      },
      "source": [
        "onehot = OneHotEncoder(handle_unknown='ignore', sparse=False)\n",
        "y_train = onehot.fit_transform(multi_data[['label']])\n",
        "y_test = onehot.transform(test_data[['label']])"
      ],
      "execution_count": null,
      "outputs": []
    },
    {
      "cell_type": "code",
      "metadata": {
        "colab": {
          "base_uri": "https://localhost:8080/"
        },
        "id": "SBrw2oQha7F_",
        "outputId": "78710bc1-d230-4c94-ed25-fc008e9676f9"
      },
      "source": [
        "tranformed_train.shape"
      ],
      "execution_count": null,
      "outputs": [
        {
          "output_type": "execute_result",
          "data": {
            "text/plain": [
              "(106582, 46)"
            ]
          },
          "metadata": {},
          "execution_count": 326
        }
      ]
    },
    {
      "cell_type": "code",
      "metadata": {
        "colab": {
          "base_uri": "https://localhost:8080/"
        },
        "id": "R853f84vaVF3",
        "outputId": "0d34f823-3f05-426d-c85b-cd07b92e083c"
      },
      "source": [
        "y_train.shape"
      ],
      "execution_count": null,
      "outputs": [
        {
          "output_type": "execute_result",
          "data": {
            "text/plain": [
              "(125921, 4)"
            ]
          },
          "metadata": {},
          "execution_count": 190
        }
      ]
    },
    {
      "cell_type": "code",
      "metadata": {
        "colab": {
          "base_uri": "https://localhost:8080/"
        },
        "id": "CNfBQxETdH1D",
        "outputId": "d0c6a475-712f-4c0d-8026-1e1d30c1de59"
      },
      "source": [
        "y_test.shape"
      ],
      "execution_count": null,
      "outputs": [
        {
          "output_type": "execute_result",
          "data": {
            "text/plain": [
              "(19747, 4)"
            ]
          },
          "metadata": {},
          "execution_count": 145
        }
      ]
    },
    {
      "cell_type": "code",
      "metadata": {
        "id": "-fuqPjfVWqTx"
      },
      "source": [
        "history = mlp.fit(tranformed_train, y_train, epochs=50, batch_size=5000, validation_split=0.2)"
      ],
      "execution_count": null,
      "outputs": []
    },
    {
      "cell_type": "code",
      "metadata": {
        "id": "mBRCu9T_W1UO"
      },
      "source": [
        "preds = mlp.predict(transformed_test).argmax(axis=1)"
      ],
      "execution_count": null,
      "outputs": []
    },
    {
      "cell_type": "code",
      "metadata": {
        "colab": {
          "base_uri": "https://localhost:8080/"
        },
        "id": "KMdPBZPB9tCQ",
        "outputId": "9555f1b3-2995-4f98-d6d3-94a4ae1b3c7c"
      },
      "source": [
        "print(classification_report(preds, test_data['encoded_label']))"
      ],
      "execution_count": null,
      "outputs": [
        {
          "output_type": "stream",
          "name": "stdout",
          "text": [
            "              precision    recall  f1-score   support\n",
            "\n",
            "           0       0.76      0.95      0.84      5463\n",
            "           1       0.73      0.85      0.78      1717\n",
            "           2       0.26      0.59      0.36       943\n",
            "           3       0.97      0.75      0.85     12531\n",
            "\n",
            "    accuracy                           0.80     20654\n",
            "   macro avg       0.68      0.78      0.71     20654\n",
            "weighted avg       0.86      0.80      0.82     20654\n",
            "\n"
          ]
        }
      ]
    },
    {
      "cell_type": "code",
      "metadata": {
        "colab": {
          "base_uri": "https://localhost:8080/"
        },
        "id": "CIVzy7fAurM0",
        "outputId": "ab5079fe-a814-42e5-f47f-5f2dc27b36cf"
      },
      "source": [
        "print(classification_report(preds, test_data['encoded_label']))"
      ],
      "execution_count": null,
      "outputs": [
        {
          "output_type": "stream",
          "name": "stdout",
          "text": [
            "              precision    recall  f1-score   support\n",
            "\n",
            "           0       0.77      0.91      0.83      6282\n",
            "           1       0.58      0.76      0.65      1852\n",
            "           2       0.08      0.95      0.15       247\n",
            "           3       0.97      0.67      0.79     14096\n",
            "\n",
            "    accuracy                           0.75     22477\n",
            "   macro avg       0.60      0.82      0.61     22477\n",
            "weighted avg       0.87      0.75      0.78     22477\n",
            "\n"
          ]
        }
      ]
    },
    {
      "cell_type": "code",
      "metadata": {
        "colab": {
          "base_uri": "https://localhost:8080/"
        },
        "id": "sTJR4SXEcub2",
        "outputId": "c31f658e-8a83-4501-faed-daa9bbb72889"
      },
      "source": [
        "test_results = mlp.evaluate(transformed_test, y_test, verbose=1)\n",
        "print(f'Test results - Loss: {test_results[0]} - Accuracy: {test_results[1]*100}')"
      ],
      "execution_count": null,
      "outputs": [
        {
          "output_type": "stream",
          "name": "stdout",
          "text": [
            "646/646 [==============================] - 2s 3ms/step - loss: 1.3009 - accuracy: 0.7774\n",
            "Test results - Loss: 1.3009090423583984 - Accuracy: 77.74280905723572\n"
          ]
        }
      ]
    },
    {
      "cell_type": "markdown",
      "metadata": {
        "id": "0l4Oq08Z-UDj"
      },
      "source": [
        "## Decision Tree"
      ]
    },
    {
      "cell_type": "code",
      "metadata": {
        "id": "dlLB0spo-WwL"
      },
      "source": [
        "from sklearn.tree import DecisionTreeClassifier"
      ],
      "execution_count": null,
      "outputs": []
    },
    {
      "cell_type": "code",
      "metadata": {
        "id": "cYFf2Ioq_KJ1"
      },
      "source": [
        "model = DecisionTreeClassifier()"
      ],
      "execution_count": null,
      "outputs": []
    },
    {
      "cell_type": "code",
      "metadata": {
        "id": "ltYp9tcU_PAA"
      },
      "source": [
        "dtr_clf = Pipeline(steps=[('preprocessor', preprocessor),\n",
        "                       ('model', model)\n",
        "                     ])\n"
      ],
      "execution_count": null,
      "outputs": []
    },
    {
      "cell_type": "code",
      "metadata": {
        "colab": {
          "base_uri": "https://localhost:8080/"
        },
        "id": "zqlMKxqw_Tv3",
        "outputId": "adc9d386-eef1-4445-a15b-e9189ab76559"
      },
      "source": [
        "dtr_clf.fit(X_train, y_train)"
      ],
      "execution_count": null,
      "outputs": [
        {
          "output_type": "execute_result",
          "data": {
            "text/plain": [
              "Pipeline(steps=[('preprocessor',\n",
              "                 ColumnTransformer(remainder='passthrough',\n",
              "                                   transformers=[('num', MinMaxScaler(),\n",
              "                                                  ['count', 'srv_count',\n",
              "                                                   'serror_rate',\n",
              "                                                   'srv_serror_rate',\n",
              "                                                   'same_srv_rate',\n",
              "                                                   'diff_srv_rate',\n",
              "                                                   'srv_diff_host_rate',\n",
              "                                                   'dst_host_count',\n",
              "                                                   'dst_host_srv_count',\n",
              "                                                   'dst_host_same_srv_rate',\n",
              "                                                   'dst_host_diff_srv_rate',\n",
              "                                                   'dst_host_same_src_port_rate',\n",
              "                                                   'dst_host_srv_diff_host_rate',\n",
              "                                                   'dst_host_serror_rate',\n",
              "                                                   'dst_host_srv_serror_rate']),\n",
              "                                                 ('cat',\n",
              "                                                  OneHotEncoder(sparse=False),\n",
              "                                                  ['protocol_type', 'service',\n",
              "                                                   'flag'])])),\n",
              "                ('model', DecisionTreeClassifier())])"
            ]
          },
          "metadata": {},
          "execution_count": 38
        }
      ]
    },
    {
      "cell_type": "code",
      "metadata": {
        "colab": {
          "base_uri": "https://localhost:8080/"
        },
        "id": "uLgcK4ie_YKa",
        "outputId": "70b710a1-3e76-4e08-a905-8d02d0f7d798"
      },
      "source": [
        "preds = dtr_clf.predict(X_test)\n",
        "print(classification_report(y_test, preds)) #with everything"
      ],
      "execution_count": null,
      "outputs": [
        {
          "output_type": "stream",
          "name": "stdout",
          "text": [
            "              precision    recall  f1-score   support\n",
            "\n",
            "           0       0.95      0.81      0.87      7460\n",
            "           1       0.82      0.62      0.71      2421\n",
            "           2       0.99      0.14      0.24      2885\n",
            "           3       0.68      0.97      0.80      9711\n",
            "\n",
            "    accuracy                           0.77     22477\n",
            "   macro avg       0.86      0.63      0.66     22477\n",
            "weighted avg       0.82      0.77      0.74     22477\n",
            "\n"
          ]
        }
      ]
    },
    {
      "cell_type": "code",
      "metadata": {
        "colab": {
          "base_uri": "https://localhost:8080/"
        },
        "id": "keMMT02Dt59X",
        "outputId": "e3fc40e4-71ac-4bce-d716-424b6839701c"
      },
      "source": [
        "preds = dtr_clf.predict(X_test)\n",
        "print(classification_report(y_test, preds)) #top 15 service"
      ],
      "execution_count": null,
      "outputs": [
        {
          "output_type": "stream",
          "name": "stdout",
          "text": [
            "              precision    recall  f1-score   support\n",
            "\n",
            "           0       0.97      0.79      0.87      6260\n",
            "           1       0.81      0.82      0.82      1723\n",
            "           2       0.96      0.07      0.13      2112\n",
            "           3       0.73      0.96      0.83      9652\n",
            "\n",
            "    accuracy                           0.80     19747\n",
            "   macro avg       0.87      0.66      0.66     19747\n",
            "weighted avg       0.84      0.80      0.77     19747\n",
            "\n"
          ]
        }
      ]
    },
    {
      "cell_type": "code",
      "metadata": {
        "colab": {
          "base_uri": "https://localhost:8080/"
        },
        "id": "qIyOgHhxwQTh",
        "outputId": "f825ef43-0b00-411b-c7b9-1a8829c35815"
      },
      "source": [
        "preds = dtr_clf.predict(X_test)\n",
        "print(classification_report(y_test, preds)) # no service"
      ],
      "execution_count": null,
      "outputs": [
        {
          "output_type": "stream",
          "name": "stdout",
          "text": [
            "              precision    recall  f1-score   support\n",
            "\n",
            "           0       0.97      0.74      0.84      6260\n",
            "           1       0.80      0.75      0.78      1723\n",
            "           2       0.97      0.11      0.20      2112\n",
            "           3       0.71      0.96      0.82      9652\n",
            "\n",
            "    accuracy                           0.78     19747\n",
            "   macro avg       0.86      0.64      0.66     19747\n",
            "weighted avg       0.83      0.78      0.75     19747\n",
            "\n"
          ]
        }
      ]
    },
    {
      "cell_type": "code",
      "metadata": {
        "id": "fR_taJM_x4dD"
      },
      "source": [
        ""
      ],
      "execution_count": null,
      "outputs": []
    },
    {
      "cell_type": "code",
      "metadata": {
        "colab": {
          "base_uri": "https://localhost:8080/"
        },
        "id": "4ynE4rIr_sl8",
        "outputId": "6e646c39-0a88-47e3-d860-4fac2586b060"
      },
      "source": [
        "accuracy_score(y_test, preds)"
      ],
      "execution_count": null,
      "outputs": [
        {
          "output_type": "execute_result",
          "data": {
            "text/plain": [
              "0.7991672315290016"
            ]
          },
          "metadata": {},
          "execution_count": 38
        }
      ]
    },
    {
      "cell_type": "code",
      "metadata": {
        "colab": {
          "base_uri": "https://localhost:8080/"
        },
        "id": "ZuEvVHe6Bql9",
        "outputId": "aff3e2f6-df54-483f-e393-84d2f3af85f9"
      },
      "source": [
        "fea_imps = dtr_clf.steps[1][1].feature_importances_\n",
        "fea_imps"
      ],
      "execution_count": null,
      "outputs": [
        {
          "output_type": "execute_result",
          "data": {
            "text/plain": [
              "array([7.98545917e-03, 4.39121701e-02, 6.73546743e-04, 2.71426393e-05,\n",
              "       2.95731795e-05, 1.20054947e-02, 7.26068005e-05, 7.27448144e-04,\n",
              "       2.60587610e-02, 3.44854284e-03, 9.46733880e-03, 4.27654192e-02,\n",
              "       3.90607300e-03, 1.63126961e-01, 1.89612818e-03, 6.10384053e-04,\n",
              "       3.19744699e-05, 7.00079270e-05, 0.00000000e+00, 6.26712091e-05,\n",
              "       0.00000000e+00, 3.15931633e-04, 2.81170048e-05, 8.47926912e-02,\n",
              "       1.36287199e-04, 2.76783259e-03, 1.08004015e-02, 6.44223169e-02,\n",
              "       3.12411165e-05, 2.94105631e-03, 5.36884630e-06, 5.15118586e-04,\n",
              "       3.38172918e-05, 1.73547473e-05, 2.90118793e-04, 8.99125178e-04,\n",
              "       3.44061968e-05, 7.77288524e-04, 9.57655274e-04, 3.49313797e-05,\n",
              "       0.00000000e+00, 0.00000000e+00, 1.61541441e-03, 3.33889432e-05,\n",
              "       5.04217428e-01, 7.45500481e-03])"
            ]
          },
          "metadata": {},
          "execution_count": 332
        }
      ]
    },
    {
      "cell_type": "code",
      "metadata": {
        "id": "CWrepQOJCU5j"
      },
      "source": [
        "cols = pd.get_dummies(X_train).columns.to_list()"
      ],
      "execution_count": null,
      "outputs": []
    },
    {
      "cell_type": "markdown",
      "metadata": {
        "id": "fVZK_ot6Mopb"
      },
      "source": [
        ""
      ]
    },
    {
      "cell_type": "code",
      "metadata": {
        "id": "JHK6mbQsBzM-"
      },
      "source": [
        "pd.Series(fea_imps, index=cols).sort_values(ascending=False).to_csv('decision_tree_features.csv')"
      ],
      "execution_count": null,
      "outputs": []
    },
    {
      "cell_type": "code",
      "metadata": {
        "colab": {
          "base_uri": "https://localhost:8080/",
          "height": 166
        },
        "id": "Q61mvrtoEz6h",
        "outputId": "bf5b398d-f464-4cce-e0ec-715e32489a49"
      },
      "source": [
        "y_train"
      ],
      "execution_count": null,
      "outputs": [
        {
          "output_type": "error",
          "ename": "NameError",
          "evalue": "ignored",
          "traceback": [
            "\u001b[0;31m---------------------------------------------------------------------------\u001b[0m",
            "\u001b[0;31mNameError\u001b[0m                                 Traceback (most recent call last)",
            "\u001b[0;32m<ipython-input-1-f56205002e60>\u001b[0m in \u001b[0;36m<module>\u001b[0;34m()\u001b[0m\n\u001b[0;32m----> 1\u001b[0;31m \u001b[0my_train\u001b[0m\u001b[0;34m\u001b[0m\u001b[0;34m\u001b[0m\u001b[0m\n\u001b[0m",
            "\u001b[0;31mNameError\u001b[0m: name 'y_train' is not defined"
          ]
        }
      ]
    },
    {
      "cell_type": "code",
      "metadata": {
        "id": "CqwjD979EISa"
      },
      "source": [
        "coded_df = pd.get_dummies(X_train)\n",
        "coded_df['label'] = y_train"
      ],
      "execution_count": null,
      "outputs": []
    },
    {
      "cell_type": "code",
      "metadata": {
        "colab": {
          "base_uri": "https://localhost:8080/",
          "height": 338
        },
        "id": "2o6rjM0yEVXE",
        "outputId": "e28e2fe7-31ad-4edb-8895-2ebd45521ce9"
      },
      "source": [
        "ax = coded_df[coded_df['flag_SF']==1].groupby(['label']).srv_count.count().plot(kind='bar')\n",
        "ax.set_title('FLAG_SF set count')"
      ],
      "execution_count": null,
      "outputs": [
        {
          "output_type": "execute_result",
          "data": {
            "text/plain": [
              "Text(0.5, 1.0, 'FLAG_SF set count')"
            ]
          },
          "metadata": {},
          "execution_count": 81
        },
        {
          "output_type": "display_data",
          "data": {
            "image/png": "[encoded data removed]",
            "text/plain": [
              "<Figure size 432x288 with 1 Axes>"
            ]
          },
          "metadata": {
            "needs_background": "light"
          }
        }
      ]
    },
    {
      "cell_type": "code",
      "metadata": {
        "colab": {
          "base_uri": "https://localhost:8080/",
          "height": 206
        },
        "id": "St1sxge8IgMa",
        "outputId": "cc6f3f13-d807-457e-ae01-8cd6ffc1fa4e"
      },
      "source": [
        "coded_df.groupby('label').dst_host_serror_rate.describe()"
      ],
      "execution_count": null,
      "outputs": [
        {
          "output_type": "execute_result",
          "data": {
            "text/html": [
              "<div>\n",
              "<style scoped>\n",
              "    .dataframe tbody tr th:only-of-type {\n",
              "        vertical-align: middle;\n",
              "    }\n",
              "\n",
              "    .dataframe tbody tr th {\n",
              "        vertical-align: top;\n",
              "    }\n",
              "\n",
              "    .dataframe thead th {\n",
              "        text-align: right;\n",
              "    }\n",
              "</style>\n",
              "<table border=\"1\" class=\"dataframe\">\n",
              "  <thead>\n",
              "    <tr style=\"text-align: right;\">\n",
              "      <th></th>\n",
              "      <th>count</th>\n",
              "      <th>mean</th>\n",
              "      <th>std</th>\n",
              "      <th>min</th>\n",
              "      <th>25%</th>\n",
              "      <th>50%</th>\n",
              "      <th>75%</th>\n",
              "      <th>max</th>\n",
              "    </tr>\n",
              "    <tr>\n",
              "      <th>label</th>\n",
              "      <th></th>\n",
              "      <th></th>\n",
              "      <th></th>\n",
              "      <th></th>\n",
              "      <th></th>\n",
              "      <th></th>\n",
              "      <th></th>\n",
              "      <th></th>\n",
              "    </tr>\n",
              "  </thead>\n",
              "  <tbody>\n",
              "    <tr>\n",
              "      <th>0</th>\n",
              "      <td>28596.0</td>\n",
              "      <td>0.714166</td>\n",
              "      <td>0.447967</td>\n",
              "      <td>0.0</td>\n",
              "      <td>0.0</td>\n",
              "      <td>1.0</td>\n",
              "      <td>1.00</td>\n",
              "      <td>1.0</td>\n",
              "    </tr>\n",
              "    <tr>\n",
              "      <th>1</th>\n",
              "      <td>11019.0</td>\n",
              "      <td>0.042144</td>\n",
              "      <td>0.138641</td>\n",
              "      <td>0.0</td>\n",
              "      <td>0.0</td>\n",
              "      <td>0.0</td>\n",
              "      <td>0.01</td>\n",
              "      <td>1.0</td>\n",
              "    </tr>\n",
              "    <tr>\n",
              "      <th>2</th>\n",
              "      <td>982.0</td>\n",
              "      <td>0.017678</td>\n",
              "      <td>0.066574</td>\n",
              "      <td>0.0</td>\n",
              "      <td>0.0</td>\n",
              "      <td>0.0</td>\n",
              "      <td>0.00</td>\n",
              "      <td>1.0</td>\n",
              "    </tr>\n",
              "    <tr>\n",
              "      <th>3</th>\n",
              "      <td>65985.0</td>\n",
              "      <td>0.013963</td>\n",
              "      <td>0.092548</td>\n",
              "      <td>0.0</td>\n",
              "      <td>0.0</td>\n",
              "      <td>0.0</td>\n",
              "      <td>0.00</td>\n",
              "      <td>1.0</td>\n",
              "    </tr>\n",
              "  </tbody>\n",
              "</table>\n",
              "</div>"
            ],
            "text/plain": [
              "         count      mean       std  min  25%  50%   75%  max\n",
              "label                                                       \n",
              "0      28596.0  0.714166  0.447967  0.0  0.0  1.0  1.00  1.0\n",
              "1      11019.0  0.042144  0.138641  0.0  0.0  0.0  0.01  1.0\n",
              "2        982.0  0.017678  0.066574  0.0  0.0  0.0  0.00  1.0\n",
              "3      65985.0  0.013963  0.092548  0.0  0.0  0.0  0.00  1.0"
            ]
          },
          "metadata": {},
          "execution_count": 356
        }
      ]
    },
    {
      "cell_type": "markdown",
      "metadata": {
        "id": "1oNJOwNGDVpu"
      },
      "source": [
        "##Random Forest\n"
      ]
    },
    {
      "cell_type": "code",
      "metadata": {
        "id": "3XNdet9PDYKZ"
      },
      "source": [
        "model = RandomForestClassifier(n_estimators=300)"
      ],
      "execution_count": null,
      "outputs": []
    },
    {
      "cell_type": "code",
      "metadata": {
        "id": "-hpzOHlhDd7B"
      },
      "source": [
        "rf_clf = Pipeline(steps=[('preprocessor', preprocessor),\n",
        "                       ('model', model)\n",
        "                     ])\n"
      ],
      "execution_count": null,
      "outputs": []
    },
    {
      "cell_type": "code",
      "metadata": {
        "colab": {
          "base_uri": "https://localhost:8080/"
        },
        "id": "ml2T84LoDiNj",
        "outputId": "2b3c321d-d30c-4a0b-97c0-7fa183e48a73"
      },
      "source": [
        "rf_clf.fit(X_train, y_train)"
      ],
      "execution_count": null,
      "outputs": [
        {
          "output_type": "execute_result",
          "data": {
            "text/plain": [
              "Pipeline(steps=[('preprocessor',\n",
              "                 ColumnTransformer(remainder='passthrough',\n",
              "                                   transformers=[('num', MinMaxScaler(),\n",
              "                                                  ['count', 'srv_count',\n",
              "                                                   'serror_rate',\n",
              "                                                   'srv_serror_rate',\n",
              "                                                   'same_srv_rate',\n",
              "                                                   'diff_srv_rate',\n",
              "                                                   'srv_diff_host_rate',\n",
              "                                                   'dst_host_count',\n",
              "                                                   'dst_host_srv_count',\n",
              "                                                   'dst_host_same_srv_rate',\n",
              "                                                   'dst_host_diff_srv_rate',\n",
              "                                                   'dst_host_same_src_port_rate',\n",
              "                                                   'dst_host_srv_diff_host_rate',\n",
              "                                                   'dst_host_serror_rate',\n",
              "                                                   'dst_host_srv_serror_rate']),\n",
              "                                                 ('cat',\n",
              "                                                  OneHotEncoder(sparse=False),\n",
              "                                                  ['protocol_type', 'service',\n",
              "                                                   'flag'])])),\n",
              "                ('model', RandomForestClassifier(n_estimators=300))])"
            ]
          },
          "metadata": {},
          "execution_count": 340
        }
      ]
    },
    {
      "cell_type": "code",
      "metadata": {
        "colab": {
          "base_uri": "https://localhost:8080/"
        },
        "id": "haYx-ghKDq3r",
        "outputId": "21f6f733-c010-4853-c63f-3cafb2479397"
      },
      "source": [
        "preds = rf_clf.predict(X_test)\n",
        "print(classification_report(y_test, preds))"
      ],
      "execution_count": null,
      "outputs": [
        {
          "output_type": "stream",
          "name": "stdout",
          "text": [
            "              precision    recall  f1-score   support\n",
            "\n",
            "           0       0.98      0.80      0.88      6260\n",
            "           1       0.87      0.81      0.84      1723\n",
            "           2       0.99      0.10      0.18      2112\n",
            "           3       0.73      0.97      0.84      9652\n",
            "\n",
            "    accuracy                           0.81     19747\n",
            "   macro avg       0.89      0.67      0.68     19747\n",
            "weighted avg       0.85      0.81      0.78     19747\n",
            "\n"
          ]
        }
      ]
    },
    {
      "cell_type": "code",
      "metadata": {
        "colab": {
          "base_uri": "https://localhost:8080/"
        },
        "id": "LjxwvQwMHDn2",
        "outputId": "6222da95-251f-4722-d07b-07179edb0bdc"
      },
      "source": [
        "preds = rf_clf.predict(X_test)\n",
        "print(classification_report(y_test, preds))"
      ],
      "execution_count": null,
      "outputs": [
        {
          "output_type": "stream",
          "name": "stdout",
          "text": [
            "              precision    recall  f1-score   support\n",
            "\n",
            "           0       0.98      0.80      0.88      6260\n",
            "           1       0.87      0.81      0.84      1723\n",
            "           2       0.99      0.10      0.18      2112\n",
            "           3       0.73      0.97      0.84      9652\n",
            "\n",
            "    accuracy                           0.81     19747\n",
            "   macro avg       0.89      0.67      0.68     19747\n",
            "weighted avg       0.85      0.81      0.78     19747\n",
            "\n"
          ]
        }
      ]
    },
    {
      "cell_type": "code",
      "metadata": {
        "colab": {
          "base_uri": "https://localhost:8080/"
        },
        "id": "5FmWXtCrHNG-",
        "outputId": "0ba71fc8-4f61-43b0-864c-676e0c5b1a05"
      },
      "source": [
        "fea_imps_rf = rf_clf.steps[1][1].feature_importances_\n",
        "fea_imps_rf"
      ],
      "execution_count": null,
      "outputs": [
        {
          "output_type": "execute_result",
          "data": {
            "text/plain": [
              "array([5.03649800e-02, 2.83425154e-02, 3.60136712e-02, 1.93887017e-02,\n",
              "       4.68704840e-02, 5.36296576e-02, 4.55660721e-03, 1.91434779e-02,\n",
              "       3.64679681e-02, 4.10218055e-02, 3.82751611e-02, 3.40879259e-02,\n",
              "       2.29246906e-02, 5.04343104e-02, 3.91965688e-02, 2.67571833e-02,\n",
              "       1.15121764e-02, 4.79011979e-03, 5.16385942e-05, 1.50649362e-04,\n",
              "       3.29000274e-05, 2.40811450e-03, 2.06913550e-02, 1.65630458e-02,\n",
              "       3.10481539e-04, 1.99866174e-03, 5.69385316e-03, 1.25588625e-02,\n",
              "       2.34214039e-03, 2.65219582e-02, 7.90022065e-04, 6.37617861e-04,\n",
              "       5.71760139e-05, 2.02796309e-05, 3.54140414e-03, 9.97709462e-04,\n",
              "       2.55527847e-04, 6.85212052e-03, 5.53038384e-02, 2.73522092e-04,\n",
              "       2.56493789e-05, 1.95574445e-05, 3.74258689e-02, 5.76989229e-04,\n",
              "       1.38817325e-01, 1.01303726e-01])"
            ]
          },
          "metadata": {},
          "execution_count": 351
        }
      ]
    },
    {
      "cell_type": "code",
      "metadata": {
        "id": "zjg411EeHWxN"
      },
      "source": [
        "pd.Series(fea_imps_rf, index=cols).sort_values(ascending=False).to_csv('rf_features.csv')"
      ],
      "execution_count": null,
      "outputs": []
    },
    {
      "cell_type": "code",
      "metadata": {
        "id": "JjY0yEKnOuTW"
      },
      "source": [
        ""
      ],
      "execution_count": null,
      "outputs": []
    },
    {
      "cell_type": "markdown",
      "metadata": {
        "id": "gi371t_QPu-T"
      },
      "source": [
        "## One vs Rest"
      ]
    },
    {
      "cell_type": "code",
      "metadata": {
        "id": "taE1QfaWPxK2"
      },
      "source": [
        "from sklearn.multiclass import OneVsRestClassifier\n",
        "from sklearn.tree import DecisionTreeClassifier\n",
        "from sklearn.ensemble import RandomForestClassifier\n",
        "model = OneVsRestClassifier(DecisionTreeClassifier(),n_jobs = -1)"
      ],
      "execution_count": null,
      "outputs": []
    },
    {
      "cell_type": "code",
      "metadata": {
        "id": "JOmFxDPSP0S-"
      },
      "source": [
        "onev = Pipeline(steps=[('preprocessor', preprocessor),\n",
        "                       ('model', model)\n",
        "                     ])"
      ],
      "execution_count": null,
      "outputs": []
    },
    {
      "cell_type": "code",
      "metadata": {
        "colab": {
          "base_uri": "https://localhost:8080/"
        },
        "id": "UbdAETy_P6YA",
        "outputId": "1cf49f38-6036-4123-a568-19815bec4106"
      },
      "source": [
        "onev.fit(X_train, y_train)"
      ],
      "execution_count": null,
      "outputs": [
        {
          "output_type": "execute_result",
          "data": {
            "text/plain": [
              "Pipeline(steps=[('preprocessor',\n",
              "                 ColumnTransformer(remainder='passthrough',\n",
              "                                   transformers=[('num', MinMaxScaler(),\n",
              "                                                  ['count', 'srv_count',\n",
              "                                                   'serror_rate',\n",
              "                                                   'srv_serror_rate',\n",
              "                                                   'same_srv_rate',\n",
              "                                                   'diff_srv_rate',\n",
              "                                                   'srv_diff_host_rate',\n",
              "                                                   'dst_host_count',\n",
              "                                                   'dst_host_srv_count',\n",
              "                                                   'dst_host_same_srv_rate',\n",
              "                                                   'dst_host_diff_srv_rate',\n",
              "                                                   'dst_host_same_src_port_rate',\n",
              "                                                   'dst_host_srv_diff_host_rate',\n",
              "                                                   'dst_host_serror_rate',\n",
              "                                                   'dst_host_srv_serror_rate']),\n",
              "                                                 ('cat',\n",
              "                                                  OneHotEncoder(sparse=False),\n",
              "                                                  ['protocol_type', 'service',\n",
              "                                                   'flag'])])),\n",
              "                ('model',\n",
              "                 OneVsRestClassifier(estimator=DecisionTreeClassifier(),\n",
              "                                     n_jobs=-1))])"
            ]
          },
          "metadata": {},
          "execution_count": 42
        }
      ]
    },
    {
      "cell_type": "code",
      "metadata": {
        "colab": {
          "base_uri": "https://localhost:8080/"
        },
        "id": "-Ge-z2N4P-u-",
        "outputId": "e546c1b2-738a-4828-a03a-53c4a5fceda3"
      },
      "source": [
        "preds = onev.predict(X_test)\n",
        "print(classification_report(preds, y_test))"
      ],
      "execution_count": null,
      "outputs": [
        {
          "output_type": "stream",
          "name": "stdout",
          "text": [
            "              precision    recall  f1-score   support\n",
            "\n",
            "           0       0.70      0.98      0.81      4492\n",
            "           1       0.82      0.85      0.83      1652\n",
            "           2       0.06      0.76      0.11       168\n",
            "           3       0.97      0.70      0.81     13435\n",
            "\n",
            "    accuracy                           0.78     19747\n",
            "   macro avg       0.64      0.82      0.64     19747\n",
            "weighted avg       0.89      0.78      0.81     19747\n",
            "\n"
          ]
        }
      ]
    },
    {
      "cell_type": "code",
      "metadata": {
        "id": "U7f-E1hsQILZ"
      },
      "source": [
        "cols = pd.get_dummies(X_train).columns.to_list()"
      ],
      "execution_count": null,
      "outputs": []
    },
    {
      "cell_type": "code",
      "metadata": {
        "id": "BVFyW9rnQKlI"
      },
      "source": [
        "ovr_imps = pd.DataFrame({i:j.feature_importances_ for i,j in enumerate(onev.steps[1][1].estimators_)},index=cols)"
      ],
      "execution_count": null,
      "outputs": []
    },
    {
      "cell_type": "code",
      "metadata": {
        "colab": {
          "base_uri": "https://localhost:8080/",
          "height": 1000
        },
        "id": "rEsNPRziQ34p",
        "outputId": "40d1f01e-1cd8-4a18-e958-666c6ced9575"
      },
      "source": [
        "ovr_imps.sort_values(by=0, ascending=False)"
      ],
      "execution_count": null,
      "outputs": [
        {
          "output_type": "execute_result",
          "data": {
            "text/html": [
              "<div>\n",
              "<style scoped>\n",
              "    .dataframe tbody tr th:only-of-type {\n",
              "        vertical-align: middle;\n",
              "    }\n",
              "\n",
              "    .dataframe tbody tr th {\n",
              "        vertical-align: top;\n",
              "    }\n",
              "\n",
              "    .dataframe thead th {\n",
              "        text-align: right;\n",
              "    }\n",
              "</style>\n",
              "<table border=\"1\" class=\"dataframe\">\n",
              "  <thead>\n",
              "    <tr style=\"text-align: right;\">\n",
              "      <th></th>\n",
              "      <th>0</th>\n",
              "      <th>1</th>\n",
              "      <th>2</th>\n",
              "      <th>3</th>\n",
              "    </tr>\n",
              "  </thead>\n",
              "  <tbody>\n",
              "    <tr>\n",
              "      <th>dst_host_serror_rate</th>\n",
              "      <td>0.626654</td>\n",
              "      <td>0.000102</td>\n",
              "      <td>3.914083e-02</td>\n",
              "      <td>0.002515</td>\n",
              "    </tr>\n",
              "    <tr>\n",
              "      <th>service_domain_u</th>\n",
              "      <td>0.103884</td>\n",
              "      <td>0.000014</td>\n",
              "      <td>0.000000e+00</td>\n",
              "      <td>0.093938</td>\n",
              "    </tr>\n",
              "    <tr>\n",
              "      <th>diff_srv_rate</th>\n",
              "      <td>0.078984</td>\n",
              "      <td>0.002570</td>\n",
              "      <td>0.000000e+00</td>\n",
              "      <td>0.001476</td>\n",
              "    </tr>\n",
              "    <tr>\n",
              "      <th>same_srv_rate</th>\n",
              "      <td>0.073759</td>\n",
              "      <td>0.002034</td>\n",
              "      <td>0.000000e+00</td>\n",
              "      <td>0.000139</td>\n",
              "    </tr>\n",
              "    <tr>\n",
              "      <th>flag_SF</th>\n",
              "      <td>0.040819</td>\n",
              "      <td>0.284453</td>\n",
              "      <td>1.360439e-01</td>\n",
              "      <td>0.712231</td>\n",
              "    </tr>\n",
              "    <tr>\n",
              "      <th>srv_count</th>\n",
              "      <td>0.021228</td>\n",
              "      <td>0.000442</td>\n",
              "      <td>2.412798e-03</td>\n",
              "      <td>0.000081</td>\n",
              "    </tr>\n",
              "    <tr>\n",
              "      <th>service_ftp</th>\n",
              "      <td>0.017189</td>\n",
              "      <td>0.000000</td>\n",
              "      <td>0.000000e+00</td>\n",
              "      <td>0.064859</td>\n",
              "    </tr>\n",
              "    <tr>\n",
              "      <th>dst_host_same_src_port_rate</th>\n",
              "      <td>0.008988</td>\n",
              "      <td>0.006876</td>\n",
              "      <td>2.970578e-01</td>\n",
              "      <td>0.003630</td>\n",
              "    </tr>\n",
              "    <tr>\n",
              "      <th>service_http</th>\n",
              "      <td>0.008713</td>\n",
              "      <td>0.038382</td>\n",
              "      <td>0.000000e+00</td>\n",
              "      <td>0.001862</td>\n",
              "    </tr>\n",
              "    <tr>\n",
              "      <th>flag_S2</th>\n",
              "      <td>0.005459</td>\n",
              "      <td>0.000316</td>\n",
              "      <td>6.851998e-04</td>\n",
              "      <td>0.000159</td>\n",
              "    </tr>\n",
              "    <tr>\n",
              "      <th>flag_RSTOS0</th>\n",
              "      <td>0.004736</td>\n",
              "      <td>0.000382</td>\n",
              "      <td>0.000000e+00</td>\n",
              "      <td>0.000000</td>\n",
              "    </tr>\n",
              "    <tr>\n",
              "      <th>count</th>\n",
              "      <td>0.003233</td>\n",
              "      <td>0.001412</td>\n",
              "      <td>6.867570e-04</td>\n",
              "      <td>0.003859</td>\n",
              "    </tr>\n",
              "    <tr>\n",
              "      <th>protocol_type_icmp</th>\n",
              "      <td>0.001782</td>\n",
              "      <td>0.003421</td>\n",
              "      <td>0.000000e+00</td>\n",
              "      <td>0.000000</td>\n",
              "    </tr>\n",
              "    <tr>\n",
              "      <th>srv_serror_rate</th>\n",
              "      <td>0.001164</td>\n",
              "      <td>0.000000</td>\n",
              "      <td>0.000000e+00</td>\n",
              "      <td>0.000020</td>\n",
              "    </tr>\n",
              "    <tr>\n",
              "      <th>dst_host_srv_serror_rate</th>\n",
              "      <td>0.001143</td>\n",
              "      <td>0.000675</td>\n",
              "      <td>4.602088e-03</td>\n",
              "      <td>0.001876</td>\n",
              "    </tr>\n",
              "    <tr>\n",
              "      <th>dst_host_diff_srv_rate</th>\n",
              "      <td>0.001042</td>\n",
              "      <td>0.309617</td>\n",
              "      <td>1.258930e-02</td>\n",
              "      <td>0.015247</td>\n",
              "    </tr>\n",
              "    <tr>\n",
              "      <th>dst_host_count</th>\n",
              "      <td>0.000580</td>\n",
              "      <td>0.002180</td>\n",
              "      <td>1.373741e-02</td>\n",
              "      <td>0.002821</td>\n",
              "    </tr>\n",
              "    <tr>\n",
              "      <th>flag_RSTO</th>\n",
              "      <td>0.000233</td>\n",
              "      <td>0.009938</td>\n",
              "      <td>5.138998e-04</td>\n",
              "      <td>0.000633</td>\n",
              "    </tr>\n",
              "    <tr>\n",
              "      <th>dst_host_same_srv_rate</th>\n",
              "      <td>0.000163</td>\n",
              "      <td>0.014195</td>\n",
              "      <td>5.647362e-03</td>\n",
              "      <td>0.034636</td>\n",
              "    </tr>\n",
              "    <tr>\n",
              "      <th>srv_diff_host_rate</th>\n",
              "      <td>0.000054</td>\n",
              "      <td>0.000000</td>\n",
              "      <td>1.984717e-04</td>\n",
              "      <td>0.000088</td>\n",
              "    </tr>\n",
              "    <tr>\n",
              "      <th>dst_host_srv_count</th>\n",
              "      <td>0.000046</td>\n",
              "      <td>0.000835</td>\n",
              "      <td>1.394255e-01</td>\n",
              "      <td>0.004442</td>\n",
              "    </tr>\n",
              "    <tr>\n",
              "      <th>service_uucp</th>\n",
              "      <td>0.000046</td>\n",
              "      <td>0.008939</td>\n",
              "      <td>1.025130e-03</td>\n",
              "      <td>0.000284</td>\n",
              "    </tr>\n",
              "    <tr>\n",
              "      <th>service_smtp</th>\n",
              "      <td>0.000043</td>\n",
              "      <td>0.000043</td>\n",
              "      <td>0.000000e+00</td>\n",
              "      <td>0.000000</td>\n",
              "    </tr>\n",
              "    <tr>\n",
              "      <th>serror_rate</th>\n",
              "      <td>0.000035</td>\n",
              "      <td>0.000182</td>\n",
              "      <td>0.000000e+00</td>\n",
              "      <td>0.000045</td>\n",
              "    </tr>\n",
              "    <tr>\n",
              "      <th>dst_host_srv_diff_host_rate</th>\n",
              "      <td>0.000022</td>\n",
              "      <td>0.000093</td>\n",
              "      <td>1.124040e-01</td>\n",
              "      <td>0.004253</td>\n",
              "    </tr>\n",
              "    <tr>\n",
              "      <th>service_ecr_i</th>\n",
              "      <td>0.000000</td>\n",
              "      <td>0.000153</td>\n",
              "      <td>5.261916e-02</td>\n",
              "      <td>0.002979</td>\n",
              "    </tr>\n",
              "    <tr>\n",
              "      <th>flag_REJ</th>\n",
              "      <td>0.000000</td>\n",
              "      <td>0.003812</td>\n",
              "      <td>0.000000e+00</td>\n",
              "      <td>0.000000</td>\n",
              "    </tr>\n",
              "    <tr>\n",
              "      <th>src_bytes</th>\n",
              "      <td>0.000000</td>\n",
              "      <td>0.003221</td>\n",
              "      <td>0.000000e+00</td>\n",
              "      <td>0.000000</td>\n",
              "    </tr>\n",
              "    <tr>\n",
              "      <th>flag_S3</th>\n",
              "      <td>0.000000</td>\n",
              "      <td>0.000000</td>\n",
              "      <td>0.000000e+00</td>\n",
              "      <td>0.000000</td>\n",
              "    </tr>\n",
              "    <tr>\n",
              "      <th>dst_bytes</th>\n",
              "      <td>0.000000</td>\n",
              "      <td>0.000391</td>\n",
              "      <td>0.000000e+00</td>\n",
              "      <td>0.000000</td>\n",
              "    </tr>\n",
              "    <tr>\n",
              "      <th>flag_S1</th>\n",
              "      <td>0.000000</td>\n",
              "      <td>0.000000</td>\n",
              "      <td>1.277575e-04</td>\n",
              "      <td>0.000000</td>\n",
              "    </tr>\n",
              "    <tr>\n",
              "      <th>flag_S0</th>\n",
              "      <td>0.000000</td>\n",
              "      <td>0.000000</td>\n",
              "      <td>0.000000e+00</td>\n",
              "      <td>0.000079</td>\n",
              "    </tr>\n",
              "    <tr>\n",
              "      <th>flag_RSTR</th>\n",
              "      <td>0.000000</td>\n",
              "      <td>0.000101</td>\n",
              "      <td>0.000000e+00</td>\n",
              "      <td>0.000855</td>\n",
              "    </tr>\n",
              "    <tr>\n",
              "      <th>protocol_type_tcp</th>\n",
              "      <td>0.000000</td>\n",
              "      <td>0.000000</td>\n",
              "      <td>0.000000e+00</td>\n",
              "      <td>0.000000</td>\n",
              "    </tr>\n",
              "    <tr>\n",
              "      <th>protocol_type_udp</th>\n",
              "      <td>0.000000</td>\n",
              "      <td>0.000000</td>\n",
              "      <td>0.000000e+00</td>\n",
              "      <td>0.000166</td>\n",
              "    </tr>\n",
              "    <tr>\n",
              "      <th>flag_OTH</th>\n",
              "      <td>0.000000</td>\n",
              "      <td>0.001048</td>\n",
              "      <td>3.031541e-03</td>\n",
              "      <td>0.001171</td>\n",
              "    </tr>\n",
              "    <tr>\n",
              "      <th>service_finger</th>\n",
              "      <td>0.000000</td>\n",
              "      <td>0.000270</td>\n",
              "      <td>4.168889e-02</td>\n",
              "      <td>0.013299</td>\n",
              "    </tr>\n",
              "    <tr>\n",
              "      <th>service_Z39_50</th>\n",
              "      <td>0.000000</td>\n",
              "      <td>0.000000</td>\n",
              "      <td>0.000000e+00</td>\n",
              "      <td>0.000000</td>\n",
              "    </tr>\n",
              "    <tr>\n",
              "      <th>service_telnet</th>\n",
              "      <td>0.000000</td>\n",
              "      <td>0.000100</td>\n",
              "      <td>0.000000e+00</td>\n",
              "      <td>0.000040</td>\n",
              "    </tr>\n",
              "    <tr>\n",
              "      <th>service_auth</th>\n",
              "      <td>0.000000</td>\n",
              "      <td>0.000000</td>\n",
              "      <td>0.000000e+00</td>\n",
              "      <td>0.000181</td>\n",
              "    </tr>\n",
              "    <tr>\n",
              "      <th>service_private</th>\n",
              "      <td>0.000000</td>\n",
              "      <td>0.000070</td>\n",
              "      <td>4.607354e-05</td>\n",
              "      <td>0.000026</td>\n",
              "    </tr>\n",
              "    <tr>\n",
              "      <th>service_other</th>\n",
              "      <td>0.000000</td>\n",
              "      <td>0.000159</td>\n",
              "      <td>0.000000e+00</td>\n",
              "      <td>0.001366</td>\n",
              "    </tr>\n",
              "    <tr>\n",
              "      <th>service_courier</th>\n",
              "      <td>0.000000</td>\n",
              "      <td>0.301389</td>\n",
              "      <td>0.000000e+00</td>\n",
              "      <td>0.000010</td>\n",
              "    </tr>\n",
              "    <tr>\n",
              "      <th>service_ftp_data</th>\n",
              "      <td>0.000000</td>\n",
              "      <td>0.000797</td>\n",
              "      <td>9.004119e-07</td>\n",
              "      <td>0.000043</td>\n",
              "    </tr>\n",
              "    <tr>\n",
              "      <th>service_eco_i</th>\n",
              "      <td>0.000000</td>\n",
              "      <td>0.000109</td>\n",
              "      <td>0.000000e+00</td>\n",
              "      <td>0.000189</td>\n",
              "    </tr>\n",
              "    <tr>\n",
              "      <th>flag_SH</th>\n",
              "      <td>0.000000</td>\n",
              "      <td>0.001281</td>\n",
              "      <td>1.363152e-01</td>\n",
              "      <td>0.030502</td>\n",
              "    </tr>\n",
              "  </tbody>\n",
              "</table>\n",
              "</div>"
            ],
            "text/plain": [
              "                                    0         1             2         3\n",
              "dst_host_serror_rate         0.626654  0.000102  3.914083e-02  0.002515\n",
              "service_domain_u             0.103884  0.000014  0.000000e+00  0.093938\n",
              "diff_srv_rate                0.078984  0.002570  0.000000e+00  0.001476\n",
              "same_srv_rate                0.073759  0.002034  0.000000e+00  0.000139\n",
              "flag_SF                      0.040819  0.284453  1.360439e-01  0.712231\n",
              "srv_count                    0.021228  0.000442  2.412798e-03  0.000081\n",
              "service_ftp                  0.017189  0.000000  0.000000e+00  0.064859\n",
              "dst_host_same_src_port_rate  0.008988  0.006876  2.970578e-01  0.003630\n",
              "service_http                 0.008713  0.038382  0.000000e+00  0.001862\n",
              "flag_S2                      0.005459  0.000316  6.851998e-04  0.000159\n",
              "flag_RSTOS0                  0.004736  0.000382  0.000000e+00  0.000000\n",
              "count                        0.003233  0.001412  6.867570e-04  0.003859\n",
              "protocol_type_icmp           0.001782  0.003421  0.000000e+00  0.000000\n",
              "srv_serror_rate              0.001164  0.000000  0.000000e+00  0.000020\n",
              "dst_host_srv_serror_rate     0.001143  0.000675  4.602088e-03  0.001876\n",
              "dst_host_diff_srv_rate       0.001042  0.309617  1.258930e-02  0.015247\n",
              "dst_host_count               0.000580  0.002180  1.373741e-02  0.002821\n",
              "flag_RSTO                    0.000233  0.009938  5.138998e-04  0.000633\n",
              "dst_host_same_srv_rate       0.000163  0.014195  5.647362e-03  0.034636\n",
              "srv_diff_host_rate           0.000054  0.000000  1.984717e-04  0.000088\n",
              "dst_host_srv_count           0.000046  0.000835  1.394255e-01  0.004442\n",
              "service_uucp                 0.000046  0.008939  1.025130e-03  0.000284\n",
              "service_smtp                 0.000043  0.000043  0.000000e+00  0.000000\n",
              "serror_rate                  0.000035  0.000182  0.000000e+00  0.000045\n",
              "dst_host_srv_diff_host_rate  0.000022  0.000093  1.124040e-01  0.004253\n",
              "service_ecr_i                0.000000  0.000153  5.261916e-02  0.002979\n",
              "flag_REJ                     0.000000  0.003812  0.000000e+00  0.000000\n",
              "src_bytes                    0.000000  0.003221  0.000000e+00  0.000000\n",
              "flag_S3                      0.000000  0.000000  0.000000e+00  0.000000\n",
              "dst_bytes                    0.000000  0.000391  0.000000e+00  0.000000\n",
              "flag_S1                      0.000000  0.000000  1.277575e-04  0.000000\n",
              "flag_S0                      0.000000  0.000000  0.000000e+00  0.000079\n",
              "flag_RSTR                    0.000000  0.000101  0.000000e+00  0.000855\n",
              "protocol_type_tcp            0.000000  0.000000  0.000000e+00  0.000000\n",
              "protocol_type_udp            0.000000  0.000000  0.000000e+00  0.000166\n",
              "flag_OTH                     0.000000  0.001048  3.031541e-03  0.001171\n",
              "service_finger               0.000000  0.000270  4.168889e-02  0.013299\n",
              "service_Z39_50               0.000000  0.000000  0.000000e+00  0.000000\n",
              "service_telnet               0.000000  0.000100  0.000000e+00  0.000040\n",
              "service_auth                 0.000000  0.000000  0.000000e+00  0.000181\n",
              "service_private              0.000000  0.000070  4.607354e-05  0.000026\n",
              "service_other                0.000000  0.000159  0.000000e+00  0.001366\n",
              "service_courier              0.000000  0.301389  0.000000e+00  0.000010\n",
              "service_ftp_data             0.000000  0.000797  9.004119e-07  0.000043\n",
              "service_eco_i                0.000000  0.000109  0.000000e+00  0.000189\n",
              "flag_SH                      0.000000  0.001281  1.363152e-01  0.030502"
            ]
          },
          "metadata": {},
          "execution_count": 48
        }
      ]
    },
    {
      "cell_type": "code",
      "metadata": {
        "colab": {
          "base_uri": "https://localhost:8080/",
          "height": 1000
        },
        "id": "L3BkXHbhRHuS",
        "outputId": "dd8113da-49de-4093-a464-d075606b04cc"
      },
      "source": [
        "ovr_imps.sort_values(by=1,ascending=False)"
      ],
      "execution_count": null,
      "outputs": [
        {
          "output_type": "execute_result",
          "data": {
            "text/html": [
              "<div>\n",
              "<style scoped>\n",
              "    .dataframe tbody tr th:only-of-type {\n",
              "        vertical-align: middle;\n",
              "    }\n",
              "\n",
              "    .dataframe tbody tr th {\n",
              "        vertical-align: top;\n",
              "    }\n",
              "\n",
              "    .dataframe thead th {\n",
              "        text-align: right;\n",
              "    }\n",
              "</style>\n",
              "<table border=\"1\" class=\"dataframe\">\n",
              "  <thead>\n",
              "    <tr style=\"text-align: right;\">\n",
              "      <th></th>\n",
              "      <th>0</th>\n",
              "      <th>1</th>\n",
              "      <th>2</th>\n",
              "      <th>3</th>\n",
              "    </tr>\n",
              "  </thead>\n",
              "  <tbody>\n",
              "    <tr>\n",
              "      <th>dst_host_diff_srv_rate</th>\n",
              "      <td>0.001042</td>\n",
              "      <td>0.309617</td>\n",
              "      <td>1.258930e-02</td>\n",
              "      <td>0.015247</td>\n",
              "    </tr>\n",
              "    <tr>\n",
              "      <th>service_courier</th>\n",
              "      <td>0.000000</td>\n",
              "      <td>0.301389</td>\n",
              "      <td>0.000000e+00</td>\n",
              "      <td>0.000010</td>\n",
              "    </tr>\n",
              "    <tr>\n",
              "      <th>flag_SF</th>\n",
              "      <td>0.040819</td>\n",
              "      <td>0.284453</td>\n",
              "      <td>1.360439e-01</td>\n",
              "      <td>0.712231</td>\n",
              "    </tr>\n",
              "    <tr>\n",
              "      <th>service_http</th>\n",
              "      <td>0.008713</td>\n",
              "      <td>0.038382</td>\n",
              "      <td>0.000000e+00</td>\n",
              "      <td>0.001862</td>\n",
              "    </tr>\n",
              "    <tr>\n",
              "      <th>dst_host_same_srv_rate</th>\n",
              "      <td>0.000163</td>\n",
              "      <td>0.014195</td>\n",
              "      <td>5.647362e-03</td>\n",
              "      <td>0.034636</td>\n",
              "    </tr>\n",
              "    <tr>\n",
              "      <th>flag_RSTO</th>\n",
              "      <td>0.000233</td>\n",
              "      <td>0.009938</td>\n",
              "      <td>5.138998e-04</td>\n",
              "      <td>0.000633</td>\n",
              "    </tr>\n",
              "    <tr>\n",
              "      <th>service_uucp</th>\n",
              "      <td>0.000046</td>\n",
              "      <td>0.008939</td>\n",
              "      <td>1.025130e-03</td>\n",
              "      <td>0.000284</td>\n",
              "    </tr>\n",
              "    <tr>\n",
              "      <th>dst_host_same_src_port_rate</th>\n",
              "      <td>0.008988</td>\n",
              "      <td>0.006876</td>\n",
              "      <td>2.970578e-01</td>\n",
              "      <td>0.003630</td>\n",
              "    </tr>\n",
              "    <tr>\n",
              "      <th>flag_REJ</th>\n",
              "      <td>0.000000</td>\n",
              "      <td>0.003812</td>\n",
              "      <td>0.000000e+00</td>\n",
              "      <td>0.000000</td>\n",
              "    </tr>\n",
              "    <tr>\n",
              "      <th>protocol_type_icmp</th>\n",
              "      <td>0.001782</td>\n",
              "      <td>0.003421</td>\n",
              "      <td>0.000000e+00</td>\n",
              "      <td>0.000000</td>\n",
              "    </tr>\n",
              "    <tr>\n",
              "      <th>src_bytes</th>\n",
              "      <td>0.000000</td>\n",
              "      <td>0.003221</td>\n",
              "      <td>0.000000e+00</td>\n",
              "      <td>0.000000</td>\n",
              "    </tr>\n",
              "    <tr>\n",
              "      <th>diff_srv_rate</th>\n",
              "      <td>0.078984</td>\n",
              "      <td>0.002570</td>\n",
              "      <td>0.000000e+00</td>\n",
              "      <td>0.001476</td>\n",
              "    </tr>\n",
              "    <tr>\n",
              "      <th>dst_host_count</th>\n",
              "      <td>0.000580</td>\n",
              "      <td>0.002180</td>\n",
              "      <td>1.373741e-02</td>\n",
              "      <td>0.002821</td>\n",
              "    </tr>\n",
              "    <tr>\n",
              "      <th>same_srv_rate</th>\n",
              "      <td>0.073759</td>\n",
              "      <td>0.002034</td>\n",
              "      <td>0.000000e+00</td>\n",
              "      <td>0.000139</td>\n",
              "    </tr>\n",
              "    <tr>\n",
              "      <th>count</th>\n",
              "      <td>0.003233</td>\n",
              "      <td>0.001412</td>\n",
              "      <td>6.867570e-04</td>\n",
              "      <td>0.003859</td>\n",
              "    </tr>\n",
              "    <tr>\n",
              "      <th>flag_SH</th>\n",
              "      <td>0.000000</td>\n",
              "      <td>0.001281</td>\n",
              "      <td>1.363152e-01</td>\n",
              "      <td>0.030502</td>\n",
              "    </tr>\n",
              "    <tr>\n",
              "      <th>flag_OTH</th>\n",
              "      <td>0.000000</td>\n",
              "      <td>0.001048</td>\n",
              "      <td>3.031541e-03</td>\n",
              "      <td>0.001171</td>\n",
              "    </tr>\n",
              "    <tr>\n",
              "      <th>dst_host_srv_count</th>\n",
              "      <td>0.000046</td>\n",
              "      <td>0.000835</td>\n",
              "      <td>1.394255e-01</td>\n",
              "      <td>0.004442</td>\n",
              "    </tr>\n",
              "    <tr>\n",
              "      <th>service_ftp_data</th>\n",
              "      <td>0.000000</td>\n",
              "      <td>0.000797</td>\n",
              "      <td>9.004119e-07</td>\n",
              "      <td>0.000043</td>\n",
              "    </tr>\n",
              "    <tr>\n",
              "      <th>dst_host_srv_serror_rate</th>\n",
              "      <td>0.001143</td>\n",
              "      <td>0.000675</td>\n",
              "      <td>4.602088e-03</td>\n",
              "      <td>0.001876</td>\n",
              "    </tr>\n",
              "    <tr>\n",
              "      <th>srv_count</th>\n",
              "      <td>0.021228</td>\n",
              "      <td>0.000442</td>\n",
              "      <td>2.412798e-03</td>\n",
              "      <td>0.000081</td>\n",
              "    </tr>\n",
              "    <tr>\n",
              "      <th>dst_bytes</th>\n",
              "      <td>0.000000</td>\n",
              "      <td>0.000391</td>\n",
              "      <td>0.000000e+00</td>\n",
              "      <td>0.000000</td>\n",
              "    </tr>\n",
              "    <tr>\n",
              "      <th>flag_RSTOS0</th>\n",
              "      <td>0.004736</td>\n",
              "      <td>0.000382</td>\n",
              "      <td>0.000000e+00</td>\n",
              "      <td>0.000000</td>\n",
              "    </tr>\n",
              "    <tr>\n",
              "      <th>flag_S2</th>\n",
              "      <td>0.005459</td>\n",
              "      <td>0.000316</td>\n",
              "      <td>6.851998e-04</td>\n",
              "      <td>0.000159</td>\n",
              "    </tr>\n",
              "    <tr>\n",
              "      <th>service_finger</th>\n",
              "      <td>0.000000</td>\n",
              "      <td>0.000270</td>\n",
              "      <td>4.168889e-02</td>\n",
              "      <td>0.013299</td>\n",
              "    </tr>\n",
              "    <tr>\n",
              "      <th>serror_rate</th>\n",
              "      <td>0.000035</td>\n",
              "      <td>0.000182</td>\n",
              "      <td>0.000000e+00</td>\n",
              "      <td>0.000045</td>\n",
              "    </tr>\n",
              "    <tr>\n",
              "      <th>service_other</th>\n",
              "      <td>0.000000</td>\n",
              "      <td>0.000159</td>\n",
              "      <td>0.000000e+00</td>\n",
              "      <td>0.001366</td>\n",
              "    </tr>\n",
              "    <tr>\n",
              "      <th>service_ecr_i</th>\n",
              "      <td>0.000000</td>\n",
              "      <td>0.000153</td>\n",
              "      <td>5.261916e-02</td>\n",
              "      <td>0.002979</td>\n",
              "    </tr>\n",
              "    <tr>\n",
              "      <th>service_eco_i</th>\n",
              "      <td>0.000000</td>\n",
              "      <td>0.000109</td>\n",
              "      <td>0.000000e+00</td>\n",
              "      <td>0.000189</td>\n",
              "    </tr>\n",
              "    <tr>\n",
              "      <th>dst_host_serror_rate</th>\n",
              "      <td>0.626654</td>\n",
              "      <td>0.000102</td>\n",
              "      <td>3.914083e-02</td>\n",
              "      <td>0.002515</td>\n",
              "    </tr>\n",
              "    <tr>\n",
              "      <th>flag_RSTR</th>\n",
              "      <td>0.000000</td>\n",
              "      <td>0.000101</td>\n",
              "      <td>0.000000e+00</td>\n",
              "      <td>0.000855</td>\n",
              "    </tr>\n",
              "    <tr>\n",
              "      <th>service_telnet</th>\n",
              "      <td>0.000000</td>\n",
              "      <td>0.000100</td>\n",
              "      <td>0.000000e+00</td>\n",
              "      <td>0.000040</td>\n",
              "    </tr>\n",
              "    <tr>\n",
              "      <th>dst_host_srv_diff_host_rate</th>\n",
              "      <td>0.000022</td>\n",
              "      <td>0.000093</td>\n",
              "      <td>1.124040e-01</td>\n",
              "      <td>0.004253</td>\n",
              "    </tr>\n",
              "    <tr>\n",
              "      <th>service_private</th>\n",
              "      <td>0.000000</td>\n",
              "      <td>0.000070</td>\n",
              "      <td>4.607354e-05</td>\n",
              "      <td>0.000026</td>\n",
              "    </tr>\n",
              "    <tr>\n",
              "      <th>service_smtp</th>\n",
              "      <td>0.000043</td>\n",
              "      <td>0.000043</td>\n",
              "      <td>0.000000e+00</td>\n",
              "      <td>0.000000</td>\n",
              "    </tr>\n",
              "    <tr>\n",
              "      <th>service_domain_u</th>\n",
              "      <td>0.103884</td>\n",
              "      <td>0.000014</td>\n",
              "      <td>0.000000e+00</td>\n",
              "      <td>0.093938</td>\n",
              "    </tr>\n",
              "    <tr>\n",
              "      <th>service_ftp</th>\n",
              "      <td>0.017189</td>\n",
              "      <td>0.000000</td>\n",
              "      <td>0.000000e+00</td>\n",
              "      <td>0.064859</td>\n",
              "    </tr>\n",
              "    <tr>\n",
              "      <th>srv_diff_host_rate</th>\n",
              "      <td>0.000054</td>\n",
              "      <td>0.000000</td>\n",
              "      <td>1.984717e-04</td>\n",
              "      <td>0.000088</td>\n",
              "    </tr>\n",
              "    <tr>\n",
              "      <th>srv_serror_rate</th>\n",
              "      <td>0.001164</td>\n",
              "      <td>0.000000</td>\n",
              "      <td>0.000000e+00</td>\n",
              "      <td>0.000020</td>\n",
              "    </tr>\n",
              "    <tr>\n",
              "      <th>service_auth</th>\n",
              "      <td>0.000000</td>\n",
              "      <td>0.000000</td>\n",
              "      <td>0.000000e+00</td>\n",
              "      <td>0.000181</td>\n",
              "    </tr>\n",
              "    <tr>\n",
              "      <th>service_Z39_50</th>\n",
              "      <td>0.000000</td>\n",
              "      <td>0.000000</td>\n",
              "      <td>0.000000e+00</td>\n",
              "      <td>0.000000</td>\n",
              "    </tr>\n",
              "    <tr>\n",
              "      <th>flag_S0</th>\n",
              "      <td>0.000000</td>\n",
              "      <td>0.000000</td>\n",
              "      <td>0.000000e+00</td>\n",
              "      <td>0.000079</td>\n",
              "    </tr>\n",
              "    <tr>\n",
              "      <th>flag_S1</th>\n",
              "      <td>0.000000</td>\n",
              "      <td>0.000000</td>\n",
              "      <td>1.277575e-04</td>\n",
              "      <td>0.000000</td>\n",
              "    </tr>\n",
              "    <tr>\n",
              "      <th>protocol_type_udp</th>\n",
              "      <td>0.000000</td>\n",
              "      <td>0.000000</td>\n",
              "      <td>0.000000e+00</td>\n",
              "      <td>0.000166</td>\n",
              "    </tr>\n",
              "    <tr>\n",
              "      <th>flag_S3</th>\n",
              "      <td>0.000000</td>\n",
              "      <td>0.000000</td>\n",
              "      <td>0.000000e+00</td>\n",
              "      <td>0.000000</td>\n",
              "    </tr>\n",
              "    <tr>\n",
              "      <th>protocol_type_tcp</th>\n",
              "      <td>0.000000</td>\n",
              "      <td>0.000000</td>\n",
              "      <td>0.000000e+00</td>\n",
              "      <td>0.000000</td>\n",
              "    </tr>\n",
              "  </tbody>\n",
              "</table>\n",
              "</div>"
            ],
            "text/plain": [
              "                                    0         1             2         3\n",
              "dst_host_diff_srv_rate       0.001042  0.309617  1.258930e-02  0.015247\n",
              "service_courier              0.000000  0.301389  0.000000e+00  0.000010\n",
              "flag_SF                      0.040819  0.284453  1.360439e-01  0.712231\n",
              "service_http                 0.008713  0.038382  0.000000e+00  0.001862\n",
              "dst_host_same_srv_rate       0.000163  0.014195  5.647362e-03  0.034636\n",
              "flag_RSTO                    0.000233  0.009938  5.138998e-04  0.000633\n",
              "service_uucp                 0.000046  0.008939  1.025130e-03  0.000284\n",
              "dst_host_same_src_port_rate  0.008988  0.006876  2.970578e-01  0.003630\n",
              "flag_REJ                     0.000000  0.003812  0.000000e+00  0.000000\n",
              "protocol_type_icmp           0.001782  0.003421  0.000000e+00  0.000000\n",
              "src_bytes                    0.000000  0.003221  0.000000e+00  0.000000\n",
              "diff_srv_rate                0.078984  0.002570  0.000000e+00  0.001476\n",
              "dst_host_count               0.000580  0.002180  1.373741e-02  0.002821\n",
              "same_srv_rate                0.073759  0.002034  0.000000e+00  0.000139\n",
              "count                        0.003233  0.001412  6.867570e-04  0.003859\n",
              "flag_SH                      0.000000  0.001281  1.363152e-01  0.030502\n",
              "flag_OTH                     0.000000  0.001048  3.031541e-03  0.001171\n",
              "dst_host_srv_count           0.000046  0.000835  1.394255e-01  0.004442\n",
              "service_ftp_data             0.000000  0.000797  9.004119e-07  0.000043\n",
              "dst_host_srv_serror_rate     0.001143  0.000675  4.602088e-03  0.001876\n",
              "srv_count                    0.021228  0.000442  2.412798e-03  0.000081\n",
              "dst_bytes                    0.000000  0.000391  0.000000e+00  0.000000\n",
              "flag_RSTOS0                  0.004736  0.000382  0.000000e+00  0.000000\n",
              "flag_S2                      0.005459  0.000316  6.851998e-04  0.000159\n",
              "service_finger               0.000000  0.000270  4.168889e-02  0.013299\n",
              "serror_rate                  0.000035  0.000182  0.000000e+00  0.000045\n",
              "service_other                0.000000  0.000159  0.000000e+00  0.001366\n",
              "service_ecr_i                0.000000  0.000153  5.261916e-02  0.002979\n",
              "service_eco_i                0.000000  0.000109  0.000000e+00  0.000189\n",
              "dst_host_serror_rate         0.626654  0.000102  3.914083e-02  0.002515\n",
              "flag_RSTR                    0.000000  0.000101  0.000000e+00  0.000855\n",
              "service_telnet               0.000000  0.000100  0.000000e+00  0.000040\n",
              "dst_host_srv_diff_host_rate  0.000022  0.000093  1.124040e-01  0.004253\n",
              "service_private              0.000000  0.000070  4.607354e-05  0.000026\n",
              "service_smtp                 0.000043  0.000043  0.000000e+00  0.000000\n",
              "service_domain_u             0.103884  0.000014  0.000000e+00  0.093938\n",
              "service_ftp                  0.017189  0.000000  0.000000e+00  0.064859\n",
              "srv_diff_host_rate           0.000054  0.000000  1.984717e-04  0.000088\n",
              "srv_serror_rate              0.001164  0.000000  0.000000e+00  0.000020\n",
              "service_auth                 0.000000  0.000000  0.000000e+00  0.000181\n",
              "service_Z39_50               0.000000  0.000000  0.000000e+00  0.000000\n",
              "flag_S0                      0.000000  0.000000  0.000000e+00  0.000079\n",
              "flag_S1                      0.000000  0.000000  1.277575e-04  0.000000\n",
              "protocol_type_udp            0.000000  0.000000  0.000000e+00  0.000166\n",
              "flag_S3                      0.000000  0.000000  0.000000e+00  0.000000\n",
              "protocol_type_tcp            0.000000  0.000000  0.000000e+00  0.000000"
            ]
          },
          "metadata": {},
          "execution_count": 49
        }
      ]
    },
    {
      "cell_type": "code",
      "metadata": {
        "colab": {
          "base_uri": "https://localhost:8080/",
          "height": 1000
        },
        "id": "ITyNjb7WRnVR",
        "outputId": "c69fccb0-e29f-4735-9228-315c0d14e826"
      },
      "source": [
        "ovr_imps.sort_values(by=2,ascending=False)"
      ],
      "execution_count": null,
      "outputs": [
        {
          "output_type": "execute_result",
          "data": {
            "text/html": [
              "<div>\n",
              "<style scoped>\n",
              "    .dataframe tbody tr th:only-of-type {\n",
              "        vertical-align: middle;\n",
              "    }\n",
              "\n",
              "    .dataframe tbody tr th {\n",
              "        vertical-align: top;\n",
              "    }\n",
              "\n",
              "    .dataframe thead th {\n",
              "        text-align: right;\n",
              "    }\n",
              "</style>\n",
              "<table border=\"1\" class=\"dataframe\">\n",
              "  <thead>\n",
              "    <tr style=\"text-align: right;\">\n",
              "      <th></th>\n",
              "      <th>0</th>\n",
              "      <th>1</th>\n",
              "      <th>2</th>\n",
              "      <th>3</th>\n",
              "    </tr>\n",
              "  </thead>\n",
              "  <tbody>\n",
              "    <tr>\n",
              "      <th>dst_host_same_src_port_rate</th>\n",
              "      <td>0.008988</td>\n",
              "      <td>0.006876</td>\n",
              "      <td>2.970578e-01</td>\n",
              "      <td>0.003630</td>\n",
              "    </tr>\n",
              "    <tr>\n",
              "      <th>dst_host_srv_count</th>\n",
              "      <td>0.000046</td>\n",
              "      <td>0.000835</td>\n",
              "      <td>1.394255e-01</td>\n",
              "      <td>0.004442</td>\n",
              "    </tr>\n",
              "    <tr>\n",
              "      <th>flag_SH</th>\n",
              "      <td>0.000000</td>\n",
              "      <td>0.001281</td>\n",
              "      <td>1.363152e-01</td>\n",
              "      <td>0.030502</td>\n",
              "    </tr>\n",
              "    <tr>\n",
              "      <th>flag_SF</th>\n",
              "      <td>0.040819</td>\n",
              "      <td>0.284453</td>\n",
              "      <td>1.360439e-01</td>\n",
              "      <td>0.712231</td>\n",
              "    </tr>\n",
              "    <tr>\n",
              "      <th>dst_host_srv_diff_host_rate</th>\n",
              "      <td>0.000022</td>\n",
              "      <td>0.000093</td>\n",
              "      <td>1.124040e-01</td>\n",
              "      <td>0.004253</td>\n",
              "    </tr>\n",
              "    <tr>\n",
              "      <th>service_ecr_i</th>\n",
              "      <td>0.000000</td>\n",
              "      <td>0.000153</td>\n",
              "      <td>5.261916e-02</td>\n",
              "      <td>0.002979</td>\n",
              "    </tr>\n",
              "    <tr>\n",
              "      <th>service_finger</th>\n",
              "      <td>0.000000</td>\n",
              "      <td>0.000270</td>\n",
              "      <td>4.168889e-02</td>\n",
              "      <td>0.013299</td>\n",
              "    </tr>\n",
              "    <tr>\n",
              "      <th>dst_host_serror_rate</th>\n",
              "      <td>0.626654</td>\n",
              "      <td>0.000102</td>\n",
              "      <td>3.914083e-02</td>\n",
              "      <td>0.002515</td>\n",
              "    </tr>\n",
              "    <tr>\n",
              "      <th>dst_host_count</th>\n",
              "      <td>0.000580</td>\n",
              "      <td>0.002180</td>\n",
              "      <td>1.373741e-02</td>\n",
              "      <td>0.002821</td>\n",
              "    </tr>\n",
              "    <tr>\n",
              "      <th>dst_host_diff_srv_rate</th>\n",
              "      <td>0.001042</td>\n",
              "      <td>0.309617</td>\n",
              "      <td>1.258930e-02</td>\n",
              "      <td>0.015247</td>\n",
              "    </tr>\n",
              "    <tr>\n",
              "      <th>dst_host_same_srv_rate</th>\n",
              "      <td>0.000163</td>\n",
              "      <td>0.014195</td>\n",
              "      <td>5.647362e-03</td>\n",
              "      <td>0.034636</td>\n",
              "    </tr>\n",
              "    <tr>\n",
              "      <th>dst_host_srv_serror_rate</th>\n",
              "      <td>0.001143</td>\n",
              "      <td>0.000675</td>\n",
              "      <td>4.602088e-03</td>\n",
              "      <td>0.001876</td>\n",
              "    </tr>\n",
              "    <tr>\n",
              "      <th>flag_OTH</th>\n",
              "      <td>0.000000</td>\n",
              "      <td>0.001048</td>\n",
              "      <td>3.031541e-03</td>\n",
              "      <td>0.001171</td>\n",
              "    </tr>\n",
              "    <tr>\n",
              "      <th>srv_count</th>\n",
              "      <td>0.021228</td>\n",
              "      <td>0.000442</td>\n",
              "      <td>2.412798e-03</td>\n",
              "      <td>0.000081</td>\n",
              "    </tr>\n",
              "    <tr>\n",
              "      <th>service_uucp</th>\n",
              "      <td>0.000046</td>\n",
              "      <td>0.008939</td>\n",
              "      <td>1.025130e-03</td>\n",
              "      <td>0.000284</td>\n",
              "    </tr>\n",
              "    <tr>\n",
              "      <th>count</th>\n",
              "      <td>0.003233</td>\n",
              "      <td>0.001412</td>\n",
              "      <td>6.867570e-04</td>\n",
              "      <td>0.003859</td>\n",
              "    </tr>\n",
              "    <tr>\n",
              "      <th>flag_S2</th>\n",
              "      <td>0.005459</td>\n",
              "      <td>0.000316</td>\n",
              "      <td>6.851998e-04</td>\n",
              "      <td>0.000159</td>\n",
              "    </tr>\n",
              "    <tr>\n",
              "      <th>flag_RSTO</th>\n",
              "      <td>0.000233</td>\n",
              "      <td>0.009938</td>\n",
              "      <td>5.138998e-04</td>\n",
              "      <td>0.000633</td>\n",
              "    </tr>\n",
              "    <tr>\n",
              "      <th>srv_diff_host_rate</th>\n",
              "      <td>0.000054</td>\n",
              "      <td>0.000000</td>\n",
              "      <td>1.984717e-04</td>\n",
              "      <td>0.000088</td>\n",
              "    </tr>\n",
              "    <tr>\n",
              "      <th>flag_S1</th>\n",
              "      <td>0.000000</td>\n",
              "      <td>0.000000</td>\n",
              "      <td>1.277575e-04</td>\n",
              "      <td>0.000000</td>\n",
              "    </tr>\n",
              "    <tr>\n",
              "      <th>service_private</th>\n",
              "      <td>0.000000</td>\n",
              "      <td>0.000070</td>\n",
              "      <td>4.607354e-05</td>\n",
              "      <td>0.000026</td>\n",
              "    </tr>\n",
              "    <tr>\n",
              "      <th>service_ftp_data</th>\n",
              "      <td>0.000000</td>\n",
              "      <td>0.000797</td>\n",
              "      <td>9.004119e-07</td>\n",
              "      <td>0.000043</td>\n",
              "    </tr>\n",
              "    <tr>\n",
              "      <th>service_smtp</th>\n",
              "      <td>0.000043</td>\n",
              "      <td>0.000043</td>\n",
              "      <td>0.000000e+00</td>\n",
              "      <td>0.000000</td>\n",
              "    </tr>\n",
              "    <tr>\n",
              "      <th>serror_rate</th>\n",
              "      <td>0.000035</td>\n",
              "      <td>0.000182</td>\n",
              "      <td>0.000000e+00</td>\n",
              "      <td>0.000045</td>\n",
              "    </tr>\n",
              "    <tr>\n",
              "      <th>flag_S3</th>\n",
              "      <td>0.000000</td>\n",
              "      <td>0.000000</td>\n",
              "      <td>0.000000e+00</td>\n",
              "      <td>0.000000</td>\n",
              "    </tr>\n",
              "    <tr>\n",
              "      <th>flag_S0</th>\n",
              "      <td>0.000000</td>\n",
              "      <td>0.000000</td>\n",
              "      <td>0.000000e+00</td>\n",
              "      <td>0.000079</td>\n",
              "    </tr>\n",
              "    <tr>\n",
              "      <th>flag_RSTR</th>\n",
              "      <td>0.000000</td>\n",
              "      <td>0.000101</td>\n",
              "      <td>0.000000e+00</td>\n",
              "      <td>0.000855</td>\n",
              "    </tr>\n",
              "    <tr>\n",
              "      <th>flag_RSTOS0</th>\n",
              "      <td>0.004736</td>\n",
              "      <td>0.000382</td>\n",
              "      <td>0.000000e+00</td>\n",
              "      <td>0.000000</td>\n",
              "    </tr>\n",
              "    <tr>\n",
              "      <th>flag_REJ</th>\n",
              "      <td>0.000000</td>\n",
              "      <td>0.003812</td>\n",
              "      <td>0.000000e+00</td>\n",
              "      <td>0.000000</td>\n",
              "    </tr>\n",
              "    <tr>\n",
              "      <th>srv_serror_rate</th>\n",
              "      <td>0.001164</td>\n",
              "      <td>0.000000</td>\n",
              "      <td>0.000000e+00</td>\n",
              "      <td>0.000020</td>\n",
              "    </tr>\n",
              "    <tr>\n",
              "      <th>same_srv_rate</th>\n",
              "      <td>0.073759</td>\n",
              "      <td>0.002034</td>\n",
              "      <td>0.000000e+00</td>\n",
              "      <td>0.000139</td>\n",
              "    </tr>\n",
              "    <tr>\n",
              "      <th>service_telnet</th>\n",
              "      <td>0.000000</td>\n",
              "      <td>0.000100</td>\n",
              "      <td>0.000000e+00</td>\n",
              "      <td>0.000040</td>\n",
              "    </tr>\n",
              "    <tr>\n",
              "      <th>dst_bytes</th>\n",
              "      <td>0.000000</td>\n",
              "      <td>0.000391</td>\n",
              "      <td>0.000000e+00</td>\n",
              "      <td>0.000000</td>\n",
              "    </tr>\n",
              "    <tr>\n",
              "      <th>protocol_type_icmp</th>\n",
              "      <td>0.001782</td>\n",
              "      <td>0.003421</td>\n",
              "      <td>0.000000e+00</td>\n",
              "      <td>0.000000</td>\n",
              "    </tr>\n",
              "    <tr>\n",
              "      <th>service_other</th>\n",
              "      <td>0.000000</td>\n",
              "      <td>0.000159</td>\n",
              "      <td>0.000000e+00</td>\n",
              "      <td>0.001366</td>\n",
              "    </tr>\n",
              "    <tr>\n",
              "      <th>service_http</th>\n",
              "      <td>0.008713</td>\n",
              "      <td>0.038382</td>\n",
              "      <td>0.000000e+00</td>\n",
              "      <td>0.001862</td>\n",
              "    </tr>\n",
              "    <tr>\n",
              "      <th>service_ftp</th>\n",
              "      <td>0.017189</td>\n",
              "      <td>0.000000</td>\n",
              "      <td>0.000000e+00</td>\n",
              "      <td>0.064859</td>\n",
              "    </tr>\n",
              "    <tr>\n",
              "      <th>diff_srv_rate</th>\n",
              "      <td>0.078984</td>\n",
              "      <td>0.002570</td>\n",
              "      <td>0.000000e+00</td>\n",
              "      <td>0.001476</td>\n",
              "    </tr>\n",
              "    <tr>\n",
              "      <th>service_eco_i</th>\n",
              "      <td>0.000000</td>\n",
              "      <td>0.000109</td>\n",
              "      <td>0.000000e+00</td>\n",
              "      <td>0.000189</td>\n",
              "    </tr>\n",
              "    <tr>\n",
              "      <th>src_bytes</th>\n",
              "      <td>0.000000</td>\n",
              "      <td>0.003221</td>\n",
              "      <td>0.000000e+00</td>\n",
              "      <td>0.000000</td>\n",
              "    </tr>\n",
              "    <tr>\n",
              "      <th>service_courier</th>\n",
              "      <td>0.000000</td>\n",
              "      <td>0.301389</td>\n",
              "      <td>0.000000e+00</td>\n",
              "      <td>0.000010</td>\n",
              "    </tr>\n",
              "    <tr>\n",
              "      <th>service_auth</th>\n",
              "      <td>0.000000</td>\n",
              "      <td>0.000000</td>\n",
              "      <td>0.000000e+00</td>\n",
              "      <td>0.000181</td>\n",
              "    </tr>\n",
              "    <tr>\n",
              "      <th>service_Z39_50</th>\n",
              "      <td>0.000000</td>\n",
              "      <td>0.000000</td>\n",
              "      <td>0.000000e+00</td>\n",
              "      <td>0.000000</td>\n",
              "    </tr>\n",
              "    <tr>\n",
              "      <th>protocol_type_udp</th>\n",
              "      <td>0.000000</td>\n",
              "      <td>0.000000</td>\n",
              "      <td>0.000000e+00</td>\n",
              "      <td>0.000166</td>\n",
              "    </tr>\n",
              "    <tr>\n",
              "      <th>protocol_type_tcp</th>\n",
              "      <td>0.000000</td>\n",
              "      <td>0.000000</td>\n",
              "      <td>0.000000e+00</td>\n",
              "      <td>0.000000</td>\n",
              "    </tr>\n",
              "    <tr>\n",
              "      <th>service_domain_u</th>\n",
              "      <td>0.103884</td>\n",
              "      <td>0.000014</td>\n",
              "      <td>0.000000e+00</td>\n",
              "      <td>0.093938</td>\n",
              "    </tr>\n",
              "  </tbody>\n",
              "</table>\n",
              "</div>"
            ],
            "text/plain": [
              "                                    0         1             2         3\n",
              "dst_host_same_src_port_rate  0.008988  0.006876  2.970578e-01  0.003630\n",
              "dst_host_srv_count           0.000046  0.000835  1.394255e-01  0.004442\n",
              "flag_SH                      0.000000  0.001281  1.363152e-01  0.030502\n",
              "flag_SF                      0.040819  0.284453  1.360439e-01  0.712231\n",
              "dst_host_srv_diff_host_rate  0.000022  0.000093  1.124040e-01  0.004253\n",
              "service_ecr_i                0.000000  0.000153  5.261916e-02  0.002979\n",
              "service_finger               0.000000  0.000270  4.168889e-02  0.013299\n",
              "dst_host_serror_rate         0.626654  0.000102  3.914083e-02  0.002515\n",
              "dst_host_count               0.000580  0.002180  1.373741e-02  0.002821\n",
              "dst_host_diff_srv_rate       0.001042  0.309617  1.258930e-02  0.015247\n",
              "dst_host_same_srv_rate       0.000163  0.014195  5.647362e-03  0.034636\n",
              "dst_host_srv_serror_rate     0.001143  0.000675  4.602088e-03  0.001876\n",
              "flag_OTH                     0.000000  0.001048  3.031541e-03  0.001171\n",
              "srv_count                    0.021228  0.000442  2.412798e-03  0.000081\n",
              "service_uucp                 0.000046  0.008939  1.025130e-03  0.000284\n",
              "count                        0.003233  0.001412  6.867570e-04  0.003859\n",
              "flag_S2                      0.005459  0.000316  6.851998e-04  0.000159\n",
              "flag_RSTO                    0.000233  0.009938  5.138998e-04  0.000633\n",
              "srv_diff_host_rate           0.000054  0.000000  1.984717e-04  0.000088\n",
              "flag_S1                      0.000000  0.000000  1.277575e-04  0.000000\n",
              "service_private              0.000000  0.000070  4.607354e-05  0.000026\n",
              "service_ftp_data             0.000000  0.000797  9.004119e-07  0.000043\n",
              "service_smtp                 0.000043  0.000043  0.000000e+00  0.000000\n",
              "serror_rate                  0.000035  0.000182  0.000000e+00  0.000045\n",
              "flag_S3                      0.000000  0.000000  0.000000e+00  0.000000\n",
              "flag_S0                      0.000000  0.000000  0.000000e+00  0.000079\n",
              "flag_RSTR                    0.000000  0.000101  0.000000e+00  0.000855\n",
              "flag_RSTOS0                  0.004736  0.000382  0.000000e+00  0.000000\n",
              "flag_REJ                     0.000000  0.003812  0.000000e+00  0.000000\n",
              "srv_serror_rate              0.001164  0.000000  0.000000e+00  0.000020\n",
              "same_srv_rate                0.073759  0.002034  0.000000e+00  0.000139\n",
              "service_telnet               0.000000  0.000100  0.000000e+00  0.000040\n",
              "dst_bytes                    0.000000  0.000391  0.000000e+00  0.000000\n",
              "protocol_type_icmp           0.001782  0.003421  0.000000e+00  0.000000\n",
              "service_other                0.000000  0.000159  0.000000e+00  0.001366\n",
              "service_http                 0.008713  0.038382  0.000000e+00  0.001862\n",
              "service_ftp                  0.017189  0.000000  0.000000e+00  0.064859\n",
              "diff_srv_rate                0.078984  0.002570  0.000000e+00  0.001476\n",
              "service_eco_i                0.000000  0.000109  0.000000e+00  0.000189\n",
              "src_bytes                    0.000000  0.003221  0.000000e+00  0.000000\n",
              "service_courier              0.000000  0.301389  0.000000e+00  0.000010\n",
              "service_auth                 0.000000  0.000000  0.000000e+00  0.000181\n",
              "service_Z39_50               0.000000  0.000000  0.000000e+00  0.000000\n",
              "protocol_type_udp            0.000000  0.000000  0.000000e+00  0.000166\n",
              "protocol_type_tcp            0.000000  0.000000  0.000000e+00  0.000000\n",
              "service_domain_u             0.103884  0.000014  0.000000e+00  0.093938"
            ]
          },
          "metadata": {},
          "execution_count": 50
        }
      ]
    },
    {
      "cell_type": "code",
      "metadata": {
        "colab": {
          "base_uri": "https://localhost:8080/",
          "height": 1000
        },
        "id": "cCu65p6MRtIQ",
        "outputId": "df206020-0676-454c-e90c-3f40806a0493"
      },
      "source": [
        "ovr_imps.sort_values(by=3,ascending=False)"
      ],
      "execution_count": null,
      "outputs": [
        {
          "output_type": "execute_result",
          "data": {
            "text/html": [
              "<div>\n",
              "<style scoped>\n",
              "    .dataframe tbody tr th:only-of-type {\n",
              "        vertical-align: middle;\n",
              "    }\n",
              "\n",
              "    .dataframe tbody tr th {\n",
              "        vertical-align: top;\n",
              "    }\n",
              "\n",
              "    .dataframe thead th {\n",
              "        text-align: right;\n",
              "    }\n",
              "</style>\n",
              "<table border=\"1\" class=\"dataframe\">\n",
              "  <thead>\n",
              "    <tr style=\"text-align: right;\">\n",
              "      <th></th>\n",
              "      <th>0</th>\n",
              "      <th>1</th>\n",
              "      <th>2</th>\n",
              "      <th>3</th>\n",
              "    </tr>\n",
              "  </thead>\n",
              "  <tbody>\n",
              "    <tr>\n",
              "      <th>flag_SF</th>\n",
              "      <td>0.040819</td>\n",
              "      <td>0.284453</td>\n",
              "      <td>1.360439e-01</td>\n",
              "      <td>0.712231</td>\n",
              "    </tr>\n",
              "    <tr>\n",
              "      <th>service_domain_u</th>\n",
              "      <td>0.103884</td>\n",
              "      <td>0.000014</td>\n",
              "      <td>0.000000e+00</td>\n",
              "      <td>0.093938</td>\n",
              "    </tr>\n",
              "    <tr>\n",
              "      <th>service_ftp</th>\n",
              "      <td>0.017189</td>\n",
              "      <td>0.000000</td>\n",
              "      <td>0.000000e+00</td>\n",
              "      <td>0.064859</td>\n",
              "    </tr>\n",
              "    <tr>\n",
              "      <th>dst_host_same_srv_rate</th>\n",
              "      <td>0.000163</td>\n",
              "      <td>0.014195</td>\n",
              "      <td>5.647362e-03</td>\n",
              "      <td>0.034636</td>\n",
              "    </tr>\n",
              "    <tr>\n",
              "      <th>flag_SH</th>\n",
              "      <td>0.000000</td>\n",
              "      <td>0.001281</td>\n",
              "      <td>1.363152e-01</td>\n",
              "      <td>0.030502</td>\n",
              "    </tr>\n",
              "    <tr>\n",
              "      <th>dst_host_diff_srv_rate</th>\n",
              "      <td>0.001042</td>\n",
              "      <td>0.309617</td>\n",
              "      <td>1.258930e-02</td>\n",
              "      <td>0.015247</td>\n",
              "    </tr>\n",
              "    <tr>\n",
              "      <th>service_finger</th>\n",
              "      <td>0.000000</td>\n",
              "      <td>0.000270</td>\n",
              "      <td>4.168889e-02</td>\n",
              "      <td>0.013299</td>\n",
              "    </tr>\n",
              "    <tr>\n",
              "      <th>dst_host_srv_count</th>\n",
              "      <td>0.000046</td>\n",
              "      <td>0.000835</td>\n",
              "      <td>1.394255e-01</td>\n",
              "      <td>0.004442</td>\n",
              "    </tr>\n",
              "    <tr>\n",
              "      <th>dst_host_srv_diff_host_rate</th>\n",
              "      <td>0.000022</td>\n",
              "      <td>0.000093</td>\n",
              "      <td>1.124040e-01</td>\n",
              "      <td>0.004253</td>\n",
              "    </tr>\n",
              "    <tr>\n",
              "      <th>count</th>\n",
              "      <td>0.003233</td>\n",
              "      <td>0.001412</td>\n",
              "      <td>6.867570e-04</td>\n",
              "      <td>0.003859</td>\n",
              "    </tr>\n",
              "    <tr>\n",
              "      <th>dst_host_same_src_port_rate</th>\n",
              "      <td>0.008988</td>\n",
              "      <td>0.006876</td>\n",
              "      <td>2.970578e-01</td>\n",
              "      <td>0.003630</td>\n",
              "    </tr>\n",
              "    <tr>\n",
              "      <th>service_ecr_i</th>\n",
              "      <td>0.000000</td>\n",
              "      <td>0.000153</td>\n",
              "      <td>5.261916e-02</td>\n",
              "      <td>0.002979</td>\n",
              "    </tr>\n",
              "    <tr>\n",
              "      <th>dst_host_count</th>\n",
              "      <td>0.000580</td>\n",
              "      <td>0.002180</td>\n",
              "      <td>1.373741e-02</td>\n",
              "      <td>0.002821</td>\n",
              "    </tr>\n",
              "    <tr>\n",
              "      <th>dst_host_serror_rate</th>\n",
              "      <td>0.626654</td>\n",
              "      <td>0.000102</td>\n",
              "      <td>3.914083e-02</td>\n",
              "      <td>0.002515</td>\n",
              "    </tr>\n",
              "    <tr>\n",
              "      <th>dst_host_srv_serror_rate</th>\n",
              "      <td>0.001143</td>\n",
              "      <td>0.000675</td>\n",
              "      <td>4.602088e-03</td>\n",
              "      <td>0.001876</td>\n",
              "    </tr>\n",
              "    <tr>\n",
              "      <th>service_http</th>\n",
              "      <td>0.008713</td>\n",
              "      <td>0.038382</td>\n",
              "      <td>0.000000e+00</td>\n",
              "      <td>0.001862</td>\n",
              "    </tr>\n",
              "    <tr>\n",
              "      <th>diff_srv_rate</th>\n",
              "      <td>0.078984</td>\n",
              "      <td>0.002570</td>\n",
              "      <td>0.000000e+00</td>\n",
              "      <td>0.001476</td>\n",
              "    </tr>\n",
              "    <tr>\n",
              "      <th>service_other</th>\n",
              "      <td>0.000000</td>\n",
              "      <td>0.000159</td>\n",
              "      <td>0.000000e+00</td>\n",
              "      <td>0.001366</td>\n",
              "    </tr>\n",
              "    <tr>\n",
              "      <th>flag_OTH</th>\n",
              "      <td>0.000000</td>\n",
              "      <td>0.001048</td>\n",
              "      <td>3.031541e-03</td>\n",
              "      <td>0.001171</td>\n",
              "    </tr>\n",
              "    <tr>\n",
              "      <th>flag_RSTR</th>\n",
              "      <td>0.000000</td>\n",
              "      <td>0.000101</td>\n",
              "      <td>0.000000e+00</td>\n",
              "      <td>0.000855</td>\n",
              "    </tr>\n",
              "    <tr>\n",
              "      <th>flag_RSTO</th>\n",
              "      <td>0.000233</td>\n",
              "      <td>0.009938</td>\n",
              "      <td>5.138998e-04</td>\n",
              "      <td>0.000633</td>\n",
              "    </tr>\n",
              "    <tr>\n",
              "      <th>service_uucp</th>\n",
              "      <td>0.000046</td>\n",
              "      <td>0.008939</td>\n",
              "      <td>1.025130e-03</td>\n",
              "      <td>0.000284</td>\n",
              "    </tr>\n",
              "    <tr>\n",
              "      <th>service_eco_i</th>\n",
              "      <td>0.000000</td>\n",
              "      <td>0.000109</td>\n",
              "      <td>0.000000e+00</td>\n",
              "      <td>0.000189</td>\n",
              "    </tr>\n",
              "    <tr>\n",
              "      <th>service_auth</th>\n",
              "      <td>0.000000</td>\n",
              "      <td>0.000000</td>\n",
              "      <td>0.000000e+00</td>\n",
              "      <td>0.000181</td>\n",
              "    </tr>\n",
              "    <tr>\n",
              "      <th>protocol_type_udp</th>\n",
              "      <td>0.000000</td>\n",
              "      <td>0.000000</td>\n",
              "      <td>0.000000e+00</td>\n",
              "      <td>0.000166</td>\n",
              "    </tr>\n",
              "    <tr>\n",
              "      <th>flag_S2</th>\n",
              "      <td>0.005459</td>\n",
              "      <td>0.000316</td>\n",
              "      <td>6.851998e-04</td>\n",
              "      <td>0.000159</td>\n",
              "    </tr>\n",
              "    <tr>\n",
              "      <th>same_srv_rate</th>\n",
              "      <td>0.073759</td>\n",
              "      <td>0.002034</td>\n",
              "      <td>0.000000e+00</td>\n",
              "      <td>0.000139</td>\n",
              "    </tr>\n",
              "    <tr>\n",
              "      <th>srv_diff_host_rate</th>\n",
              "      <td>0.000054</td>\n",
              "      <td>0.000000</td>\n",
              "      <td>1.984717e-04</td>\n",
              "      <td>0.000088</td>\n",
              "    </tr>\n",
              "    <tr>\n",
              "      <th>srv_count</th>\n",
              "      <td>0.021228</td>\n",
              "      <td>0.000442</td>\n",
              "      <td>2.412798e-03</td>\n",
              "      <td>0.000081</td>\n",
              "    </tr>\n",
              "    <tr>\n",
              "      <th>flag_S0</th>\n",
              "      <td>0.000000</td>\n",
              "      <td>0.000000</td>\n",
              "      <td>0.000000e+00</td>\n",
              "      <td>0.000079</td>\n",
              "    </tr>\n",
              "    <tr>\n",
              "      <th>serror_rate</th>\n",
              "      <td>0.000035</td>\n",
              "      <td>0.000182</td>\n",
              "      <td>0.000000e+00</td>\n",
              "      <td>0.000045</td>\n",
              "    </tr>\n",
              "    <tr>\n",
              "      <th>service_ftp_data</th>\n",
              "      <td>0.000000</td>\n",
              "      <td>0.000797</td>\n",
              "      <td>9.004119e-07</td>\n",
              "      <td>0.000043</td>\n",
              "    </tr>\n",
              "    <tr>\n",
              "      <th>service_telnet</th>\n",
              "      <td>0.000000</td>\n",
              "      <td>0.000100</td>\n",
              "      <td>0.000000e+00</td>\n",
              "      <td>0.000040</td>\n",
              "    </tr>\n",
              "    <tr>\n",
              "      <th>service_private</th>\n",
              "      <td>0.000000</td>\n",
              "      <td>0.000070</td>\n",
              "      <td>4.607354e-05</td>\n",
              "      <td>0.000026</td>\n",
              "    </tr>\n",
              "    <tr>\n",
              "      <th>srv_serror_rate</th>\n",
              "      <td>0.001164</td>\n",
              "      <td>0.000000</td>\n",
              "      <td>0.000000e+00</td>\n",
              "      <td>0.000020</td>\n",
              "    </tr>\n",
              "    <tr>\n",
              "      <th>service_courier</th>\n",
              "      <td>0.000000</td>\n",
              "      <td>0.301389</td>\n",
              "      <td>0.000000e+00</td>\n",
              "      <td>0.000010</td>\n",
              "    </tr>\n",
              "    <tr>\n",
              "      <th>service_smtp</th>\n",
              "      <td>0.000043</td>\n",
              "      <td>0.000043</td>\n",
              "      <td>0.000000e+00</td>\n",
              "      <td>0.000000</td>\n",
              "    </tr>\n",
              "    <tr>\n",
              "      <th>protocol_type_tcp</th>\n",
              "      <td>0.000000</td>\n",
              "      <td>0.000000</td>\n",
              "      <td>0.000000e+00</td>\n",
              "      <td>0.000000</td>\n",
              "    </tr>\n",
              "    <tr>\n",
              "      <th>flag_REJ</th>\n",
              "      <td>0.000000</td>\n",
              "      <td>0.003812</td>\n",
              "      <td>0.000000e+00</td>\n",
              "      <td>0.000000</td>\n",
              "    </tr>\n",
              "    <tr>\n",
              "      <th>src_bytes</th>\n",
              "      <td>0.000000</td>\n",
              "      <td>0.003221</td>\n",
              "      <td>0.000000e+00</td>\n",
              "      <td>0.000000</td>\n",
              "    </tr>\n",
              "    <tr>\n",
              "      <th>flag_RSTOS0</th>\n",
              "      <td>0.004736</td>\n",
              "      <td>0.000382</td>\n",
              "      <td>0.000000e+00</td>\n",
              "      <td>0.000000</td>\n",
              "    </tr>\n",
              "    <tr>\n",
              "      <th>dst_bytes</th>\n",
              "      <td>0.000000</td>\n",
              "      <td>0.000391</td>\n",
              "      <td>0.000000e+00</td>\n",
              "      <td>0.000000</td>\n",
              "    </tr>\n",
              "    <tr>\n",
              "      <th>flag_S1</th>\n",
              "      <td>0.000000</td>\n",
              "      <td>0.000000</td>\n",
              "      <td>1.277575e-04</td>\n",
              "      <td>0.000000</td>\n",
              "    </tr>\n",
              "    <tr>\n",
              "      <th>flag_S3</th>\n",
              "      <td>0.000000</td>\n",
              "      <td>0.000000</td>\n",
              "      <td>0.000000e+00</td>\n",
              "      <td>0.000000</td>\n",
              "    </tr>\n",
              "    <tr>\n",
              "      <th>service_Z39_50</th>\n",
              "      <td>0.000000</td>\n",
              "      <td>0.000000</td>\n",
              "      <td>0.000000e+00</td>\n",
              "      <td>0.000000</td>\n",
              "    </tr>\n",
              "    <tr>\n",
              "      <th>protocol_type_icmp</th>\n",
              "      <td>0.001782</td>\n",
              "      <td>0.003421</td>\n",
              "      <td>0.000000e+00</td>\n",
              "      <td>0.000000</td>\n",
              "    </tr>\n",
              "  </tbody>\n",
              "</table>\n",
              "</div>"
            ],
            "text/plain": [
              "                                    0         1             2         3\n",
              "flag_SF                      0.040819  0.284453  1.360439e-01  0.712231\n",
              "service_domain_u             0.103884  0.000014  0.000000e+00  0.093938\n",
              "service_ftp                  0.017189  0.000000  0.000000e+00  0.064859\n",
              "dst_host_same_srv_rate       0.000163  0.014195  5.647362e-03  0.034636\n",
              "flag_SH                      0.000000  0.001281  1.363152e-01  0.030502\n",
              "dst_host_diff_srv_rate       0.001042  0.309617  1.258930e-02  0.015247\n",
              "service_finger               0.000000  0.000270  4.168889e-02  0.013299\n",
              "dst_host_srv_count           0.000046  0.000835  1.394255e-01  0.004442\n",
              "dst_host_srv_diff_host_rate  0.000022  0.000093  1.124040e-01  0.004253\n",
              "count                        0.003233  0.001412  6.867570e-04  0.003859\n",
              "dst_host_same_src_port_rate  0.008988  0.006876  2.970578e-01  0.003630\n",
              "service_ecr_i                0.000000  0.000153  5.261916e-02  0.002979\n",
              "dst_host_count               0.000580  0.002180  1.373741e-02  0.002821\n",
              "dst_host_serror_rate         0.626654  0.000102  3.914083e-02  0.002515\n",
              "dst_host_srv_serror_rate     0.001143  0.000675  4.602088e-03  0.001876\n",
              "service_http                 0.008713  0.038382  0.000000e+00  0.001862\n",
              "diff_srv_rate                0.078984  0.002570  0.000000e+00  0.001476\n",
              "service_other                0.000000  0.000159  0.000000e+00  0.001366\n",
              "flag_OTH                     0.000000  0.001048  3.031541e-03  0.001171\n",
              "flag_RSTR                    0.000000  0.000101  0.000000e+00  0.000855\n",
              "flag_RSTO                    0.000233  0.009938  5.138998e-04  0.000633\n",
              "service_uucp                 0.000046  0.008939  1.025130e-03  0.000284\n",
              "service_eco_i                0.000000  0.000109  0.000000e+00  0.000189\n",
              "service_auth                 0.000000  0.000000  0.000000e+00  0.000181\n",
              "protocol_type_udp            0.000000  0.000000  0.000000e+00  0.000166\n",
              "flag_S2                      0.005459  0.000316  6.851998e-04  0.000159\n",
              "same_srv_rate                0.073759  0.002034  0.000000e+00  0.000139\n",
              "srv_diff_host_rate           0.000054  0.000000  1.984717e-04  0.000088\n",
              "srv_count                    0.021228  0.000442  2.412798e-03  0.000081\n",
              "flag_S0                      0.000000  0.000000  0.000000e+00  0.000079\n",
              "serror_rate                  0.000035  0.000182  0.000000e+00  0.000045\n",
              "service_ftp_data             0.000000  0.000797  9.004119e-07  0.000043\n",
              "service_telnet               0.000000  0.000100  0.000000e+00  0.000040\n",
              "service_private              0.000000  0.000070  4.607354e-05  0.000026\n",
              "srv_serror_rate              0.001164  0.000000  0.000000e+00  0.000020\n",
              "service_courier              0.000000  0.301389  0.000000e+00  0.000010\n",
              "service_smtp                 0.000043  0.000043  0.000000e+00  0.000000\n",
              "protocol_type_tcp            0.000000  0.000000  0.000000e+00  0.000000\n",
              "flag_REJ                     0.000000  0.003812  0.000000e+00  0.000000\n",
              "src_bytes                    0.000000  0.003221  0.000000e+00  0.000000\n",
              "flag_RSTOS0                  0.004736  0.000382  0.000000e+00  0.000000\n",
              "dst_bytes                    0.000000  0.000391  0.000000e+00  0.000000\n",
              "flag_S1                      0.000000  0.000000  1.277575e-04  0.000000\n",
              "flag_S3                      0.000000  0.000000  0.000000e+00  0.000000\n",
              "service_Z39_50               0.000000  0.000000  0.000000e+00  0.000000\n",
              "protocol_type_icmp           0.001782  0.003421  0.000000e+00  0.000000"
            ]
          },
          "metadata": {},
          "execution_count": 51
        }
      ]
    },
    {
      "cell_type": "code",
      "metadata": {
        "id": "gJCN5pAtY2AU"
      },
      "source": [
        ""
      ],
      "execution_count": null,
      "outputs": []
    },
    {
      "cell_type": "code",
      "metadata": {
        "id": "kTMIl7ZIWcZq"
      },
      "source": [
        "label_map = { 0:'Dos' , 1:'Probe', 2:'R2L' , 3:'Normal'} "
      ],
      "execution_count": null,
      "outputs": []
    },
    {
      "cell_type": "code",
      "metadata": {
        "id": "dbq7IxVbWY3F"
      },
      "source": [
        "coded_df.label = coded_df.label.apply(lambda x : label_map[x])"
      ],
      "execution_count": null,
      "outputs": []
    },
    {
      "cell_type": "code",
      "metadata": {
        "colab": {
          "base_uri": "https://localhost:8080/",
          "height": 338
        },
        "id": "ji0BQpF9UvIh",
        "outputId": "a1bb0845-11f4-4461-a19e-addc3462c12c"
      },
      "source": [
        "ax = coded_df.groupby('label').dst_host_serror_rate.mean().plot(kind='bar')\n",
        "ax.set_title('dst_host_serror_rate mean')"
      ],
      "execution_count": null,
      "outputs": [
        {
          "output_type": "execute_result",
          "data": {
            "text/plain": [
              "Text(0.5, 1.0, 'dst_host_serror_rate mean')"
            ]
          },
          "metadata": {},
          "execution_count": 74
        },
        {
          "output_type": "display_data",
          "data": {
            "image/png": "[encoded data removed]",
            "text/plain": [
              "<Figure size 432x288 with 1 Axes>"
            ]
          },
          "metadata": {
            "needs_background": "light"
          }
        }
      ]
    },
    {
      "cell_type": "code",
      "metadata": {
        "colab": {
          "base_uri": "https://localhost:8080/",
          "height": 338
        },
        "id": "78Q_CkE-WFjb",
        "outputId": "5a361d14-ba52-4645-f058-342597231236"
      },
      "source": [
        "ax = coded_df.groupby('label').dst_host_diff_srv_rate.mean().plot(kind='bar')\n",
        "ax.set_title('dst_host_diff_srv_rate mean')"
      ],
      "execution_count": null,
      "outputs": [
        {
          "output_type": "execute_result",
          "data": {
            "text/plain": [
              "Text(0.5, 1.0, 'dst_host_diff_srv_rate mean')"
            ]
          },
          "metadata": {},
          "execution_count": 75
        },
        {
          "output_type": "display_data",
          "data": {
            "image/png": "[encoded data removed]",
            "text/plain": [
              "<Figure size 432x288 with 1 Axes>"
            ]
          },
          "metadata": {
            "needs_background": "light"
          }
        }
      ]
    },
    {
      "cell_type": "code",
      "metadata": {
        "colab": {
          "base_uri": "https://localhost:8080/",
          "height": 338
        },
        "id": "8fppYpZVW4U7",
        "outputId": "47b16ff1-8913-4fb7-f501-8e6eea52742b"
      },
      "source": [
        "ax = coded_df.groupby('label').dst_host_same_src_port_rate.mean().plot(kind='bar')\n",
        "ax.set_title('dst_host_same_src_port_rate mean')"
      ],
      "execution_count": null,
      "outputs": [
        {
          "output_type": "execute_result",
          "data": {
            "text/plain": [
              "Text(0.5, 1.0, 'dst_host_same_src_port_rate mean')"
            ]
          },
          "metadata": {},
          "execution_count": 76
        },
        {
          "output_type": "display_data",
          "data": {
            "image/png": "[encoded data removed]",
            "text/plain": [
              "<Figure size 432x288 with 1 Axes>"
            ]
          },
          "metadata": {
            "needs_background": "light"
          }
        }
      ]
    },
    {
      "cell_type": "code",
      "metadata": {
        "colab": {
          "base_uri": "https://localhost:8080/",
          "height": 338
        },
        "id": "jDtYcaz4WMeo",
        "outputId": "7597d9d7-4ee5-423e-b867-644a77640bac"
      },
      "source": [
        "ax = coded_df.groupby('label').dst_host_srv_count.median().plot(kind='bar')\n",
        "ax.set_title('dst_host_srv_count median')"
      ],
      "execution_count": null,
      "outputs": [
        {
          "output_type": "execute_result",
          "data": {
            "text/plain": [
              "Text(0.5, 1.0, 'dst_host_srv_count median')"
            ]
          },
          "metadata": {},
          "execution_count": 77
        },
        {
          "output_type": "display_data",
          "data": {
            "image/png": "[encoded data removed]",
            "text/plain": [
              "<Figure size 432x288 with 1 Axes>"
            ]
          },
          "metadata": {
            "needs_background": "light"
          }
        }
      ]
    },
    {
      "cell_type": "code",
      "metadata": {
        "colab": {
          "base_uri": "https://localhost:8080/",
          "height": 322
        },
        "id": "QWTGoWhuX5SX",
        "outputId": "35ea12f5-62ba-4c48-ddc7-a1c4bc4968f4"
      },
      "source": [
        "coded_df.groupby('label').dst_host_same_srv_rate.median().plot(kind='bar')"
      ],
      "execution_count": null,
      "outputs": [
        {
          "output_type": "execute_result",
          "data": {
            "text/plain": [
              "<matplotlib.axes._subplots.AxesSubplot at 0x7f9a4f15a7d0>"
            ]
          },
          "metadata": {},
          "execution_count": 73
        },
        {
          "output_type": "display_data",
          "data": {
            "image/png": "[encoded data removed]",
            "text/plain": [
              "<Figure size 432x288 with 1 Axes>"
            ]
          },
          "metadata": {
            "needs_background": "light"
          }
        }
      ]
    },
    {
      "cell_type": "markdown",
      "metadata": {
        "id": "hSnTaFcwgOtB"
      },
      "source": [
        "## AE"
      ]
    },
    {
      "cell_type": "code",
      "metadata": {
        "id": "6va1kTgvgQy_"
      },
      "source": [
        "from keras.layers import Input\n",
        "from keras.models import Model"
      ],
      "execution_count": null,
      "outputs": []
    },
    {
      "cell_type": "code",
      "metadata": {
        "id": "W6c5Ec0igRke"
      },
      "source": [
        "input_dim = tranformed_train.shape[1]\n",
        "encoding_dim = 50\n",
        "\n",
        "\n",
        "input_layer = Input(shape=(input_dim, ))\n",
        "encoder = Dense(encoding_dim, activation=\"relu\")(input_layer)           \n",
        "output_layer = Dense(input_dim, activation='softmax')(encoder)"
      ],
      "execution_count": null,
      "outputs": []
    },
    {
      "cell_type": "code",
      "metadata": {
        "id": "OPEgg4f28oHg"
      },
      "source": [
        "ae_output = Dense(4, activation='softmax')(encoder)"
      ],
      "execution_count": null,
      "outputs": []
    },
    {
      "cell_type": "code",
      "metadata": {
        "colab": {
          "base_uri": "https://localhost:8080/"
        },
        "id": "EgD3HObTy7gR",
        "outputId": "32986a02-466d-477d-db42-fcf10e1fd0d8"
      },
      "source": [
        "autoencoder = Model(inputs=input_layer, outputs=output_layer)\n",
        "\n",
        "# defining loss function, optimizer, metrics and then compiling model\n",
        "autoencoder.compile(optimizer='adam', loss='mean_squared_error',metrics=['accuracy'])\n",
        "autoencoder.summary()"
      ],
      "execution_count": null,
      "outputs": [
        {
          "output_type": "stream",
          "name": "stdout",
          "text": [
            "Model: \"model_7\"\n",
            "_________________________________________________________________\n",
            " Layer (type)                Output Shape              Param #   \n",
            "=================================================================\n",
            " input_12 (InputLayer)       [(None, 101)]             0         \n",
            "                                                                 \n",
            " dense_31 (Dense)            (None, 50)                5100      \n",
            "                                                                 \n",
            " dense_32 (Dense)            (None, 101)               5151      \n",
            "                                                                 \n",
            "=================================================================\n",
            "Total params: 10,251\n",
            "Trainable params: 10,251\n",
            "Non-trainable params: 0\n",
            "_________________________________________________________________\n"
          ]
        }
      ]
    },
    {
      "cell_type": "code",
      "metadata": {
        "colab": {
          "base_uri": "https://localhost:8080/"
        },
        "id": "hRX_4lve0LB_",
        "outputId": "7b0b7fe0-fc84-4110-f2e5-2ae2a55d8625"
      },
      "source": [
        "history = autoencoder.fit(tranformed_train, tranformed_train, epochs=6, batch_size=500, validation_data=(transformed_test, transformed_test)).history"
      ],
      "execution_count": null,
      "outputs": [
        {
          "output_type": "stream",
          "name": "stdout",
          "text": [
            "Epoch 1/6\n",
            "252/252 [==============================] - 2s 6ms/step - loss: 501528395776.0000 - accuracy: 0.5616 - val_loss: 2225131264.0000 - val_accuracy: 0.7373\n",
            "Epoch 2/6\n",
            "252/252 [==============================] - 1s 5ms/step - loss: 501528068096.0000 - accuracy: 0.6607 - val_loss: 2225131264.0000 - val_accuracy: 0.7205\n",
            "Epoch 3/6\n",
            "252/252 [==============================] - 1s 5ms/step - loss: 501528264704.0000 - accuracy: 0.6734 - val_loss: 2225131264.0000 - val_accuracy: 0.7499\n",
            "Epoch 4/6\n",
            "252/252 [==============================] - 1s 5ms/step - loss: 501528264704.0000 - accuracy: 0.6674 - val_loss: 2225131264.0000 - val_accuracy: 0.7507\n",
            "Epoch 5/6\n",
            "252/252 [==============================] - 1s 5ms/step - loss: 501528363008.0000 - accuracy: 0.6581 - val_loss: 2225131264.0000 - val_accuracy: 0.7462\n",
            "Epoch 6/6\n",
            "252/252 [==============================] - 1s 5ms/step - loss: 501528330240.0000 - accuracy: 0.6397 - val_loss: 2225131264.0000 - val_accuracy: 0.7426\n"
          ]
        }
      ]
    },
    {
      "cell_type": "code",
      "metadata": {
        "id": "y4Kxfmk70QMr"
      },
      "source": [
        "train_predictions = autoencoder.predict(tranformed_train)\n",
        "mse = np.mean(np.power(transformed_test - predictions, 2), axis=1)\n",
        "#error_df = pd.DataFrame({'reconstruction_error': mse, 'true_class': y_test})\n",
        "#error_df = error_df.reset_index()\n",
        "#error_df"
      ],
      "execution_count": null,
      "outputs": []
    },
    {
      "cell_type": "code",
      "metadata": {
        "id": "KRhLYQGu3zNi"
      },
      "source": [
        "test_predictions = autoencoder.predict(transformed_test)"
      ],
      "execution_count": null,
      "outputs": []
    },
    {
      "cell_type": "code",
      "metadata": {
        "colab": {
          "base_uri": "https://localhost:8080/",
          "height": 398
        },
        "id": "I1dQr2Tk2hIa",
        "outputId": "1aaab27b-2a84-40e8-cba0-3bbda2f2c9a4"
      },
      "source": [
        "i_dim = train_predictions.shape[1]\n",
        "\n",
        "ae_classifier = Sequential()\n",
        "#input layer\n",
        "ae_classifier.add(encoder)\n",
        "#hidden layer with 50 neurons\n",
        "#doutput layer\n",
        "ae_classifier.add(Dense(4, activation='sigmoid'))"
      ],
      "execution_count": null,
      "outputs": [
        {
          "output_type": "error",
          "ename": "TypeError",
          "evalue": "ignored",
          "traceback": [
            "\u001b[0;31m---------------------------------------------------------------------------\u001b[0m",
            "\u001b[0;31mTypeError\u001b[0m                                 Traceback (most recent call last)",
            "\u001b[0;32m<ipython-input-219-f15f4dbd87d8>\u001b[0m in \u001b[0;36m<module>\u001b[0;34m()\u001b[0m\n\u001b[1;32m      3\u001b[0m \u001b[0mae_classifier\u001b[0m \u001b[0;34m=\u001b[0m \u001b[0mSequential\u001b[0m\u001b[0;34m(\u001b[0m\u001b[0;34m)\u001b[0m\u001b[0;34m\u001b[0m\u001b[0;34m\u001b[0m\u001b[0m\n\u001b[1;32m      4\u001b[0m \u001b[0;31m#input layer\u001b[0m\u001b[0;34m\u001b[0m\u001b[0;34m\u001b[0m\u001b[0;34m\u001b[0m\u001b[0m\n\u001b[0;32m----> 5\u001b[0;31m \u001b[0mae_classifier\u001b[0m\u001b[0;34m.\u001b[0m\u001b[0madd\u001b[0m\u001b[0;34m(\u001b[0m\u001b[0mencoder\u001b[0m\u001b[0;34m)\u001b[0m\u001b[0;34m\u001b[0m\u001b[0;34m\u001b[0m\u001b[0m\n\u001b[0m\u001b[1;32m      6\u001b[0m \u001b[0;31m#hidden layer with 50 neurons\u001b[0m\u001b[0;34m\u001b[0m\u001b[0;34m\u001b[0m\u001b[0;34m\u001b[0m\u001b[0m\n\u001b[1;32m      7\u001b[0m \u001b[0;31m#doutput layer\u001b[0m\u001b[0;34m\u001b[0m\u001b[0;34m\u001b[0m\u001b[0;34m\u001b[0m\u001b[0m\n",
            "\u001b[0;32m/usr/local/lib/python3.7/dist-packages/tensorflow/python/training/tracking/base.py\u001b[0m in \u001b[0;36m_method_wrapper\u001b[0;34m(self, *args, **kwargs)\u001b[0m\n\u001b[1;32m    528\u001b[0m     \u001b[0mself\u001b[0m\u001b[0;34m.\u001b[0m\u001b[0m_self_setattr_tracking\u001b[0m \u001b[0;34m=\u001b[0m \u001b[0;32mFalse\u001b[0m  \u001b[0;31m# pylint: disable=protected-access\u001b[0m\u001b[0;34m\u001b[0m\u001b[0;34m\u001b[0m\u001b[0m\n\u001b[1;32m    529\u001b[0m     \u001b[0;32mtry\u001b[0m\u001b[0;34m:\u001b[0m\u001b[0;34m\u001b[0m\u001b[0;34m\u001b[0m\u001b[0m\n\u001b[0;32m--> 530\u001b[0;31m       \u001b[0mresult\u001b[0m \u001b[0;34m=\u001b[0m \u001b[0mmethod\u001b[0m\u001b[0;34m(\u001b[0m\u001b[0mself\u001b[0m\u001b[0;34m,\u001b[0m \u001b[0;34m*\u001b[0m\u001b[0margs\u001b[0m\u001b[0;34m,\u001b[0m \u001b[0;34m**\u001b[0m\u001b[0mkwargs\u001b[0m\u001b[0;34m)\u001b[0m\u001b[0;34m\u001b[0m\u001b[0;34m\u001b[0m\u001b[0m\n\u001b[0m\u001b[1;32m    531\u001b[0m     \u001b[0;32mfinally\u001b[0m\u001b[0;34m:\u001b[0m\u001b[0;34m\u001b[0m\u001b[0;34m\u001b[0m\u001b[0m\n\u001b[1;32m    532\u001b[0m       \u001b[0mself\u001b[0m\u001b[0;34m.\u001b[0m\u001b[0m_self_setattr_tracking\u001b[0m \u001b[0;34m=\u001b[0m \u001b[0mprevious_value\u001b[0m  \u001b[0;31m# pylint: disable=protected-access\u001b[0m\u001b[0;34m\u001b[0m\u001b[0;34m\u001b[0m\u001b[0m\n",
            "\u001b[0;32m/usr/local/lib/python3.7/dist-packages/keras/utils/traceback_utils.py\u001b[0m in \u001b[0;36merror_handler\u001b[0;34m(*args, **kwargs)\u001b[0m\n\u001b[1;32m     65\u001b[0m     \u001b[0;32mexcept\u001b[0m \u001b[0mException\u001b[0m \u001b[0;32mas\u001b[0m \u001b[0me\u001b[0m\u001b[0;34m:\u001b[0m  \u001b[0;31m# pylint: disable=broad-except\u001b[0m\u001b[0;34m\u001b[0m\u001b[0;34m\u001b[0m\u001b[0m\n\u001b[1;32m     66\u001b[0m       \u001b[0mfiltered_tb\u001b[0m \u001b[0;34m=\u001b[0m \u001b[0m_process_traceback_frames\u001b[0m\u001b[0;34m(\u001b[0m\u001b[0me\u001b[0m\u001b[0;34m.\u001b[0m\u001b[0m__traceback__\u001b[0m\u001b[0;34m)\u001b[0m\u001b[0;34m\u001b[0m\u001b[0;34m\u001b[0m\u001b[0m\n\u001b[0;32m---> 67\u001b[0;31m       \u001b[0;32mraise\u001b[0m \u001b[0me\u001b[0m\u001b[0;34m.\u001b[0m\u001b[0mwith_traceback\u001b[0m\u001b[0;34m(\u001b[0m\u001b[0mfiltered_tb\u001b[0m\u001b[0;34m)\u001b[0m \u001b[0;32mfrom\u001b[0m \u001b[0;32mNone\u001b[0m\u001b[0;34m\u001b[0m\u001b[0;34m\u001b[0m\u001b[0m\n\u001b[0m\u001b[1;32m     68\u001b[0m     \u001b[0;32mfinally\u001b[0m\u001b[0;34m:\u001b[0m\u001b[0;34m\u001b[0m\u001b[0;34m\u001b[0m\u001b[0m\n\u001b[1;32m     69\u001b[0m       \u001b[0;32mdel\u001b[0m \u001b[0mfiltered_tb\u001b[0m\u001b[0;34m\u001b[0m\u001b[0;34m\u001b[0m\u001b[0m\n",
            "\u001b[0;32m/usr/local/lib/python3.7/dist-packages/keras/engine/sequential.py\u001b[0m in \u001b[0;36madd\u001b[0;34m(self, layer)\u001b[0m\n\u001b[1;32m    176\u001b[0m         \u001b[0mlayer\u001b[0m \u001b[0;34m=\u001b[0m \u001b[0mfunctional\u001b[0m\u001b[0;34m.\u001b[0m\u001b[0mModuleWrapper\u001b[0m\u001b[0;34m(\u001b[0m\u001b[0mlayer\u001b[0m\u001b[0;34m)\u001b[0m\u001b[0;34m\u001b[0m\u001b[0;34m\u001b[0m\u001b[0m\n\u001b[1;32m    177\u001b[0m     \u001b[0;32melse\u001b[0m\u001b[0;34m:\u001b[0m\u001b[0;34m\u001b[0m\u001b[0;34m\u001b[0m\u001b[0m\n\u001b[0;32m--> 178\u001b[0;31m       raise TypeError('The added layer must be an instance of class Layer. '\n\u001b[0m\u001b[1;32m    179\u001b[0m                       f'Received: layer={layer} of type {type(layer)}.')\n\u001b[1;32m    180\u001b[0m \u001b[0;34m\u001b[0m\u001b[0m\n",
            "\u001b[0;31mTypeError\u001b[0m: The added layer must be an instance of class Layer. Received: layer=KerasTensor(type_spec=TensorSpec(shape=(None, 50), dtype=tf.float32, name=None), name='dense_18/Relu:0', description=\"created by layer 'dense_18'\") of type <class 'keras.engine.keras_tensor.KerasTensor'>."
          ]
        }
      ]
    },
    {
      "cell_type": "code",
      "metadata": {
        "id": "4z5vtWBV2jYe"
      },
      "source": [
        "# creating model with input, encoding, decoding, output layers\n",
        "ae_classifier = Model(inputs=input_layer, outputs=ae_output)\n",
        "\n",
        "# defining loss function, optimizer, metrics and then compiling model\n",
        "ae_classifier.compile(optimizer='adam', loss='categorical_crossentropy',metrics=['accuracy'])"
      ],
      "execution_count": null,
      "outputs": []
    },
    {
      "cell_type": "code",
      "metadata": {
        "colab": {
          "base_uri": "https://localhost:8080/"
        },
        "id": "VkUol99K2rVQ",
        "outputId": "16969a4f-1cd5-4c68-c4f8-5a2669fa2416"
      },
      "source": [
        "ae_classifier.summary()"
      ],
      "execution_count": null,
      "outputs": [
        {
          "output_type": "stream",
          "name": "stdout",
          "text": [
            "Model: \"model_8\"\n",
            "_________________________________________________________________\n",
            " Layer (type)                Output Shape              Param #   \n",
            "=================================================================\n",
            " input_12 (InputLayer)       [(None, 101)]             0         \n",
            "                                                                 \n",
            " dense_31 (Dense)            (None, 50)                5100      \n",
            "                                                                 \n",
            " dense_33 (Dense)            (None, 4)                 204       \n",
            "                                                                 \n",
            "=================================================================\n",
            "Total params: 5,304\n",
            "Trainable params: 5,304\n",
            "Non-trainable params: 0\n",
            "_________________________________________________________________\n"
          ]
        }
      ]
    },
    {
      "cell_type": "code",
      "metadata": {
        "colab": {
          "base_uri": "https://localhost:8080/"
        },
        "id": "xg4GVI3z2vhp",
        "outputId": "41fd483a-9160-4588-b3c3-5bb61126baee"
      },
      "source": [
        "his = ae_classifier.fit(train_predictions, y_train, epochs=25, batch_size=500).history"
      ],
      "execution_count": null,
      "outputs": [
        {
          "output_type": "stream",
          "name": "stdout",
          "text": [
            "Epoch 1/25\n",
            "252/252 [==============================] - 1s 4ms/step - loss: 0.7074 - accuracy: 0.7798\n",
            "Epoch 2/25\n",
            "252/252 [==============================] - 1s 4ms/step - loss: 0.3743 - accuracy: 0.8725\n",
            "Epoch 3/25\n",
            "252/252 [==============================] - 1s 4ms/step - loss: 0.3422 - accuracy: 0.8830\n",
            "Epoch 4/25\n",
            "252/252 [==============================] - 1s 4ms/step - loss: 0.3302 - accuracy: 0.8877\n",
            "Epoch 5/25\n",
            "252/252 [==============================] - 1s 4ms/step - loss: 0.3248 - accuracy: 0.8880\n",
            "Epoch 6/25\n",
            "252/252 [==============================] - 1s 4ms/step - loss: 0.3212 - accuracy: 0.8885\n",
            "Epoch 7/25\n",
            "252/252 [==============================] - 1s 4ms/step - loss: 0.3182 - accuracy: 0.8885\n",
            "Epoch 8/25\n",
            "252/252 [==============================] - 1s 4ms/step - loss: 0.3156 - accuracy: 0.8885\n",
            "Epoch 9/25\n",
            "252/252 [==============================] - 1s 4ms/step - loss: 0.3134 - accuracy: 0.8886\n",
            "Epoch 10/25\n",
            "252/252 [==============================] - 1s 4ms/step - loss: 0.3113 - accuracy: 0.8888\n",
            "Epoch 11/25\n",
            "252/252 [==============================] - 1s 4ms/step - loss: 0.3095 - accuracy: 0.8889\n",
            "Epoch 12/25\n",
            "252/252 [==============================] - 1s 4ms/step - loss: 0.3080 - accuracy: 0.8894\n",
            "Epoch 13/25\n",
            "252/252 [==============================] - 1s 4ms/step - loss: 0.3067 - accuracy: 0.8903\n",
            "Epoch 14/25\n",
            "252/252 [==============================] - 1s 4ms/step - loss: 0.3056 - accuracy: 0.8909\n",
            "Epoch 15/25\n",
            "252/252 [==============================] - 1s 4ms/step - loss: 0.3049 - accuracy: 0.8911\n",
            "Epoch 16/25\n",
            "252/252 [==============================] - 1s 4ms/step - loss: 0.3041 - accuracy: 0.8913\n",
            "Epoch 17/25\n",
            "252/252 [==============================] - 1s 4ms/step - loss: 0.3037 - accuracy: 0.8913\n",
            "Epoch 18/25\n",
            "252/252 [==============================] - 1s 4ms/step - loss: 0.3031 - accuracy: 0.8913\n",
            "Epoch 19/25\n",
            "252/252 [==============================] - 1s 4ms/step - loss: 0.3027 - accuracy: 0.8913\n",
            "Epoch 20/25\n",
            "252/252 [==============================] - 1s 4ms/step - loss: 0.3023 - accuracy: 0.8913\n",
            "Epoch 21/25\n",
            "252/252 [==============================] - 1s 4ms/step - loss: 0.3020 - accuracy: 0.8914\n",
            "Epoch 22/25\n",
            "252/252 [==============================] - 1s 4ms/step - loss: 0.3016 - accuracy: 0.8914\n",
            "Epoch 23/25\n",
            "252/252 [==============================] - 1s 4ms/step - loss: 0.3013 - accuracy: 0.8915\n",
            "Epoch 24/25\n",
            "252/252 [==============================] - 1s 4ms/step - loss: 0.3011 - accuracy: 0.8915\n",
            "Epoch 25/25\n",
            "252/252 [==============================] - 1s 4ms/step - loss: 0.3009 - accuracy: 0.8915\n"
          ]
        }
      ]
    },
    {
      "cell_type": "code",
      "metadata": {
        "colab": {
          "base_uri": "https://localhost:8080/"
        },
        "id": "MWiboUVj26og",
        "outputId": "8d24f838-2abd-4226-cb48-b200cd20a426"
      },
      "source": [
        "preds = ae_classifier.predict(transformed_test).argmax(axis=1)\n",
        "\n",
        "print(classification_report(preds, y_test.argmax(axis=1)))"
      ],
      "execution_count": null,
      "outputs": [
        {
          "output_type": "stream",
          "name": "stdout",
          "text": [
            "              precision    recall  f1-score   support\n",
            "\n",
            "           0       0.39      0.80      0.52      3617\n",
            "           1       0.36      0.28      0.32      3145\n",
            "           2       0.00      0.00      0.00         0\n",
            "           3       0.98      0.60      0.75     15715\n",
            "\n",
            "    accuracy                           0.59     22477\n",
            "   macro avg       0.43      0.42      0.40     22477\n",
            "weighted avg       0.80      0.59      0.65     22477\n",
            "\n"
          ]
        },
        {
          "output_type": "stream",
          "name": "stderr",
          "text": [
            "/usr/local/lib/python3.7/dist-packages/sklearn/metrics/_classification.py:1308: UndefinedMetricWarning: Recall and F-score are ill-defined and being set to 0.0 in labels with no true samples. Use `zero_division` parameter to control this behavior.\n",
            "  _warn_prf(average, modifier, msg_start, len(result))\n",
            "/usr/local/lib/python3.7/dist-packages/sklearn/metrics/_classification.py:1308: UndefinedMetricWarning: Recall and F-score are ill-defined and being set to 0.0 in labels with no true samples. Use `zero_division` parameter to control this behavior.\n",
            "  _warn_prf(average, modifier, msg_start, len(result))\n",
            "/usr/local/lib/python3.7/dist-packages/sklearn/metrics/_classification.py:1308: UndefinedMetricWarning: Recall and F-score are ill-defined and being set to 0.0 in labels with no true samples. Use `zero_division` parameter to control this behavior.\n",
            "  _warn_prf(average, modifier, msg_start, len(result))\n"
          ]
        }
      ]
    },
    {
      "cell_type": "code",
      "metadata": {
        "id": "DdVnVOnT3JzJ"
      },
      "source": [
        ""
      ],
      "execution_count": null,
      "outputs": []
    }
  ]
}